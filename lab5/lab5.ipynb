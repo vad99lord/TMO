{
 "cells": [
  {
   "cell_type": "markdown",
   "metadata": {},
   "source": [
    "# Цель лабораторной работы:\n",
    "Изучение линейных моделей, SVM и деревьев решений."
   ]
  },
  {
   "cell_type": "markdown",
   "metadata": {},
   "source": [
    "# Задание:\n",
    "\n",
    "1. Выбрать набор данных (датасет) для решения задачи классификации или регрессии.\n",
    "2. В случае необходимости провести удаление или заполнение пропусков и кодирование категориальных признаков.\n",
    "3. С использованием метода train_test_split разделить выборку на обучающую и тестовую.\n",
    "4. Обучить следующие модели:\n",
    "    1. одну из линейных моделей;\n",
    "    2. SVM;\n",
    "    3. дерево решений.\n",
    "5. Оценить качество моделей с помощью двух подходящих для задачи метрик. Сравнить качество полученных моделей.\n"
   ]
  },
  {
   "cell_type": "markdown",
   "metadata": {},
   "source": [
    "# 1. Импорт библиотек и данных"
   ]
  },
  {
   "cell_type": "code",
   "execution_count": 1,
   "metadata": {
    "_cell_guid": "b1076dfc-b9ad-4769-8c92-a6c4dae69d19",
    "_uuid": "8f2839f25d086af736a60e9eeb907d3b93b6e0e5"
   },
   "outputs": [
    {
     "name": "stdout",
     "output_type": "stream",
     "text": [
      "/kaggle/input/mushroom-classification/mushrooms.csv\n"
     ]
    }
   ],
   "source": [
    "# This Python 3 environment comes with many helpful analytics libraries installed\n",
    "# It is defined by the kaggle/python Docker image: https://github.com/kaggle/docker-python\n",
    "# For example, here's several helpful packages to load\n",
    "\n",
    "import numpy as np # linear algebra\n",
    "import pandas as pd # data processing, CSV file I/O (e.g. pd.read_csv)\n",
    "\n",
    "# Input data files are available in the read-only \"../input/\" directory\n",
    "# For example, running this (by clicking run or pressing Shift+Enter) will list all files under the input directory\n",
    "\n",
    "import os\n",
    "for dirname, _, filenames in os.walk('/kaggle/input'):\n",
    "    for filename in filenames:\n",
    "        print(os.path.join(dirname, filename))\n",
    "\n",
    "# You can write up to 5GB to the current directory (/kaggle/working/) that gets preserved as output when you create a version using \"Save & Run All\" \n",
    "# You can also write temporary files to /kaggle/temp/, but they won't be saved outside of the current session"
   ]
  },
  {
   "cell_type": "code",
   "execution_count": 2,
   "metadata": {
    "_cell_guid": "79c7e3d0-c299-4dcb-8224-4455121ee9b0",
    "_uuid": "d629ff2d2480ee46fbb7e2d37f6b5fab8052498a"
   },
   "outputs": [],
   "source": [
    "import seaborn as sns\n",
    "import matplotlib.pyplot as plt\n",
    "%matplotlib inline\n",
    "sns.set(style=\"ticks\")"
   ]
  },
  {
   "cell_type": "code",
   "execution_count": 3,
   "metadata": {},
   "outputs": [],
   "source": [
    "# Импорт датасета\n",
    "mushrooms = pd.read_csv('/kaggle/input/mushroom-classification/mushrooms.csv', sep=\",\")"
   ]
  },
  {
   "cell_type": "markdown",
   "metadata": {},
   "source": [
    "# 2. Характеристики датасета"
   ]
  },
  {
   "cell_type": "markdown",
   "metadata": {},
   "source": [
    "Для выполнения лабораторной работы был выбран датасет **Mushroom Classification**, который содержит категориальные признаки. Поэтому следует решить задачу классификации: съедобен ли гриб или нет?\n",
    "\n",
    "**Датасет содержит следующие признаки:**\n",
    "\n",
    "    classes: целевой признак; съедобный=e, ядовитый=p)\n",
    "\n",
    "    cap-shape: форма шляпки; bell=b,conical=c,convex=x,flat=f, knobbed=k,sunken=s\n",
    "\n",
    "    cap-surface: поверхность шляпки; fibrous=f,grooves=g,scaly=y,smooth=s\n",
    "\n",
    "    cap-color: цвет шляпки; brown=n,buff=b,cinnamon=c,gray=g,green=r,pink=p,purple=u,red=e,white=w,yellow=y\n",
    "\n",
    "    bruises: пятна; bruises=t,no=f\n",
    "\n",
    "    odor: запах; almond=a,anise=l,creosote=c,fishy=y,foul=f,musty=m,none=n,pungent=p,spicy=s\n",
    "\n",
    "    gill-attachment: крепление гимениальных пластинок; attached=a,descending=d,free=f,notched=n\n",
    "\n",
    "    gill-spacing: расстояние между гимениальными пластинками; close=c,crowded=w,distant=d\n",
    "\n",
    "    gill-size: размер гимениальных пластинок; broad=b,narrow=n\n",
    "\n",
    "    gill-color: цвет гимениальных пластинок; black=k,brown=n,buff=b,chocolate=h,gray=g, green=r,orange=o,pink=p,purple=u,red=e,white=w,yellow=y\n",
    "\n",
    "    stalk-shape: форма ножки; enlarging=e,tapering=t\n",
    "\n",
    "    stalk-root: основание ножки; bulbous=b,club=c,cup=u,equal=e,rhizomorphs=z,rooted=r,missing=?\n",
    "\n",
    "    stalk-surface-above-ring: поверхность ножки над кольцом; fibrous=f,scaly=y,silky=k,smooth=s\n",
    "\n",
    "    stalk-surface-below-ring: поверхность ножки под кольцом; fibrous=f,scaly=y,silky=k,smooth=s\n",
    "\n",
    "    stalk-color-above-ring: цвет ножки над кольцом; brown=n,buff=b,cinnamon=c,gray=g,orange=o,pink=p,red=e,white=w,yellow=y\n",
    "\n",
    "    stalk-color-below-ring: цвет ножки под кольцом; brown=n,buff=b,cinnamon=c,gray=g,orange=o,pink=p,red=e,white=w,yellow=y\n",
    "\n",
    "    veil-type: тип велума; partial=p,universal=u\n",
    "\n",
    "    veil-color: цвет велума; brown=n,orange=o,white=w,yellow=y\n",
    "\n",
    "    ring-number: число колец; none=n,one=o,two=t\n",
    "\n",
    "    ring-type: тип колец; cobwebby=c,evanescent=e,flaring=f,large=l,none=n,pendant=p,sheathing=s,zone=z\n",
    "\n",
    "    spore-print-color: цвет спорового порошка; black=k,brown=n,buff=b,chocolate=h,green=r,orange=o,purple=u,white=w,yellow=y\n",
    "\n",
    "    population: популяция; abundant=a,clustered=c,numerous=n,scattered=s,several=v,solitary=y\n",
    "\n",
    "    habitat: среда обитания; grasses=g,leaves=l,meadows=m,paths=p,urban=u,waste=w,woods=d\n"
   ]
  },
  {
   "cell_type": "code",
   "execution_count": 4,
   "metadata": {},
   "outputs": [
    {
     "data": {
      "text/html": [
       "<div>\n",
       "<style scoped>\n",
       "    .dataframe tbody tr th:only-of-type {\n",
       "        vertical-align: middle;\n",
       "    }\n",
       "\n",
       "    .dataframe tbody tr th {\n",
       "        vertical-align: top;\n",
       "    }\n",
       "\n",
       "    .dataframe thead th {\n",
       "        text-align: right;\n",
       "    }\n",
       "</style>\n",
       "<table border=\"1\" class=\"dataframe\">\n",
       "  <thead>\n",
       "    <tr style=\"text-align: right;\">\n",
       "      <th></th>\n",
       "      <th>class</th>\n",
       "      <th>cap-shape</th>\n",
       "      <th>cap-surface</th>\n",
       "      <th>cap-color</th>\n",
       "      <th>bruises</th>\n",
       "      <th>odor</th>\n",
       "      <th>gill-attachment</th>\n",
       "      <th>gill-spacing</th>\n",
       "      <th>gill-size</th>\n",
       "      <th>gill-color</th>\n",
       "      <th>...</th>\n",
       "      <th>stalk-surface-below-ring</th>\n",
       "      <th>stalk-color-above-ring</th>\n",
       "      <th>stalk-color-below-ring</th>\n",
       "      <th>veil-type</th>\n",
       "      <th>veil-color</th>\n",
       "      <th>ring-number</th>\n",
       "      <th>ring-type</th>\n",
       "      <th>spore-print-color</th>\n",
       "      <th>population</th>\n",
       "      <th>habitat</th>\n",
       "    </tr>\n",
       "  </thead>\n",
       "  <tbody>\n",
       "    <tr>\n",
       "      <th>0</th>\n",
       "      <td>p</td>\n",
       "      <td>x</td>\n",
       "      <td>s</td>\n",
       "      <td>n</td>\n",
       "      <td>t</td>\n",
       "      <td>p</td>\n",
       "      <td>f</td>\n",
       "      <td>c</td>\n",
       "      <td>n</td>\n",
       "      <td>k</td>\n",
       "      <td>...</td>\n",
       "      <td>s</td>\n",
       "      <td>w</td>\n",
       "      <td>w</td>\n",
       "      <td>p</td>\n",
       "      <td>w</td>\n",
       "      <td>o</td>\n",
       "      <td>p</td>\n",
       "      <td>k</td>\n",
       "      <td>s</td>\n",
       "      <td>u</td>\n",
       "    </tr>\n",
       "    <tr>\n",
       "      <th>1</th>\n",
       "      <td>e</td>\n",
       "      <td>x</td>\n",
       "      <td>s</td>\n",
       "      <td>y</td>\n",
       "      <td>t</td>\n",
       "      <td>a</td>\n",
       "      <td>f</td>\n",
       "      <td>c</td>\n",
       "      <td>b</td>\n",
       "      <td>k</td>\n",
       "      <td>...</td>\n",
       "      <td>s</td>\n",
       "      <td>w</td>\n",
       "      <td>w</td>\n",
       "      <td>p</td>\n",
       "      <td>w</td>\n",
       "      <td>o</td>\n",
       "      <td>p</td>\n",
       "      <td>n</td>\n",
       "      <td>n</td>\n",
       "      <td>g</td>\n",
       "    </tr>\n",
       "    <tr>\n",
       "      <th>2</th>\n",
       "      <td>e</td>\n",
       "      <td>b</td>\n",
       "      <td>s</td>\n",
       "      <td>w</td>\n",
       "      <td>t</td>\n",
       "      <td>l</td>\n",
       "      <td>f</td>\n",
       "      <td>c</td>\n",
       "      <td>b</td>\n",
       "      <td>n</td>\n",
       "      <td>...</td>\n",
       "      <td>s</td>\n",
       "      <td>w</td>\n",
       "      <td>w</td>\n",
       "      <td>p</td>\n",
       "      <td>w</td>\n",
       "      <td>o</td>\n",
       "      <td>p</td>\n",
       "      <td>n</td>\n",
       "      <td>n</td>\n",
       "      <td>m</td>\n",
       "    </tr>\n",
       "    <tr>\n",
       "      <th>3</th>\n",
       "      <td>p</td>\n",
       "      <td>x</td>\n",
       "      <td>y</td>\n",
       "      <td>w</td>\n",
       "      <td>t</td>\n",
       "      <td>p</td>\n",
       "      <td>f</td>\n",
       "      <td>c</td>\n",
       "      <td>n</td>\n",
       "      <td>n</td>\n",
       "      <td>...</td>\n",
       "      <td>s</td>\n",
       "      <td>w</td>\n",
       "      <td>w</td>\n",
       "      <td>p</td>\n",
       "      <td>w</td>\n",
       "      <td>o</td>\n",
       "      <td>p</td>\n",
       "      <td>k</td>\n",
       "      <td>s</td>\n",
       "      <td>u</td>\n",
       "    </tr>\n",
       "    <tr>\n",
       "      <th>4</th>\n",
       "      <td>e</td>\n",
       "      <td>x</td>\n",
       "      <td>s</td>\n",
       "      <td>g</td>\n",
       "      <td>f</td>\n",
       "      <td>n</td>\n",
       "      <td>f</td>\n",
       "      <td>w</td>\n",
       "      <td>b</td>\n",
       "      <td>k</td>\n",
       "      <td>...</td>\n",
       "      <td>s</td>\n",
       "      <td>w</td>\n",
       "      <td>w</td>\n",
       "      <td>p</td>\n",
       "      <td>w</td>\n",
       "      <td>o</td>\n",
       "      <td>e</td>\n",
       "      <td>n</td>\n",
       "      <td>a</td>\n",
       "      <td>g</td>\n",
       "    </tr>\n",
       "  </tbody>\n",
       "</table>\n",
       "<p>5 rows × 23 columns</p>\n",
       "</div>"
      ],
      "text/plain": [
       "  class cap-shape cap-surface cap-color bruises odor gill-attachment  \\\n",
       "0     p         x           s         n       t    p               f   \n",
       "1     e         x           s         y       t    a               f   \n",
       "2     e         b           s         w       t    l               f   \n",
       "3     p         x           y         w       t    p               f   \n",
       "4     e         x           s         g       f    n               f   \n",
       "\n",
       "  gill-spacing gill-size gill-color  ... stalk-surface-below-ring  \\\n",
       "0            c         n          k  ...                        s   \n",
       "1            c         b          k  ...                        s   \n",
       "2            c         b          n  ...                        s   \n",
       "3            c         n          n  ...                        s   \n",
       "4            w         b          k  ...                        s   \n",
       "\n",
       "  stalk-color-above-ring stalk-color-below-ring veil-type veil-color  \\\n",
       "0                      w                      w         p          w   \n",
       "1                      w                      w         p          w   \n",
       "2                      w                      w         p          w   \n",
       "3                      w                      w         p          w   \n",
       "4                      w                      w         p          w   \n",
       "\n",
       "  ring-number ring-type spore-print-color population habitat  \n",
       "0           o         p                 k          s       u  \n",
       "1           o         p                 n          n       g  \n",
       "2           o         p                 n          n       m  \n",
       "3           o         p                 k          s       u  \n",
       "4           o         e                 n          a       g  \n",
       "\n",
       "[5 rows x 23 columns]"
      ]
     },
     "execution_count": 4,
     "metadata": {},
     "output_type": "execute_result"
    }
   ],
   "source": [
    "# Первые 5 строк датасета\n",
    "mushrooms.head()"
   ]
  },
  {
   "cell_type": "code",
   "execution_count": 5,
   "metadata": {},
   "outputs": [
    {
     "data": {
      "text/html": [
       "<div>\n",
       "<style scoped>\n",
       "    .dataframe tbody tr th:only-of-type {\n",
       "        vertical-align: middle;\n",
       "    }\n",
       "\n",
       "    .dataframe tbody tr th {\n",
       "        vertical-align: top;\n",
       "    }\n",
       "\n",
       "    .dataframe thead th {\n",
       "        text-align: right;\n",
       "    }\n",
       "</style>\n",
       "<table border=\"1\" class=\"dataframe\">\n",
       "  <thead>\n",
       "    <tr style=\"text-align: right;\">\n",
       "      <th></th>\n",
       "      <th>class</th>\n",
       "      <th>cap-shape</th>\n",
       "      <th>cap-surface</th>\n",
       "      <th>cap-color</th>\n",
       "      <th>bruises</th>\n",
       "      <th>odor</th>\n",
       "      <th>gill-attachment</th>\n",
       "      <th>gill-spacing</th>\n",
       "      <th>gill-size</th>\n",
       "      <th>gill-color</th>\n",
       "      <th>...</th>\n",
       "      <th>stalk-surface-below-ring</th>\n",
       "      <th>stalk-color-above-ring</th>\n",
       "      <th>stalk-color-below-ring</th>\n",
       "      <th>veil-type</th>\n",
       "      <th>veil-color</th>\n",
       "      <th>ring-number</th>\n",
       "      <th>ring-type</th>\n",
       "      <th>spore-print-color</th>\n",
       "      <th>population</th>\n",
       "      <th>habitat</th>\n",
       "    </tr>\n",
       "  </thead>\n",
       "  <tbody>\n",
       "    <tr>\n",
       "      <th>count</th>\n",
       "      <td>8124</td>\n",
       "      <td>8124</td>\n",
       "      <td>8124</td>\n",
       "      <td>8124</td>\n",
       "      <td>8124</td>\n",
       "      <td>8124</td>\n",
       "      <td>8124</td>\n",
       "      <td>8124</td>\n",
       "      <td>8124</td>\n",
       "      <td>8124</td>\n",
       "      <td>...</td>\n",
       "      <td>8124</td>\n",
       "      <td>8124</td>\n",
       "      <td>8124</td>\n",
       "      <td>8124</td>\n",
       "      <td>8124</td>\n",
       "      <td>8124</td>\n",
       "      <td>8124</td>\n",
       "      <td>8124</td>\n",
       "      <td>8124</td>\n",
       "      <td>8124</td>\n",
       "    </tr>\n",
       "    <tr>\n",
       "      <th>unique</th>\n",
       "      <td>2</td>\n",
       "      <td>6</td>\n",
       "      <td>4</td>\n",
       "      <td>10</td>\n",
       "      <td>2</td>\n",
       "      <td>9</td>\n",
       "      <td>2</td>\n",
       "      <td>2</td>\n",
       "      <td>2</td>\n",
       "      <td>12</td>\n",
       "      <td>...</td>\n",
       "      <td>4</td>\n",
       "      <td>9</td>\n",
       "      <td>9</td>\n",
       "      <td>1</td>\n",
       "      <td>4</td>\n",
       "      <td>3</td>\n",
       "      <td>5</td>\n",
       "      <td>9</td>\n",
       "      <td>6</td>\n",
       "      <td>7</td>\n",
       "    </tr>\n",
       "    <tr>\n",
       "      <th>top</th>\n",
       "      <td>e</td>\n",
       "      <td>x</td>\n",
       "      <td>y</td>\n",
       "      <td>n</td>\n",
       "      <td>f</td>\n",
       "      <td>n</td>\n",
       "      <td>f</td>\n",
       "      <td>c</td>\n",
       "      <td>b</td>\n",
       "      <td>b</td>\n",
       "      <td>...</td>\n",
       "      <td>s</td>\n",
       "      <td>w</td>\n",
       "      <td>w</td>\n",
       "      <td>p</td>\n",
       "      <td>w</td>\n",
       "      <td>o</td>\n",
       "      <td>p</td>\n",
       "      <td>w</td>\n",
       "      <td>v</td>\n",
       "      <td>d</td>\n",
       "    </tr>\n",
       "    <tr>\n",
       "      <th>freq</th>\n",
       "      <td>4208</td>\n",
       "      <td>3656</td>\n",
       "      <td>3244</td>\n",
       "      <td>2284</td>\n",
       "      <td>4748</td>\n",
       "      <td>3528</td>\n",
       "      <td>7914</td>\n",
       "      <td>6812</td>\n",
       "      <td>5612</td>\n",
       "      <td>1728</td>\n",
       "      <td>...</td>\n",
       "      <td>4936</td>\n",
       "      <td>4464</td>\n",
       "      <td>4384</td>\n",
       "      <td>8124</td>\n",
       "      <td>7924</td>\n",
       "      <td>7488</td>\n",
       "      <td>3968</td>\n",
       "      <td>2388</td>\n",
       "      <td>4040</td>\n",
       "      <td>3148</td>\n",
       "    </tr>\n",
       "  </tbody>\n",
       "</table>\n",
       "<p>4 rows × 23 columns</p>\n",
       "</div>"
      ],
      "text/plain": [
       "       class cap-shape cap-surface cap-color bruises  odor gill-attachment  \\\n",
       "count   8124      8124        8124      8124    8124  8124            8124   \n",
       "unique     2         6           4        10       2     9               2   \n",
       "top        e         x           y         n       f     n               f   \n",
       "freq    4208      3656        3244      2284    4748  3528            7914   \n",
       "\n",
       "       gill-spacing gill-size gill-color  ... stalk-surface-below-ring  \\\n",
       "count          8124      8124       8124  ...                     8124   \n",
       "unique            2         2         12  ...                        4   \n",
       "top               c         b          b  ...                        s   \n",
       "freq           6812      5612       1728  ...                     4936   \n",
       "\n",
       "       stalk-color-above-ring stalk-color-below-ring veil-type veil-color  \\\n",
       "count                    8124                   8124      8124       8124   \n",
       "unique                      9                      9         1          4   \n",
       "top                         w                      w         p          w   \n",
       "freq                     4464                   4384      8124       7924   \n",
       "\n",
       "       ring-number ring-type spore-print-color population habitat  \n",
       "count         8124      8124              8124       8124    8124  \n",
       "unique           3         5                 9          6       7  \n",
       "top              o         p                 w          v       d  \n",
       "freq          7488      3968              2388       4040    3148  \n",
       "\n",
       "[4 rows x 23 columns]"
      ]
     },
     "execution_count": 5,
     "metadata": {},
     "output_type": "execute_result"
    }
   ],
   "source": [
    "# Статистические характеристики признаков\n",
    "mushrooms.describe()"
   ]
  },
  {
   "cell_type": "code",
   "execution_count": 6,
   "metadata": {},
   "outputs": [
    {
     "data": {
      "text/plain": [
       "class                       0\n",
       "cap-shape                   0\n",
       "cap-surface                 0\n",
       "cap-color                   0\n",
       "bruises                     0\n",
       "odor                        0\n",
       "gill-attachment             0\n",
       "gill-spacing                0\n",
       "gill-size                   0\n",
       "gill-color                  0\n",
       "stalk-shape                 0\n",
       "stalk-root                  0\n",
       "stalk-surface-above-ring    0\n",
       "stalk-surface-below-ring    0\n",
       "stalk-color-above-ring      0\n",
       "stalk-color-below-ring      0\n",
       "veil-type                   0\n",
       "veil-color                  0\n",
       "ring-number                 0\n",
       "ring-type                   0\n",
       "spore-print-color           0\n",
       "population                  0\n",
       "habitat                     0\n",
       "dtype: int64"
      ]
     },
     "execution_count": 6,
     "metadata": {},
     "output_type": "execute_result"
    }
   ],
   "source": [
    "# Количество пропусков в данных\n",
    "mushrooms.isna().sum()"
   ]
  },
  {
   "cell_type": "code",
   "execution_count": 7,
   "metadata": {},
   "outputs": [
    {
     "data": {
      "text/plain": [
       "class                        2\n",
       "cap-shape                    6\n",
       "cap-surface                  4\n",
       "cap-color                   10\n",
       "bruises                      2\n",
       "odor                         9\n",
       "gill-attachment              2\n",
       "gill-spacing                 2\n",
       "gill-size                    2\n",
       "gill-color                  12\n",
       "stalk-shape                  2\n",
       "stalk-root                   5\n",
       "stalk-surface-above-ring     4\n",
       "stalk-surface-below-ring     4\n",
       "stalk-color-above-ring       9\n",
       "stalk-color-below-ring       9\n",
       "veil-type                    1\n",
       "veil-color                   4\n",
       "ring-number                  3\n",
       "ring-type                    5\n",
       "spore-print-color            9\n",
       "population                   6\n",
       "habitat                      7\n",
       "dtype: int64"
      ]
     },
     "execution_count": 7,
     "metadata": {},
     "output_type": "execute_result"
    }
   ],
   "source": [
    "# Количество уникальных значений для каждого признака\n",
    "mushrooms.nunique()"
   ]
  },
  {
   "cell_type": "code",
   "execution_count": 8,
   "metadata": {},
   "outputs": [
    {
     "data": {
      "image/png": "[encoded data removed]",
      "text/plain": [
       "<Figure size 1800x1800 with 23 Axes>"
      ]
     },
     "metadata": {},
     "output_type": "display_data"
    }
   ],
   "source": [
    "# Столбчатые диаграммы для каждого признака по категориям\n",
    "fig = plt.figure(figsize=(25,25))\n",
    "for i in range(mushrooms.shape[1]):\n",
    "    axs = fig.add_subplot(5, 5,i+1)\n",
    "    axs.bar(mushrooms.iloc[:,i].unique(),mushrooms.iloc[:,i].value_counts())\n",
    "    axs.set_title(mushrooms.iloc[:,i].name)"
   ]
  },
  {
   "cell_type": "markdown",
   "metadata": {},
   "source": [
    "Как видно из диаграмм, все признака представляют собой категориальные, преобразуем их в количественные различными методами."
   ]
  },
  {
   "cell_type": "markdown",
   "metadata": {},
   "source": [
    "# 3. Кодирование категориальных признаков и разделение переменных\n",
    "Для кодирования входных признаков применим следующие методы:\n",
    "\n",
    "1. one-hot encoding - каждый класс будет представлен отдельным признаком\n",
    "2. ordinal encoding - будет применен искусственный порядок над классами, количество признаков не изменится\n",
    "\n",
    "Целевой признак *класс гриба* преобразуем в бинарный с помощью средств pandas и numpy."
   ]
  },
  {
   "cell_type": "code",
   "execution_count": 9,
   "metadata": {},
   "outputs": [
    {
     "data": {
      "text/plain": [
       "array([['x', 's', 'n', ..., 'k', 's', 'u'],\n",
       "       ['x', 's', 'y', ..., 'n', 'n', 'g'],\n",
       "       ['b', 's', 'w', ..., 'n', 'n', 'm'],\n",
       "       ...,\n",
       "       ['f', 's', 'n', ..., 'b', 'c', 'l'],\n",
       "       ['k', 'y', 'n', ..., 'w', 'v', 'l'],\n",
       "       ['x', 's', 'n', ..., 'o', 'c', 'l']], dtype=object)"
      ]
     },
     "execution_count": 9,
     "metadata": {},
     "output_type": "execute_result"
    }
   ],
   "source": [
    "# Выделяем входные признаки\n",
    "mushrooms_X = mushrooms.iloc[:, 1:].values\n",
    "mushrooms_X"
   ]
  },
  {
   "cell_type": "code",
   "execution_count": 10,
   "metadata": {},
   "outputs": [
    {
     "data": {
      "text/html": [
       "<div>\n",
       "<style scoped>\n",
       "    .dataframe tbody tr th:only-of-type {\n",
       "        vertical-align: middle;\n",
       "    }\n",
       "\n",
       "    .dataframe tbody tr th {\n",
       "        vertical-align: top;\n",
       "    }\n",
       "\n",
       "    .dataframe thead th {\n",
       "        text-align: right;\n",
       "    }\n",
       "</style>\n",
       "<table border=\"1\" class=\"dataframe\">\n",
       "  <thead>\n",
       "    <tr style=\"text-align: right;\">\n",
       "      <th></th>\n",
       "      <th>cap-shape_b</th>\n",
       "      <th>cap-shape_c</th>\n",
       "      <th>cap-shape_f</th>\n",
       "      <th>cap-shape_k</th>\n",
       "      <th>cap-shape_s</th>\n",
       "      <th>cap-shape_x</th>\n",
       "      <th>cap-surface_f</th>\n",
       "      <th>cap-surface_g</th>\n",
       "      <th>cap-surface_s</th>\n",
       "      <th>cap-surface_y</th>\n",
       "      <th>...</th>\n",
       "      <th>population_s</th>\n",
       "      <th>population_v</th>\n",
       "      <th>population_y</th>\n",
       "      <th>habitat_d</th>\n",
       "      <th>habitat_g</th>\n",
       "      <th>habitat_l</th>\n",
       "      <th>habitat_m</th>\n",
       "      <th>habitat_p</th>\n",
       "      <th>habitat_u</th>\n",
       "      <th>habitat_w</th>\n",
       "    </tr>\n",
       "  </thead>\n",
       "  <tbody>\n",
       "    <tr>\n",
       "      <th>0</th>\n",
       "      <td>0</td>\n",
       "      <td>0</td>\n",
       "      <td>0</td>\n",
       "      <td>0</td>\n",
       "      <td>0</td>\n",
       "      <td>1</td>\n",
       "      <td>0</td>\n",
       "      <td>0</td>\n",
       "      <td>1</td>\n",
       "      <td>0</td>\n",
       "      <td>...</td>\n",
       "      <td>1</td>\n",
       "      <td>0</td>\n",
       "      <td>0</td>\n",
       "      <td>0</td>\n",
       "      <td>0</td>\n",
       "      <td>0</td>\n",
       "      <td>0</td>\n",
       "      <td>0</td>\n",
       "      <td>1</td>\n",
       "      <td>0</td>\n",
       "    </tr>\n",
       "    <tr>\n",
       "      <th>1</th>\n",
       "      <td>0</td>\n",
       "      <td>0</td>\n",
       "      <td>0</td>\n",
       "      <td>0</td>\n",
       "      <td>0</td>\n",
       "      <td>1</td>\n",
       "      <td>0</td>\n",
       "      <td>0</td>\n",
       "      <td>1</td>\n",
       "      <td>0</td>\n",
       "      <td>...</td>\n",
       "      <td>0</td>\n",
       "      <td>0</td>\n",
       "      <td>0</td>\n",
       "      <td>0</td>\n",
       "      <td>1</td>\n",
       "      <td>0</td>\n",
       "      <td>0</td>\n",
       "      <td>0</td>\n",
       "      <td>0</td>\n",
       "      <td>0</td>\n",
       "    </tr>\n",
       "    <tr>\n",
       "      <th>2</th>\n",
       "      <td>1</td>\n",
       "      <td>0</td>\n",
       "      <td>0</td>\n",
       "      <td>0</td>\n",
       "      <td>0</td>\n",
       "      <td>0</td>\n",
       "      <td>0</td>\n",
       "      <td>0</td>\n",
       "      <td>1</td>\n",
       "      <td>0</td>\n",
       "      <td>...</td>\n",
       "      <td>0</td>\n",
       "      <td>0</td>\n",
       "      <td>0</td>\n",
       "      <td>0</td>\n",
       "      <td>0</td>\n",
       "      <td>0</td>\n",
       "      <td>1</td>\n",
       "      <td>0</td>\n",
       "      <td>0</td>\n",
       "      <td>0</td>\n",
       "    </tr>\n",
       "    <tr>\n",
       "      <th>3</th>\n",
       "      <td>0</td>\n",
       "      <td>0</td>\n",
       "      <td>0</td>\n",
       "      <td>0</td>\n",
       "      <td>0</td>\n",
       "      <td>1</td>\n",
       "      <td>0</td>\n",
       "      <td>0</td>\n",
       "      <td>0</td>\n",
       "      <td>1</td>\n",
       "      <td>...</td>\n",
       "      <td>1</td>\n",
       "      <td>0</td>\n",
       "      <td>0</td>\n",
       "      <td>0</td>\n",
       "      <td>0</td>\n",
       "      <td>0</td>\n",
       "      <td>0</td>\n",
       "      <td>0</td>\n",
       "      <td>1</td>\n",
       "      <td>0</td>\n",
       "    </tr>\n",
       "    <tr>\n",
       "      <th>4</th>\n",
       "      <td>0</td>\n",
       "      <td>0</td>\n",
       "      <td>0</td>\n",
       "      <td>0</td>\n",
       "      <td>0</td>\n",
       "      <td>1</td>\n",
       "      <td>0</td>\n",
       "      <td>0</td>\n",
       "      <td>1</td>\n",
       "      <td>0</td>\n",
       "      <td>...</td>\n",
       "      <td>0</td>\n",
       "      <td>0</td>\n",
       "      <td>0</td>\n",
       "      <td>0</td>\n",
       "      <td>1</td>\n",
       "      <td>0</td>\n",
       "      <td>0</td>\n",
       "      <td>0</td>\n",
       "      <td>0</td>\n",
       "      <td>0</td>\n",
       "    </tr>\n",
       "  </tbody>\n",
       "</table>\n",
       "<p>5 rows × 117 columns</p>\n",
       "</div>"
      ],
      "text/plain": [
       "   cap-shape_b  cap-shape_c  cap-shape_f  cap-shape_k  cap-shape_s  \\\n",
       "0            0            0            0            0            0   \n",
       "1            0            0            0            0            0   \n",
       "2            1            0            0            0            0   \n",
       "3            0            0            0            0            0   \n",
       "4            0            0            0            0            0   \n",
       "\n",
       "   cap-shape_x  cap-surface_f  cap-surface_g  cap-surface_s  cap-surface_y  \\\n",
       "0            1              0              0              1              0   \n",
       "1            1              0              0              1              0   \n",
       "2            0              0              0              1              0   \n",
       "3            1              0              0              0              1   \n",
       "4            1              0              0              1              0   \n",
       "\n",
       "   ...  population_s  population_v  population_y  habitat_d  habitat_g  \\\n",
       "0  ...             1             0             0          0          0   \n",
       "1  ...             0             0             0          0          1   \n",
       "2  ...             0             0             0          0          0   \n",
       "3  ...             1             0             0          0          0   \n",
       "4  ...             0             0             0          0          1   \n",
       "\n",
       "   habitat_l  habitat_m  habitat_p  habitat_u  habitat_w  \n",
       "0          0          0          0          1          0  \n",
       "1          0          0          0          0          0  \n",
       "2          0          1          0          0          0  \n",
       "3          0          0          0          1          0  \n",
       "4          0          0          0          0          0  \n",
       "\n",
       "[5 rows x 117 columns]"
      ]
     },
     "execution_count": 10,
     "metadata": {},
     "output_type": "execute_result"
    }
   ],
   "source": [
    "#one-hot encoding для входных признаков\n",
    "mushrooms_ohe_X = pd.get_dummies(mushrooms.drop('class',1))\n",
    "mushrooms_ohe_X.head()"
   ]
  },
  {
   "cell_type": "code",
   "execution_count": 11,
   "metadata": {},
   "outputs": [
    {
     "data": {
      "text/plain": [
       "cap-shape_b     452\n",
       "cap-shape_c       4\n",
       "cap-shape_f    3152\n",
       "cap-shape_k     828\n",
       "cap-shape_s      32\n",
       "               ... \n",
       "habitat_l       832\n",
       "habitat_m       292\n",
       "habitat_p      1144\n",
       "habitat_u       368\n",
       "habitat_w       192\n",
       "Length: 117, dtype: int64"
      ]
     },
     "execution_count": 11,
     "metadata": {},
     "output_type": "execute_result"
    }
   ],
   "source": [
    "# Количество всех классов входных признаков в датасете\n",
    "mushrooms_ohe_X.astype(bool).sum(axis=0)"
   ]
  },
  {
   "cell_type": "code",
   "execution_count": 12,
   "metadata": {},
   "outputs": [],
   "source": [
    "# импорт Ordinal encoding из библиотеки\n",
    "from sklearn.preprocessing import OrdinalEncoder"
   ]
  },
  {
   "cell_type": "code",
   "execution_count": 13,
   "metadata": {},
   "outputs": [
    {
     "data": {
      "text/plain": [
       "array([[5., 2., 4., ..., 2., 3., 5.],\n",
       "       [5., 2., 9., ..., 3., 2., 1.],\n",
       "       [0., 2., 8., ..., 3., 2., 3.],\n",
       "       ...,\n",
       "       [2., 2., 4., ..., 0., 1., 2.],\n",
       "       [3., 3., 4., ..., 7., 4., 2.],\n",
       "       [5., 2., 4., ..., 4., 1., 2.]])"
      ]
     },
     "execution_count": 13,
     "metadata": {},
     "output_type": "execute_result"
    }
   ],
   "source": [
    "# Ordinal encoding для входных признаков\n",
    "oe = OrdinalEncoder(categories='auto')\n",
    "mushrooms_oe_X = oe.fit_transform(mushrooms_X)\n",
    "mushrooms_oe_X"
   ]
  },
  {
   "cell_type": "code",
   "execution_count": 14,
   "metadata": {},
   "outputs": [
    {
     "data": {
      "text/plain": [
       "array(['p', 'e', 'e', ..., 'e', 'p', 'e'], dtype=object)"
      ]
     },
     "execution_count": 14,
     "metadata": {},
     "output_type": "execute_result"
    }
   ],
   "source": [
    "# Выделяем целевой признак\n",
    "mushrooms_y = mushrooms.iloc[:, 0].values\n",
    "mushrooms_y"
   ]
  },
  {
   "cell_type": "code",
   "execution_count": 15,
   "metadata": {},
   "outputs": [
    {
     "data": {
      "text/plain": [
       "array([0, 1, 1, ..., 1, 0, 1])"
      ]
     },
     "execution_count": 15,
     "metadata": {},
     "output_type": "execute_result"
    }
   ],
   "source": [
    "# Преобразуем целевой признак в бинарный\n",
    "mushrooms_le_y = pd.Series(np.where(mushrooms_y == 'e', 1, 0),\n",
    "          mushrooms.index).to_numpy()\n",
    "mushrooms_le_y"
   ]
  },
  {
   "cell_type": "markdown",
   "metadata": {},
   "source": [
    "# 4. Построение моделей\n",
    "Для построения различных моделей по заданию реализуем несколько ключевых функций, которые будут производить Grid Search, выводить значения метрик и генерировать графики для сравнения моделей"
   ]
  },
  {
   "cell_type": "code",
   "execution_count": 16,
   "metadata": {},
   "outputs": [],
   "source": [
    "# Импортируем GridSearch для подбора гиперпараметров\n",
    "from sklearn.model_selection import GridSearchCV\n",
    "import warnings\n",
    "from sklearn.exceptions import ConvergenceWarning,FitFailedWarning\n",
    "from termcolor import colored\n",
    "# Функция подбора гиперпараметра и вывода информации о лучшей модели\n",
    "def grid_search_print_stat(estimator,param_grid,X_train,y_train,cv=None,scoring=None):\n",
    "    grid_search = GridSearchCV(estimator, param_grid, cv=cv, scoring=scoring)\n",
    "    \n",
    "    #fit_time = %timeit -n1 -r1 -o print(grid_search.fit(X_train, y_train))\n",
    "    with warnings.catch_warnings(record=True) as w:\n",
    "        warnings.simplefilter(\"always\")\n",
    "        fit_time = %timeit -n1 -r1 -o print(grid_search.fit(X_train, y_train))\n",
    "        if len(w):\n",
    "            converge_warning = colored('WARNING: there were {} Convergence Errors!'.format(len(w)), color='red')\n",
    "            print(converge_warning)\n",
    "    #%time print(grid_search.fit(X_train, y_train))\n",
    "    display('Gris Search - результаты:')\n",
    "    # Выводим результаты подбора\n",
    "    print(\"Результаты подбора: \",grid_search.cv_results_)\n",
    "    # Лучшая модель\n",
    "    display('Лучшая из построенных моделей:')\n",
    "    print(\"Лучшая модель: \",grid_search.best_estimator_)\n",
    "    # Лучшее значение метрики\n",
    "    print(\"Лучшее значение метрики: \",grid_search.best_score_)\n",
    "    # Лучшее значение параметров\n",
    "    print(\"Лучшее значение параметров: \",grid_search.best_params_)\n",
    "    return grid_search.best_estimator_,fit_time.average,grid_search.best_score_"
   ]
  },
  {
   "cell_type": "code",
   "execution_count": 17,
   "metadata": {},
   "outputs": [],
   "source": [
    "from sklearn.preprocessing import LabelEncoder\n",
    "# Вывод значения метрики для обучающего и тестового набора\n",
    "def print_metric_scores(metrics,y_train,y_test,predict_y_train,predict_y_test):\n",
    "    #копируем массивы в локальные переменные, чтобы не изменять исходные\n",
    "    y_train_copy = y_train\n",
    "    y_test_copy = y_test\n",
    "    predict_y_train_copy = predict_y_train\n",
    "    predict_y_test_copy = predict_y_test\n",
    "    metrics_scores = {}\n",
    "    #если массивы строковые кодируем в числовой формат\n",
    "    if isinstance(y_train[0], str):\n",
    "        le = LabelEncoder()\n",
    "        y_train_copy = le.fit_transform(y_train)\n",
    "        y_test_copy = le.fit_transform(y_test_copy)\n",
    "        predict_y_train_copy = le.fit_transform(predict_y_train_copy)\n",
    "        predict_y_test_copy = le.fit_transform(predict_y_test_copy)\n",
    "    for metric_name, metric in metrics.items():\n",
    "        # Качество для обучающего набора\n",
    "        train_score = metric(y_train_copy, predict_y_train_copy)\n",
    "        print('метрика:', metric_name, '- обучающая выборка: ', train_score)\n",
    "        metrics_scores[metric_name+'_train'] = train_score\n",
    "        # Качество для тестового набора\n",
    "        test_score = metric(y_test_copy, predict_y_test_copy)\n",
    "        print('метрика:', metric_name, '- тестовая выборка: ', test_score)\n",
    "        metrics_scores[metric_name+'_test'] = test_score\n",
    "    return metrics_scores\n",
    "        \n",
    "# Обучение модели и вычисление целевого признака\n",
    "def fit_predict(estimator, X_train, X_test, y_train):\n",
    "    estimator.fit(X_train, y_train)\n",
    "    target_train = estimator.predict(X_train)\n",
    "    target_test = estimator.predict(X_test)\n",
    "    return target_train,target_test\n",
    "# Рассчет метрик для модели\n",
    "def print_model_metrics(estimator, X_train, X_test, y_train, y_test, metrics):\n",
    "    target_train,target_test = fit_predict(estimator,X_train,X_test,y_train)\n",
    "    metrics_scores = print_metric_scores(metrics,y_train,y_test,target_train,target_test)\n",
    "    return target_train,target_test,metrics_scores"
   ]
  },
  {
   "cell_type": "code",
   "execution_count": 18,
   "metadata": {},
   "outputs": [],
   "source": [
    "from sklearn.metrics import accuracy_score, precision_score\n",
    "from typing import Dict\n",
    "# Вывод метрики accuracy для каждого класса\n",
    "def accuracy_score_for_classes(\n",
    "    y_true: np.ndarray, \n",
    "    y_pred: np.ndarray) -> Dict[int, float]:\n",
    "    \"\"\"\n",
    "    Вычисление метрики accuracy для каждого класса\n",
    "    y_true - истинные значения классов\n",
    "    y_pred - предсказанные значения классов\n",
    "    Возвращает словарь: ключ - метка класса, \n",
    "    значение - Accuracy для данного класса\n",
    "    \"\"\"\n",
    "    # Для удобства фильтрации сформируем Pandas DataFrame \n",
    "    d = {'t': y_true, 'p': y_pred}\n",
    "    df = pd.DataFrame(data=d)\n",
    "    # Метки классов\n",
    "    classes = np.unique(y_true)\n",
    "    # Результирующий словарь\n",
    "    res = dict()\n",
    "    # Перебор меток классов\n",
    "    for c in classes:\n",
    "        # отфильтруем данные, которые соответствуют \n",
    "        # текущей метке класса в истинных значениях\n",
    "        temp_data_flt = df[df['t']==c]\n",
    "        # расчет accuracy для заданной метки класса\n",
    "        temp_acc = accuracy_score(\n",
    "            temp_data_flt['t'].values, \n",
    "            temp_data_flt['p'].values)\n",
    "        # сохранение результата в словарь\n",
    "        res[c] = temp_acc\n",
    "    return res\n",
    "\n",
    "def print_accuracy_score_for_classes(\n",
    "    y_true: np.ndarray, \n",
    "    y_pred: np.ndarray):\n",
    "    \"\"\"\n",
    "    Вывод метрики accuracy для каждого класса\n",
    "    \"\"\"\n",
    "    display('Accuracy для каждого класса:')\n",
    "    accs = accuracy_score_for_classes(y_true, y_pred)\n",
    "    if len(accs)>0:\n",
    "        print('Метка \\t Accuracy')\n",
    "    for i in accs:\n",
    "        print('{} \\t {}'.format(i, accs[i]))"
   ]
  },
  {
   "cell_type": "code",
   "execution_count": 19,
   "metadata": {},
   "outputs": [],
   "source": [
    "# Импорт функци разделения выборки\n",
    "from sklearn.model_selection import train_test_split\n",
    "# Функция для построения модели и вывода статистики\n",
    "def build_print_model(mushrooms_X,mushrooms_y,estimator,param_grid,model_name,build_required=True):\n",
    "    # Разделение выборки на обучающую и тестовую\n",
    "    mushrooms_X_train, mushrooms_X_test, mushrooms_y_train, mushrooms_y_test = train_test_split(mushrooms_X, mushrooms_y,\n",
    "                                                                                                test_size=0.7, random_state=42)\n",
    "    if build_required:\n",
    "        # grid search и статистика по нему\n",
    "        best_estimator,fit_time,best_score = grid_search_print_stat(estimator,param_grid, mushrooms_X_train,\n",
    "                                                                mushrooms_y_train,cv=5, scoring='accuracy')\n",
    "    else:\n",
    "        best_estimator = estimator\n",
    "        fit_time=best_score=0\n",
    "    class_metrics = {'accuracy':accuracy_score,'precision':precision_score}\n",
    "    \n",
    "    display('Значения метрик качества:')\n",
    "    # Оценки качества по заданным метрикам\n",
    "    pred_mushrooms_y_train, pred_mushrooms_y_test,scores = print_model_metrics(best_estimator,mushrooms_X_train,mushrooms_X_test,\n",
    "                                                                    mushrooms_y_train,mushrooms_y_test,class_metrics)\n",
    "    # accuracy по классам\n",
    "    print_accuracy_score_for_classes(mushrooms_y_test, pred_mushrooms_y_test)\n",
    "    \n",
    "    # Словарь характеристик модели\n",
    "    lr_oe_stats = {'model_name': model_name,'fit_time':fit_time,\"best_score\":best_score}\n",
    "    lr_oe_stats.update(scores)\n",
    "    return lr_oe_stats, best_estimator"
   ]
  },
  {
   "cell_type": "code",
   "execution_count": 20,
   "metadata": {},
   "outputs": [],
   "source": [
    "#Функция соединения словарей в один, значения каждого ключа в виде листов\n",
    "def dict_zip(*dicts):\n",
    "    return {k: [d[k] for d in dicts] for k in dicts[0].keys()}"
   ]
  },
  {
   "cell_type": "code",
   "execution_count": 21,
   "metadata": {},
   "outputs": [],
   "source": [
    "# Вывод графиков для сравнения моделей\n",
    "def print_models_plots(*stats,plot_time=True):\n",
    "    zip_model_data = dict_zip(*stats)\n",
    "    df = pd.DataFrame(zip_model_data,index=zip_model_data['model_name'])\n",
    "    display(df)\n",
    "    display(df.transpose().iloc[2:,:].plot(kind='bar',title='Значения метрик для моделей',figsize=(10,10)))\n",
    "    if plot_time:\n",
    "        display(df.transpose().iloc[1:2,:].plot(kind='bar', title='Время обучения моделей (в секундах)',figsize=(10,10)))"
   ]
  },
  {
   "cell_type": "markdown",
   "metadata": {},
   "source": [
    "Далее реализуем модели и сравним их качество."
   ]
  },
  {
   "cell_type": "markdown",
   "metadata": {},
   "source": [
    "# 4.1 Линейная модель - Logistic Regression\n",
    "В качестве линейной модели возьмем **Logistic Regression**, который предназначен для бинарной классификации.\n",
    "\n",
    "Сравним качество модели при входных признаках, закодированных методом **one-hot encoding** и **ordinal encoding**.\n",
    "Ожидаем, что качество при **ordinal encoding** будет ниже, так как для каждого признака задается порядок классов, несвойственный ему изначально."
   ]
  },
  {
   "cell_type": "code",
   "execution_count": 22,
   "metadata": {},
   "outputs": [],
   "source": [
    "# импорт модели из библиотеки\n",
    "from sklearn.linear_model import LogisticRegression"
   ]
  },
  {
   "cell_type": "code",
   "execution_count": 23,
   "metadata": {},
   "outputs": [],
   "source": [
    "# Гиперпараметры для решетчатого поиска\n",
    "lr_param_grid = {'C': [0.001, 0.01, 0.1, 1, 10, 100, 1000]}"
   ]
  },
  {
   "cell_type": "code",
   "execution_count": 24,
   "metadata": {},
   "outputs": [
    {
     "name": "stdout",
     "output_type": "stream",
     "text": [
      "GridSearchCV(cv=5, error_score=nan,\n",
      "             estimator=LogisticRegression(C=1.0, class_weight=None, dual=False,\n",
      "                                          fit_intercept=True,\n",
      "                                          intercept_scaling=1, l1_ratio=None,\n",
      "                                          max_iter=100, multi_class='auto',\n",
      "                                          n_jobs=None, penalty='l2',\n",
      "                                          random_state=None, solver='lbfgs',\n",
      "                                          tol=0.0001, verbose=0,\n",
      "                                          warm_start=False),\n",
      "             iid='deprecated', n_jobs=None,\n",
      "             param_grid={'C': [0.001, 0.01, 0.1, 1, 10, 100, 1000]},\n",
      "             pre_dispatch='2*n_jobs', refit=True, return_train_score=False,\n",
      "             scoring='accuracy', verbose=0)\n",
      "1.58 s ± 0 ns per loop (mean ± std. dev. of 1 run, 1 loop each)\n",
      "\u001b[31mWARNING: there were 26 Convergence Errors!\u001b[0m\n"
     ]
    },
    {
     "data": {
      "text/plain": [
       "'Gris Search - результаты:'"
      ]
     },
     "metadata": {},
     "output_type": "display_data"
    },
    {
     "name": "stdout",
     "output_type": "stream",
     "text": [
      "Результаты подбора:  {'mean_fit_time': array([0.01862149, 0.03095498, 0.04901881, 0.04894814, 0.0494153 ,\n",
      "       0.04939575, 0.04825692]), 'std_fit_time': array([0.00371723, 0.00083133, 0.00192619, 0.0009164 , 0.00185452,\n",
      "       0.00060689, 0.0007287 ]), 'mean_score_time': array([0.00052633, 0.00052857, 0.00053658, 0.00052586, 0.00055356,\n",
      "       0.00053549, 0.00052443]), 'std_score_time': array([2.67847543e-05, 2.03688180e-05, 3.11672819e-05, 1.97704069e-05,\n",
      "       2.12358024e-05, 1.35685101e-05, 2.04593705e-05]), 'param_C': masked_array(data=[0.001, 0.01, 0.1, 1, 10, 100, 1000],\n",
      "             mask=[False, False, False, False, False, False, False],\n",
      "       fill_value='?',\n",
      "            dtype=object), 'params': [{'C': 0.001}, {'C': 0.01}, {'C': 0.1}, {'C': 1}, {'C': 10}, {'C': 100}, {'C': 1000}], 'split0_test_score': array([0.8954918 , 0.8954918 , 0.92418033, 0.94877049, 0.95491803,\n",
      "       0.96311475, 0.96311475]), 'split1_test_score': array([0.85040984, 0.8647541 , 0.92418033, 0.94672131, 0.95901639,\n",
      "       0.96516393, 0.96106557]), 'split2_test_score': array([0.87474333, 0.88295688, 0.92813142, 0.95687885, 0.96303901,\n",
      "       0.97535934, 0.97125257]), 'split3_test_score': array([0.88706366, 0.90349076, 0.94045175, 0.95277207, 0.95277207,\n",
      "       0.96714579, 0.96919918]), 'split4_test_score': array([0.83983573, 0.87063655, 0.91581109, 0.95277207, 0.97330595,\n",
      "       0.97946612, 0.97946612]), 'mean_test_score': array([0.86950887, 0.88346602, 0.92655098, 0.95158296, 0.96061029,\n",
      "       0.97004999, 0.96881964]), 'std_test_score': array([0.02124124, 0.01456434, 0.00802888, 0.00353327, 0.00725891,\n",
      "       0.00628105, 0.00651279]), 'rank_test_score': array([7, 6, 5, 4, 3, 1, 2], dtype=int32)}\n"
     ]
    },
    {
     "data": {
      "text/plain": [
       "'Лучшая из построенных моделей:'"
      ]
     },
     "metadata": {},
     "output_type": "display_data"
    },
    {
     "name": "stdout",
     "output_type": "stream",
     "text": [
      "Лучшая модель:  LogisticRegression(C=100, class_weight=None, dual=False, fit_intercept=True,\n",
      "                   intercept_scaling=1, l1_ratio=None, max_iter=100,\n",
      "                   multi_class='auto', n_jobs=None, penalty='l2',\n",
      "                   random_state=None, solver='lbfgs', tol=0.0001, verbose=0,\n",
      "                   warm_start=False)\n",
      "Лучшее значение метрики:  0.9700499882182652\n",
      "Лучшее значение параметров:  {'C': 100}\n"
     ]
    },
    {
     "data": {
      "text/plain": [
       "'Значения метрик качества:'"
      ]
     },
     "metadata": {},
     "output_type": "display_data"
    },
    {
     "name": "stdout",
     "output_type": "stream",
     "text": [
      "метрика: accuracy - обучающая выборка:  0.9716864997948297\n",
      "метрика: accuracy - тестовая выборка:  0.9737998944962194\n",
      "метрика: precision - обучающая выборка:  0.9724349157733537\n",
      "метрика: precision - тестовая выборка:  0.9748449345279118\n"
     ]
    },
    {
     "name": "stderr",
     "output_type": "stream",
     "text": [
      "/opt/conda/lib/python3.7/site-packages/sklearn/linear_model/_logistic.py:940: ConvergenceWarning: lbfgs failed to converge (status=1):\n",
      "STOP: TOTAL NO. of ITERATIONS REACHED LIMIT.\n",
      "\n",
      "Increase the number of iterations (max_iter) or scale the data as shown in:\n",
      "    https://scikit-learn.org/stable/modules/preprocessing.html\n",
      "Please also refer to the documentation for alternative solver options:\n",
      "    https://scikit-learn.org/stable/modules/linear_model.html#logistic-regression\n",
      "  extra_warning_msg=_LOGISTIC_SOLVER_CONVERGENCE_MSG)\n"
     ]
    },
    {
     "data": {
      "text/plain": [
       "'Accuracy для каждого класса:'"
      ]
     },
     "metadata": {},
     "output_type": "display_data"
    },
    {
     "name": "stdout",
     "output_type": "stream",
     "text": [
      "Метка \t Accuracy\n",
      "0 \t 0.9737598849748382\n",
      "1 \t 0.9738382099827882\n"
     ]
    },
    {
     "data": {
      "text/plain": [
       "{'model_name': 'LogisticRegression_oe',\n",
       " 'fit_time': 1.5813907099945936,\n",
       " 'best_score': 0.9700499882182652,\n",
       " 'accuracy_train': 0.9716864997948297,\n",
       " 'accuracy_test': 0.9737998944962194,\n",
       " 'precision_train': 0.9724349157733537,\n",
       " 'precision_test': 0.9748449345279118}"
      ]
     },
     "execution_count": 24,
     "metadata": {},
     "output_type": "execute_result"
    }
   ],
   "source": [
    "# Строим модели при ordinal encoding X признаках и выводим статистику\n",
    "lr_oe_stats, lr_oe_estimator = build_print_model(mushrooms_oe_X,mushrooms_le_y,LogisticRegression(),lr_param_grid,'LogisticRegression_oe')\n",
    "lr_oe_stats"
   ]
  },
  {
   "cell_type": "code",
   "execution_count": 25,
   "metadata": {},
   "outputs": [
    {
     "name": "stdout",
     "output_type": "stream",
     "text": [
      "GridSearchCV(cv=5, error_score=nan,\n",
      "             estimator=LogisticRegression(C=1.0, class_weight=None, dual=False,\n",
      "                                          fit_intercept=True,\n",
      "                                          intercept_scaling=1, l1_ratio=None,\n",
      "                                          max_iter=100, multi_class='auto',\n",
      "                                          n_jobs=None, penalty='l2',\n",
      "                                          random_state=None, solver='lbfgs',\n",
      "                                          tol=0.0001, verbose=0,\n",
      "                                          warm_start=False),\n",
      "             iid='deprecated', n_jobs=None,\n",
      "             param_grid={'C': [0.001, 0.01, 0.1, 1, 10, 100, 1000]},\n",
      "             pre_dispatch='2*n_jobs', refit=True, return_train_score=False,\n",
      "             scoring='accuracy', verbose=0)\n",
      "1.36 s ± 0 ns per loop (mean ± std. dev. of 1 run, 1 loop each)\n",
      "\u001b[31mWARNING: there were 2 Convergence Errors!\u001b[0m\n"
     ]
    },
    {
     "data": {
      "text/plain": [
       "'Gris Search - результаты:'"
      ]
     },
     "metadata": {},
     "output_type": "display_data"
    },
    {
     "name": "stdout",
     "output_type": "stream",
     "text": [
      "Результаты подбора:  {'mean_fit_time': array([0.01354785, 0.01728959, 0.02445884, 0.03780622, 0.05323792,\n",
      "       0.04979668, 0.0483933 ]), 'std_fit_time': array([0.00212022, 0.00195005, 0.00127187, 0.00344192, 0.00288245,\n",
      "       0.00709886, 0.00673512]), 'mean_score_time': array([0.00151258, 0.0015265 , 0.00153308, 0.00155993, 0.00154018,\n",
      "       0.00155802, 0.00158277]), 'std_score_time': array([5.57753552e-05, 3.76304587e-05, 2.82750363e-05, 6.77534091e-05,\n",
      "       3.02699593e-05, 3.83062020e-05, 2.78729980e-05]), 'param_C': masked_array(data=[0.001, 0.01, 0.1, 1, 10, 100, 1000],\n",
      "             mask=[False, False, False, False, False, False, False],\n",
      "       fill_value='?',\n",
      "            dtype=object), 'params': [{'C': 0.001}, {'C': 0.01}, {'C': 0.1}, {'C': 1}, {'C': 10}, {'C': 100}, {'C': 1000}], 'split0_test_score': array([0.90778689, 0.9692623 , 0.98770492, 0.99590164, 0.99590164,\n",
      "       0.99590164, 0.99590164]), 'split1_test_score': array([0.9057377 , 0.97540984, 0.99590164, 1.        , 1.        ,\n",
      "       1.        , 1.        ]), 'split2_test_score': array([0.89117043, 0.96303901, 0.99178645, 0.99794661, 1.        ,\n",
      "       1.        , 1.        ]), 'split3_test_score': array([0.90759754, 0.9835729 , 0.98767967, 0.99589322, 0.99589322,\n",
      "       0.99589322, 0.99589322]), 'split4_test_score': array([0.88090349, 0.97330595, 0.98973306, 1.        , 1.        ,\n",
      "       1.        , 1.        ]), 'mean_test_score': array([0.89863921, 0.972918  , 0.99056115, 0.9979483 , 0.99835897,\n",
      "       0.99835897, 0.99835897]), 'std_test_score': array([0.0108135 , 0.00679478, 0.00307145, 0.00183473, 0.00200984,\n",
      "       0.00200984, 0.00200984]), 'rank_test_score': array([7, 6, 5, 4, 1, 1, 1], dtype=int32)}\n"
     ]
    },
    {
     "data": {
      "text/plain": [
       "'Лучшая из построенных моделей:'"
      ]
     },
     "metadata": {},
     "output_type": "display_data"
    },
    {
     "name": "stdout",
     "output_type": "stream",
     "text": [
      "Лучшая модель:  LogisticRegression(C=10, class_weight=None, dual=False, fit_intercept=True,\n",
      "                   intercept_scaling=1, l1_ratio=None, max_iter=100,\n",
      "                   multi_class='auto', n_jobs=None, penalty='l2',\n",
      "                   random_state=None, solver='lbfgs', tol=0.0001, verbose=0,\n",
      "                   warm_start=False)\n",
      "Лучшее значение метрики:  0.9983589726327129\n",
      "Лучшее значение параметров:  {'C': 10}\n"
     ]
    },
    {
     "data": {
      "text/plain": [
       "'Значения метрик качества:'"
      ]
     },
     "metadata": {},
     "output_type": "display_data"
    },
    {
     "name": "stdout",
     "output_type": "stream",
     "text": [
      "метрика: accuracy - обучающая выборка:  1.0\n",
      "метрика: accuracy - тестовая выборка:  1.0\n",
      "метрика: precision - обучающая выборка:  1.0\n",
      "метрика: precision - тестовая выборка:  1.0\n"
     ]
    },
    {
     "data": {
      "text/plain": [
       "'Accuracy для каждого класса:'"
      ]
     },
     "metadata": {},
     "output_type": "display_data"
    },
    {
     "name": "stdout",
     "output_type": "stream",
     "text": [
      "Метка \t Accuracy\n",
      "0 \t 1.0\n",
      "1 \t 1.0\n"
     ]
    },
    {
     "data": {
      "text/plain": [
       "{'model_name': 'LogisticRegression_ohe',\n",
       " 'fit_time': 1.3585897900047712,\n",
       " 'best_score': 0.9983589726327129,\n",
       " 'accuracy_train': 1.0,\n",
       " 'accuracy_test': 1.0,\n",
       " 'precision_train': 1.0,\n",
       " 'precision_test': 1.0}"
      ]
     },
     "execution_count": 25,
     "metadata": {},
     "output_type": "execute_result"
    }
   ],
   "source": [
    "# Строим модели при one-hot encoding X признаках и выводим статистику\n",
    "lr_ohe_stats, lr_ohe_estimator = build_print_model(mushrooms_ohe_X,mushrooms_le_y,LogisticRegression(),lr_param_grid,'LogisticRegression_ohe')\n",
    "lr_ohe_stats"
   ]
  },
  {
   "cell_type": "code",
   "execution_count": 26,
   "metadata": {},
   "outputs": [
    {
     "data": {
      "text/html": [
       "<div>\n",
       "<style scoped>\n",
       "    .dataframe tbody tr th:only-of-type {\n",
       "        vertical-align: middle;\n",
       "    }\n",
       "\n",
       "    .dataframe tbody tr th {\n",
       "        vertical-align: top;\n",
       "    }\n",
       "\n",
       "    .dataframe thead th {\n",
       "        text-align: right;\n",
       "    }\n",
       "</style>\n",
       "<table border=\"1\" class=\"dataframe\">\n",
       "  <thead>\n",
       "    <tr style=\"text-align: right;\">\n",
       "      <th></th>\n",
       "      <th>model_name</th>\n",
       "      <th>fit_time</th>\n",
       "      <th>best_score</th>\n",
       "      <th>accuracy_train</th>\n",
       "      <th>accuracy_test</th>\n",
       "      <th>precision_train</th>\n",
       "      <th>precision_test</th>\n",
       "    </tr>\n",
       "  </thead>\n",
       "  <tbody>\n",
       "    <tr>\n",
       "      <th>LogisticRegression_oe</th>\n",
       "      <td>LogisticRegression_oe</td>\n",
       "      <td>1.581391</td>\n",
       "      <td>0.970050</td>\n",
       "      <td>0.971686</td>\n",
       "      <td>0.9738</td>\n",
       "      <td>0.972435</td>\n",
       "      <td>0.974845</td>\n",
       "    </tr>\n",
       "    <tr>\n",
       "      <th>LogisticRegression_ohe</th>\n",
       "      <td>LogisticRegression_ohe</td>\n",
       "      <td>1.358590</td>\n",
       "      <td>0.998359</td>\n",
       "      <td>1.000000</td>\n",
       "      <td>1.0000</td>\n",
       "      <td>1.000000</td>\n",
       "      <td>1.000000</td>\n",
       "    </tr>\n",
       "  </tbody>\n",
       "</table>\n",
       "</div>"
      ],
      "text/plain": [
       "                                    model_name  fit_time  best_score  \\\n",
       "LogisticRegression_oe    LogisticRegression_oe  1.581391    0.970050   \n",
       "LogisticRegression_ohe  LogisticRegression_ohe  1.358590    0.998359   \n",
       "\n",
       "                        accuracy_train  accuracy_test  precision_train  \\\n",
       "LogisticRegression_oe         0.971686         0.9738         0.972435   \n",
       "LogisticRegression_ohe        1.000000         1.0000         1.000000   \n",
       "\n",
       "                        precision_test  \n",
       "LogisticRegression_oe         0.974845  \n",
       "LogisticRegression_ohe        1.000000  "
      ]
     },
     "metadata": {},
     "output_type": "display_data"
    },
    {
     "data": {
      "text/plain": [
       "<matplotlib.axes._subplots.AxesSubplot at 0x7f860c2bb410>"
      ]
     },
     "metadata": {},
     "output_type": "display_data"
    },
    {
     "data": {
      "text/plain": [
       "<matplotlib.axes._subplots.AxesSubplot at 0x7f860c223b90>"
      ]
     },
     "metadata": {},
     "output_type": "display_data"
    },
    {
     "data": {
      "image/png": "[encoded data removed]",
      "text/plain": [
       "<Figure size 720x720 with 1 Axes>"
      ]
     },
     "metadata": {},
     "output_type": "display_data"
    },
    {
     "data": {
      "image/png": "[encoded data removed]",
      "text/plain": [
       "<Figure size 720x720 with 1 Axes>"
      ]
     },
     "metadata": {},
     "output_type": "display_data"
    }
   ],
   "source": [
    "# Сравним качество и время обучения моделей\n",
    "print_models_plots(lr_oe_stats,lr_ohe_stats)"
   ]
  },
  {
   "cell_type": "markdown",
   "metadata": {},
   "source": [
    "Как следует из таблицы значений метрик и диаграмм сравнения качество модели, использующей **one-hot encoding** выше. Более того, время обучения это модели меньше и количество ошибок сходимости при подборе гиперпараметров существенно меньше.\n",
    "\n",
    "Обе модели обладают хорошим качеством, **one-hot encoding** модель имеет максимальные оценки по всем метрикам.\n",
    "Для дальнейшего сравнения будем использовать **one-hot encoding** модель. "
   ]
  },
  {
   "cell_type": "markdown",
   "metadata": {},
   "source": [
    "# 4.2 SVM модель - SVC\n",
    "В качестве SVM модели возьмем **SVC**, который предназначен для решения задачи классификации на небольших датасетах.\n",
    "\n",
    "Сравним качество модели при входных признаках, закодированных методом **one-hot encoding** и **ordinal encoding**.\n",
    "Ожидаем, что качество при **ordinal encoding** будет ниже, так как для каждого признака задается порядок классов, несвойственный ему изначально."
   ]
  },
  {
   "cell_type": "code",
   "execution_count": 27,
   "metadata": {},
   "outputs": [],
   "source": [
    "# Импорт модуля SVM, в котором находятся соответсвующие модели\n",
    "from sklearn import svm"
   ]
  },
  {
   "cell_type": "code",
   "execution_count": 28,
   "metadata": {},
   "outputs": [],
   "source": [
    "# Гиперпараметры для решетчатого поиска\n",
    "svc_param_grid = [{'kernel': ['rbf'], 'gamma': [1e-3, 1e-4], 'C': [1, 10, 100, 1000]},\n",
    "                  {'kernel': ['linear'], 'C': [1, 10, 100, 1000]}]"
   ]
  },
  {
   "cell_type": "code",
   "execution_count": 29,
   "metadata": {},
   "outputs": [
    {
     "name": "stdout",
     "output_type": "stream",
     "text": [
      "GridSearchCV(cv=5, error_score=nan,\n",
      "             estimator=SVC(C=1.0, break_ties=False, cache_size=200,\n",
      "                           class_weight=None, coef0=0.0,\n",
      "                           decision_function_shape='ovr', degree=3,\n",
      "                           gamma='scale', kernel='rbf', max_iter=-1,\n",
      "                           probability=False, random_state=None, shrinking=True,\n",
      "                           tol=0.001, verbose=False),\n",
      "             iid='deprecated', n_jobs=None,\n",
      "             param_grid=[{'C': [1, 10, 100, 1000], 'gamma': [0.001, 0.0001],\n",
      "                          'kernel': ['rbf']},\n",
      "                         {'C': [1, 10, 100, 1000], 'kernel': ['linear']}],\n",
      "             pre_dispatch='2*n_jobs', refit=True, return_train_score=False,\n",
      "             scoring='accuracy', verbose=0)\n",
      "5min 55s ± 0 ns per loop (mean ± std. dev. of 1 run, 1 loop each)\n"
     ]
    },
    {
     "data": {
      "text/plain": [
       "'Gris Search - результаты:'"
      ]
     },
     "metadata": {},
     "output_type": "display_data"
    },
    {
     "name": "stdout",
     "output_type": "stream",
     "text": [
      "Результаты подбора:  {'mean_fit_time': array([1.30179119e-01, 1.81896114e-01, 8.31214905e-02, 1.30365705e-01,\n",
      "       6.05395794e-02, 1.04056978e-01, 7.68765450e-02, 9.62623119e-02,\n",
      "       2.77184391e-01, 9.29680109e-01, 5.31313076e+00, 6.35596449e+01]), 'std_fit_time': array([1.36871136e-02, 7.43805792e-03, 1.26151407e-03, 2.95059270e-03,\n",
      "       1.68407806e-03, 4.59113981e-03, 7.17708334e-03, 8.79034546e-04,\n",
      "       1.13893342e-01, 2.26463160e-01, 1.44057187e+00, 2.59785056e+01]), 'mean_score_time': array([0.02117553, 0.03365288, 0.01283989, 0.02213511, 0.0068603 ,\n",
      "       0.01439409, 0.00388594, 0.0085093 , 0.00558805, 0.00604682,\n",
      "       0.0030086 , 0.00280809]), 'std_score_time': array([0.00030133, 0.00041998, 0.0001289 , 0.00075196, 0.00016722,\n",
      "       0.00035136, 0.00060724, 0.00017821, 0.00048905, 0.00158967,\n",
      "       0.00070143, 0.00059443]), 'param_C': masked_array(data=[1, 1, 10, 10, 100, 100, 1000, 1000, 1, 10, 100, 1000],\n",
      "             mask=[False, False, False, False, False, False, False, False,\n",
      "                   False, False, False, False],\n",
      "       fill_value='?',\n",
      "            dtype=object), 'param_gamma': masked_array(data=[0.001, 0.0001, 0.001, 0.0001, 0.001, 0.0001, 0.001,\n",
      "                   0.0001, --, --, --, --],\n",
      "             mask=[False, False, False, False, False, False, False, False,\n",
      "                    True,  True,  True,  True],\n",
      "       fill_value='?',\n",
      "            dtype=object), 'param_kernel': masked_array(data=['rbf', 'rbf', 'rbf', 'rbf', 'rbf', 'rbf', 'rbf', 'rbf',\n",
      "                   'linear', 'linear', 'linear', 'linear'],\n",
      "             mask=[False, False, False, False, False, False, False, False,\n",
      "                   False, False, False, False],\n",
      "       fill_value='?',\n",
      "            dtype=object), 'params': [{'C': 1, 'gamma': 0.001, 'kernel': 'rbf'}, {'C': 1, 'gamma': 0.0001, 'kernel': 'rbf'}, {'C': 10, 'gamma': 0.001, 'kernel': 'rbf'}, {'C': 10, 'gamma': 0.0001, 'kernel': 'rbf'}, {'C': 100, 'gamma': 0.001, 'kernel': 'rbf'}, {'C': 100, 'gamma': 0.0001, 'kernel': 'rbf'}, {'C': 1000, 'gamma': 0.001, 'kernel': 'rbf'}, {'C': 1000, 'gamma': 0.0001, 'kernel': 'rbf'}, {'C': 1, 'kernel': 'linear'}, {'C': 10, 'kernel': 'linear'}, {'C': 100, 'kernel': 'linear'}, {'C': 1000, 'kernel': 'linear'}], 'split0_test_score': array([0.91803279, 0.8852459 , 0.94467213, 0.9057377 , 0.98155738,\n",
      "       0.92827869, 0.99590164, 0.95696721, 0.95696721, 0.9897541 ,\n",
      "       0.99180328, 0.99180328]), 'split1_test_score': array([0.90778689, 0.84631148, 0.96106557, 0.8852459 , 0.98155738,\n",
      "       0.93442623, 1.        , 0.96311475, 0.96106557, 0.9795082 ,\n",
      "       0.99385246, 0.99385246]), 'split2_test_score': array([0.89527721, 0.85010267, 0.95277207, 0.88295688, 0.97330595,\n",
      "       0.92607803, 0.99794661, 0.9650924 , 0.96714579, 0.97741273,\n",
      "       0.99178645, 0.99178645]), 'split3_test_score': array([0.91991786, 0.87679671, 0.95277207, 0.90554415, 0.98151951,\n",
      "       0.93223819, 0.99589322, 0.95687885, 0.96303901, 0.9835729 ,\n",
      "       0.99589322, 0.99589322]), 'split4_test_score': array([0.88706366, 0.83367556, 0.94661191, 0.86858316, 0.98562628,\n",
      "       0.91170431, 1.        , 0.96714579, 0.9650924 , 0.97535934,\n",
      "       0.98767967, 0.98767967]), 'mean_test_score': array([0.90561568, 0.85842647, 0.95157875, 0.88961356, 0.9807133 ,\n",
      "       0.92654509, 0.9979483 , 0.9618398 , 0.962662  , 0.98112145,\n",
      "       0.99220302, 0.99220302]), 'std_test_score': array([0.01276333, 0.01941862, 0.00574837, 0.01427892, 0.00402694,\n",
      "       0.00797491, 0.00183473, 0.00421216, 0.00349664, 0.00510081,\n",
      "       0.00272515, 0.00272515]), 'rank_test_score': array([10, 12,  8, 11,  5,  9,  1,  7,  6,  4,  2,  2], dtype=int32)}\n"
     ]
    },
    {
     "data": {
      "text/plain": [
       "'Лучшая из построенных моделей:'"
      ]
     },
     "metadata": {},
     "output_type": "display_data"
    },
    {
     "name": "stdout",
     "output_type": "stream",
     "text": [
      "Лучшая модель:  SVC(C=1000, break_ties=False, cache_size=200, class_weight=None, coef0=0.0,\n",
      "    decision_function_shape='ovr', degree=3, gamma=0.001, kernel='rbf',\n",
      "    max_iter=-1, probability=False, random_state=None, shrinking=True,\n",
      "    tol=0.001, verbose=False)\n",
      "Лучшее значение метрики:  0.997948295014643\n",
      "Лучшее значение параметров:  {'C': 1000, 'gamma': 0.001, 'kernel': 'rbf'}\n"
     ]
    },
    {
     "data": {
      "text/plain": [
       "'Значения метрик качества:'"
      ]
     },
     "metadata": {},
     "output_type": "display_data"
    },
    {
     "name": "stdout",
     "output_type": "stream",
     "text": [
      "метрика: accuracy - обучающая выборка:  1.0\n",
      "метрика: accuracy - тестовая выборка:  1.0\n",
      "метрика: precision - обучающая выборка:  1.0\n",
      "метрика: precision - тестовая выборка:  1.0\n"
     ]
    },
    {
     "data": {
      "text/plain": [
       "'Accuracy для каждого класса:'"
      ]
     },
     "metadata": {},
     "output_type": "display_data"
    },
    {
     "name": "stdout",
     "output_type": "stream",
     "text": [
      "Метка \t Accuracy\n",
      "0 \t 1.0\n",
      "1 \t 1.0\n"
     ]
    },
    {
     "data": {
      "text/plain": [
       "{'model_name': 'SVM_oe',\n",
       " 'fit_time': 355.5740341799974,\n",
       " 'best_score': 0.997948295014643,\n",
       " 'accuracy_train': 1.0,\n",
       " 'accuracy_test': 1.0,\n",
       " 'precision_train': 1.0,\n",
       " 'precision_test': 1.0}"
      ]
     },
     "execution_count": 29,
     "metadata": {},
     "output_type": "execute_result"
    }
   ],
   "source": [
    "# Строим модели при ordinal encoding X признаках и выводим статистику\n",
    "svc_oe_stats,svc_oe_estimator = build_print_model(mushrooms_oe_X,mushrooms_le_y,svm.SVC(),svc_param_grid,'SVM_oe')\n",
    "svc_oe_stats"
   ]
  },
  {
   "cell_type": "code",
   "execution_count": 30,
   "metadata": {},
   "outputs": [
    {
     "name": "stdout",
     "output_type": "stream",
     "text": [
      "GridSearchCV(cv=5, error_score=nan,\n",
      "             estimator=SVC(C=1.0, break_ties=False, cache_size=200,\n",
      "                           class_weight=None, coef0=0.0,\n",
      "                           decision_function_shape='ovr', degree=3,\n",
      "                           gamma='scale', kernel='rbf', max_iter=-1,\n",
      "                           probability=False, random_state=None, shrinking=True,\n",
      "                           tol=0.001, verbose=False),\n",
      "             iid='deprecated', n_jobs=None,\n",
      "             param_grid=[{'C': [1, 10, 100, 1000], 'gamma': [0.001, 0.0001],\n",
      "                          'kernel': ['rbf']},\n",
      "                         {'C': [1, 10, 100, 1000], 'kernel': ['linear']}],\n",
      "             pre_dispatch='2*n_jobs', refit=True, return_train_score=False,\n",
      "             scoring='accuracy', verbose=0)\n",
      "13.8 s ± 0 ns per loop (mean ± std. dev. of 1 run, 1 loop each)\n"
     ]
    },
    {
     "data": {
      "text/plain": [
       "'Gris Search - результаты:'"
      ]
     },
     "metadata": {},
     "output_type": "display_data"
    },
    {
     "name": "stdout",
     "output_type": "stream",
     "text": [
      "Результаты подбора:  {'mean_fit_time': array([0.34902649, 0.77177091, 0.15100389, 0.34438653, 0.08197412,\n",
      "       0.16329575, 0.0918396 , 0.08544512, 0.06097479, 0.06129465,\n",
      "       0.06081982, 0.06119184]), 'std_fit_time': array([0.0030224 , 0.00352002, 0.00280675, 0.00272901, 0.00281183,\n",
      "       0.0206916 , 0.01112336, 0.00765398, 0.00493323, 0.00491406,\n",
      "       0.00494545, 0.00502796]), 'mean_score_time': array([0.07267299, 0.17431221, 0.02951274, 0.07110696, 0.01167469,\n",
      "       0.030899  , 0.01088815, 0.01191077, 0.00741963, 0.00743308,\n",
      "       0.00742497, 0.00747085]), 'std_score_time': array([0.00213996, 0.00042534, 0.00059142, 0.00081145, 0.00067032,\n",
      "       0.00220435, 0.00184155, 0.00073754, 0.00076637, 0.00077025,\n",
      "       0.00076271, 0.00079643]), 'param_C': masked_array(data=[1, 1, 10, 10, 100, 100, 1000, 1000, 1, 10, 100, 1000],\n",
      "             mask=[False, False, False, False, False, False, False, False,\n",
      "                   False, False, False, False],\n",
      "       fill_value='?',\n",
      "            dtype=object), 'param_gamma': masked_array(data=[0.001, 0.0001, 0.001, 0.0001, 0.001, 0.0001, 0.001,\n",
      "                   0.0001, --, --, --, --],\n",
      "             mask=[False, False, False, False, False, False, False, False,\n",
      "                    True,  True,  True,  True],\n",
      "       fill_value='?',\n",
      "            dtype=object), 'param_kernel': masked_array(data=['rbf', 'rbf', 'rbf', 'rbf', 'rbf', 'rbf', 'rbf', 'rbf',\n",
      "                   'linear', 'linear', 'linear', 'linear'],\n",
      "             mask=[False, False, False, False, False, False, False, False,\n",
      "                   False, False, False, False],\n",
      "       fill_value='?',\n",
      "            dtype=object), 'params': [{'C': 1, 'gamma': 0.001, 'kernel': 'rbf'}, {'C': 1, 'gamma': 0.0001, 'kernel': 'rbf'}, {'C': 10, 'gamma': 0.001, 'kernel': 'rbf'}, {'C': 10, 'gamma': 0.0001, 'kernel': 'rbf'}, {'C': 100, 'gamma': 0.001, 'kernel': 'rbf'}, {'C': 100, 'gamma': 0.0001, 'kernel': 'rbf'}, {'C': 1000, 'gamma': 0.001, 'kernel': 'rbf'}, {'C': 1000, 'gamma': 0.0001, 'kernel': 'rbf'}, {'C': 1, 'kernel': 'linear'}, {'C': 10, 'kernel': 'linear'}, {'C': 100, 'kernel': 'linear'}, {'C': 1000, 'kernel': 'linear'}], 'split0_test_score': array([0.95286885, 0.8852459 , 0.98565574, 0.95491803, 0.99590164,\n",
      "       0.98565574, 0.99590164, 0.99590164, 0.99590164, 0.99590164,\n",
      "       0.99590164, 0.99590164]), 'split1_test_score': array([0.95081967, 0.88319672, 0.98565574, 0.95081967, 1.        ,\n",
      "       0.98565574, 1.        , 1.        , 1.        , 1.        ,\n",
      "       1.        , 1.        ]), 'split2_test_score': array([0.9486653 , 0.87474333, 0.98562628, 0.9486653 , 0.99794661,\n",
      "       0.98562628, 1.        , 0.99794661, 1.        , 1.        ,\n",
      "       1.        , 1.        ]), 'split3_test_score': array([0.9650924 , 0.88911704, 0.98562628, 0.96714579, 0.99589322,\n",
      "       0.98562628, 0.99589322, 0.99589322, 0.99589322, 0.99589322,\n",
      "       0.99589322, 0.99589322]), 'split4_test_score': array([0.9301848 , 0.85215606, 0.99178645, 0.9301848 , 1.        ,\n",
      "       0.99178645, 1.        , 1.        , 1.        , 1.        ,\n",
      "       1.        , 1.        ]), 'mean_test_score': array([0.94952621, 0.87689181, 0.9868701 , 0.95034672, 0.9979483 ,\n",
      "       0.9868701 , 0.99835897, 0.9979483 , 0.99835897, 0.99835897,\n",
      "       0.99835897, 0.99835897]), 'std_test_score': array([0.01122483, 0.01323233, 0.00245821, 0.01193867, 0.00183473,\n",
      "       0.00245821, 0.00200984, 0.00183473, 0.00200984, 0.00200984,\n",
      "       0.00200984, 0.00200984]), 'rank_test_score': array([11, 12,  8, 10,  6,  8,  1,  6,  1,  1,  1,  1], dtype=int32)}\n"
     ]
    },
    {
     "data": {
      "text/plain": [
       "'Лучшая из построенных моделей:'"
      ]
     },
     "metadata": {},
     "output_type": "display_data"
    },
    {
     "name": "stdout",
     "output_type": "stream",
     "text": [
      "Лучшая модель:  SVC(C=1000, break_ties=False, cache_size=200, class_weight=None, coef0=0.0,\n",
      "    decision_function_shape='ovr', degree=3, gamma=0.001, kernel='rbf',\n",
      "    max_iter=-1, probability=False, random_state=None, shrinking=True,\n",
      "    tol=0.001, verbose=False)\n",
      "Лучшее значение метрики:  0.9983589726327129\n",
      "Лучшее значение параметров:  {'C': 1000, 'gamma': 0.001, 'kernel': 'rbf'}\n"
     ]
    },
    {
     "data": {
      "text/plain": [
       "'Значения метрик качества:'"
      ]
     },
     "metadata": {},
     "output_type": "display_data"
    },
    {
     "name": "stdout",
     "output_type": "stream",
     "text": [
      "метрика: accuracy - обучающая выборка:  1.0\n",
      "метрика: accuracy - тестовая выборка:  1.0\n",
      "метрика: precision - обучающая выборка:  1.0\n",
      "метрика: precision - тестовая выборка:  1.0\n"
     ]
    },
    {
     "data": {
      "text/plain": [
       "'Accuracy для каждого класса:'"
      ]
     },
     "metadata": {},
     "output_type": "display_data"
    },
    {
     "name": "stdout",
     "output_type": "stream",
     "text": [
      "Метка \t Accuracy\n",
      "0 \t 1.0\n",
      "1 \t 1.0\n"
     ]
    },
    {
     "data": {
      "text/plain": [
       "{'model_name': 'SVM_ohe',\n",
       " 'fit_time': 13.787907994999841,\n",
       " 'best_score': 0.9983589726327129,\n",
       " 'accuracy_train': 1.0,\n",
       " 'accuracy_test': 1.0,\n",
       " 'precision_train': 1.0,\n",
       " 'precision_test': 1.0}"
      ]
     },
     "execution_count": 30,
     "metadata": {},
     "output_type": "execute_result"
    }
   ],
   "source": [
    "# Строим модели при one-hot encoding X признаках и выводим статистику\n",
    "svc_ohe_stats,svc_ohe_estimator = build_print_model(mushrooms_ohe_X,mushrooms_le_y,svm.SVC(),svc_param_grid,'SVM_ohe')\n",
    "svc_ohe_stats"
   ]
  },
  {
   "cell_type": "code",
   "execution_count": 31,
   "metadata": {},
   "outputs": [
    {
     "data": {
      "text/html": [
       "<div>\n",
       "<style scoped>\n",
       "    .dataframe tbody tr th:only-of-type {\n",
       "        vertical-align: middle;\n",
       "    }\n",
       "\n",
       "    .dataframe tbody tr th {\n",
       "        vertical-align: top;\n",
       "    }\n",
       "\n",
       "    .dataframe thead th {\n",
       "        text-align: right;\n",
       "    }\n",
       "</style>\n",
       "<table border=\"1\" class=\"dataframe\">\n",
       "  <thead>\n",
       "    <tr style=\"text-align: right;\">\n",
       "      <th></th>\n",
       "      <th>model_name</th>\n",
       "      <th>fit_time</th>\n",
       "      <th>best_score</th>\n",
       "      <th>accuracy_train</th>\n",
       "      <th>accuracy_test</th>\n",
       "      <th>precision_train</th>\n",
       "      <th>precision_test</th>\n",
       "    </tr>\n",
       "  </thead>\n",
       "  <tbody>\n",
       "    <tr>\n",
       "      <th>SVM_oe</th>\n",
       "      <td>SVM_oe</td>\n",
       "      <td>355.574034</td>\n",
       "      <td>0.997948</td>\n",
       "      <td>1.0</td>\n",
       "      <td>1.0</td>\n",
       "      <td>1.0</td>\n",
       "      <td>1.0</td>\n",
       "    </tr>\n",
       "    <tr>\n",
       "      <th>SVM_ohe</th>\n",
       "      <td>SVM_ohe</td>\n",
       "      <td>13.787908</td>\n",
       "      <td>0.998359</td>\n",
       "      <td>1.0</td>\n",
       "      <td>1.0</td>\n",
       "      <td>1.0</td>\n",
       "      <td>1.0</td>\n",
       "    </tr>\n",
       "  </tbody>\n",
       "</table>\n",
       "</div>"
      ],
      "text/plain": [
       "        model_name    fit_time  best_score  accuracy_train  accuracy_test  \\\n",
       "SVM_oe      SVM_oe  355.574034    0.997948             1.0            1.0   \n",
       "SVM_ohe    SVM_ohe   13.787908    0.998359             1.0            1.0   \n",
       "\n",
       "         precision_train  precision_test  \n",
       "SVM_oe               1.0             1.0  \n",
       "SVM_ohe              1.0             1.0  "
      ]
     },
     "metadata": {},
     "output_type": "display_data"
    },
    {
     "data": {
      "text/plain": [
       "<matplotlib.axes._subplots.AxesSubplot at 0x7f860c1d7d10>"
      ]
     },
     "metadata": {},
     "output_type": "display_data"
    },
    {
     "data": {
      "text/plain": [
       "<matplotlib.axes._subplots.AxesSubplot at 0x7f860c141690>"
      ]
     },
     "metadata": {},
     "output_type": "display_data"
    },
    {
     "data": {
      "image/png": "[encoded data removed]",
      "text/plain": [
       "<Figure size 720x720 with 1 Axes>"
      ]
     },
     "metadata": {},
     "output_type": "display_data"
    },
    {
     "data": {
      "image/png": "[encoded data removed]",
      "text/plain": [
       "<Figure size 720x720 with 1 Axes>"
      ]
     },
     "metadata": {},
     "output_type": "display_data"
    }
   ],
   "source": [
    "# Сравним качество и время обучения моделей\n",
    "print_models_plots(svc_oe_stats,svc_ohe_stats)"
   ]
  },
  {
   "cell_type": "markdown",
   "metadata": {},
   "source": [
    "Как следует из таблицы значений метрик и диаграмм сравнения качество обе модели имеют приблизительно одинаковое качество. Однако, время обучения **ordinal encoding** модели в несколько десятков раз больше и является слишком большим для выборки такого порядка.\n",
    "\n",
    "Поэтому для дальнейшего сравнения будем использовать **one-hot encoding** модель. "
   ]
  },
  {
   "cell_type": "markdown",
   "metadata": {},
   "source": [
    "# 4.3 Дерево решений - Decision Tree Classifier\n",
    "В качестве дерева решений возьмем **DecisionTreeClassifier**, который решает как задачу многоклассовой классификации, так и бинарной.\n",
    "\n",
    "Особенность данной модели является возмножность вывода наиболее значимых признаков при построении дерева. Сравним качество модели, обученной на раличном количесвте наиболее важных признаков (1, 3, 5, все)."
   ]
  },
  {
   "cell_type": "code",
   "execution_count": 78,
   "metadata": {},
   "outputs": [],
   "source": [
    "# импорт модели из библиотеки\n",
    "from sklearn.tree import DecisionTreeClassifier"
   ]
  },
  {
   "cell_type": "code",
   "execution_count": 79,
   "metadata": {},
   "outputs": [],
   "source": [
    "# Гиперпараметры для решетчатого поиска\n",
    "dtc_param_grid = {\n",
    "    'max_depth': [4, 5, 6, 7],\n",
    "    'min_samples_leaf': [1,5,10,20],\n",
    "    'max_features': ['log2', 'sqrt', 0.5, 0.75,None]\n",
    "}"
   ]
  },
  {
   "cell_type": "code",
   "execution_count": 80,
   "metadata": {},
   "outputs": [
    {
     "name": "stdout",
     "output_type": "stream",
     "text": [
      "GridSearchCV(cv=5, error_score=nan,\n",
      "             estimator=DecisionTreeClassifier(ccp_alpha=0.0, class_weight=None,\n",
      "                                              criterion='gini', max_depth=None,\n",
      "                                              max_features=None,\n",
      "                                              max_leaf_nodes=None,\n",
      "                                              min_impurity_decrease=0.0,\n",
      "                                              min_impurity_split=None,\n",
      "                                              min_samples_leaf=1,\n",
      "                                              min_samples_split=2,\n",
      "                                              min_weight_fraction_leaf=0.0,\n",
      "                                              presort='deprecated',\n",
      "                                              random_state=42,\n",
      "                                              splitter='best'),\n",
      "             iid='deprecated', n_jobs=None,\n",
      "             param_grid={'max_depth': [4, 5, 6, 7],\n",
      "                         'max_features': ['log2', 'sqrt', 0.5, 0.75, None],\n",
      "                         'min_samples_leaf': [1, 5, 10, 20]},\n",
      "             pre_dispatch='2*n_jobs', refit=True, return_train_score=False,\n",
      "             scoring='accuracy', verbose=0)\n",
      "5.19 s ± 0 ns per loop (mean ± std. dev. of 1 run, 1 loop each)\n"
     ]
    },
    {
     "data": {
      "text/plain": [
       "'Gris Search - результаты:'"
      ]
     },
     "metadata": {},
     "output_type": "display_data"
    },
    {
     "name": "stdout",
     "output_type": "stream",
     "text": [
      "Результаты подбора:  {'mean_fit_time': array([0.00705314, 0.0068079 , 0.00656872, 0.00663586, 0.00693741,\n",
      "       0.00680132, 0.00692921, 0.0068933 , 0.00900688, 0.00914474,\n",
      "       0.00920625, 0.00901895, 0.01040602, 0.01046333, 0.01030226,\n",
      "       0.01055193, 0.0122858 , 0.0120492 , 0.01234097, 0.01243243,\n",
      "       0.0068449 , 0.00672984, 0.00696263, 0.00693564, 0.00711527,\n",
      "       0.00726275, 0.00722346, 0.00743241, 0.00968976, 0.0093173 ,\n",
      "       0.00931158, 0.00945535, 0.01100059, 0.01080074, 0.01094704,\n",
      "       0.01073489, 0.0132679 , 0.01343842, 0.01275511, 0.01284833,\n",
      "       0.00703645, 0.00693555, 0.00699205, 0.00697289, 0.00713878,\n",
      "       0.00711703, 0.007199  , 0.00729032, 0.00995479, 0.00986481,\n",
      "       0.00962753, 0.00920606, 0.01161551, 0.01238084, 0.01112695,\n",
      "       0.01109915, 0.01499705, 0.01730132, 0.01335225, 0.0134378 ,\n",
      "       0.00725584, 0.00718265, 0.00703378, 0.00685816, 0.00740309,\n",
      "       0.00740356, 0.00740523, 0.00737529, 0.00991392, 0.00981369,\n",
      "       0.00955777, 0.00962052, 0.01129146, 0.01147962, 0.01089411,\n",
      "       0.01090279, 0.01381879, 0.01348286, 0.01290212, 0.01279011]), 'std_fit_time': array([2.34273692e-04, 1.83571320e-04, 8.39090335e-05, 1.40817562e-04,\n",
      "       1.82246925e-04, 7.63800850e-05, 8.54780849e-05, 1.07043368e-04,\n",
      "       1.87984763e-04, 2.93939667e-04, 2.45716108e-04, 3.21523817e-04,\n",
      "       2.78994239e-04, 3.17718019e-04, 3.38705741e-04, 2.78062469e-04,\n",
      "       8.00050622e-05, 8.52497628e-05, 7.88714317e-05, 3.17474893e-04,\n",
      "       2.02036337e-04, 6.13763704e-05, 1.79169149e-04, 1.18227963e-04,\n",
      "       2.08172741e-04, 1.57803521e-04, 5.97449749e-05, 6.20500545e-04,\n",
      "       6.62427192e-04, 3.69298807e-04, 4.70842073e-04, 2.67650426e-04,\n",
      "       6.23743073e-04, 3.78428033e-04, 4.21671615e-04, 4.61098785e-04,\n",
      "       2.92641518e-04, 4.47130572e-04, 2.58802523e-04, 2.44962039e-04,\n",
      "       1.59868004e-04, 9.45120117e-05, 2.05751305e-04, 1.06318177e-04,\n",
      "       8.97633000e-05, 1.35298038e-04, 8.66062044e-05, 1.02467790e-04,\n",
      "       4.35851168e-04, 3.94223430e-04, 3.97891892e-04, 4.86078383e-04,\n",
      "       1.18135132e-03, 1.48125232e-03, 5.19065433e-04, 9.37573893e-04,\n",
      "       1.30801179e-03, 2.12896788e-03, 2.11906809e-04, 2.23394794e-04,\n",
      "       1.50138326e-04, 1.57886493e-04, 4.76621102e-05, 8.16329896e-05,\n",
      "       1.79775539e-04, 1.33734199e-04, 7.44532629e-05, 1.09353264e-04,\n",
      "       5.05245996e-04, 3.47240094e-04, 5.38783333e-04, 5.10107738e-04,\n",
      "       4.87892743e-04, 8.39584830e-04, 5.29516068e-04, 4.48979563e-04,\n",
      "       4.14794732e-04, 2.71448757e-04, 1.69194201e-04, 3.81087249e-04]), 'mean_score_time': array([0.00255876, 0.00250158, 0.0024868 , 0.0023952 , 0.00242424,\n",
      "       0.00240288, 0.00240641, 0.00242076, 0.00246391, 0.0025156 ,\n",
      "       0.00253491, 0.00251107, 0.00255466, 0.0025423 , 0.00253673,\n",
      "       0.00261445, 0.00268946, 0.00257916, 0.00268111, 0.00276189,\n",
      "       0.00246134, 0.00241823, 0.00251732, 0.00251637, 0.00248003,\n",
      "       0.00257835, 0.00254817, 0.0026794 , 0.00260849, 0.00249381,\n",
      "       0.00254426, 0.00260572, 0.00261321, 0.00265708, 0.00266623,\n",
      "       0.0026268 , 0.00266814, 0.00273066, 0.00263853, 0.00275774,\n",
      "       0.00250759, 0.00254278, 0.00253568, 0.00251613, 0.00247746,\n",
      "       0.0024477 , 0.00250344, 0.00254755, 0.00259504, 0.00252547,\n",
      "       0.00264573, 0.00247006, 0.00285354, 0.00278888, 0.00268731,\n",
      "       0.0026361 , 0.00297308, 0.0032867 , 0.00282993, 0.00282321,\n",
      "       0.00253949, 0.00257478, 0.00249977, 0.00244308, 0.00254402,\n",
      "       0.00254493, 0.00260081, 0.00258965, 0.00258918, 0.00255723,\n",
      "       0.0025568 , 0.00262275, 0.00273414, 0.0027144 , 0.002633  ,\n",
      "       0.00263743, 0.00270085, 0.00279617, 0.00262322, 0.00263877]), 'std_score_time': array([1.26506201e-04, 1.35837558e-04, 1.47781567e-04, 3.44893386e-05,\n",
      "       6.49103065e-05, 6.18760477e-05, 5.98379148e-05, 3.88818527e-05,\n",
      "       5.21925661e-05, 8.93233735e-05, 2.11864926e-05, 1.35328234e-04,\n",
      "       6.37083710e-05, 1.10941717e-04, 9.00383463e-05, 5.28843150e-05,\n",
      "       5.69057952e-05, 1.13356679e-04, 8.26289592e-05, 2.83789826e-05,\n",
      "       1.27742049e-04, 2.38730227e-05, 7.46449849e-05, 2.47379699e-05,\n",
      "       7.51881633e-05, 6.72292369e-05, 3.33875916e-05, 3.00963221e-04,\n",
      "       1.06979923e-04, 3.46540892e-05, 9.49535449e-05, 3.38827614e-05,\n",
      "       1.01475339e-04, 3.80979461e-05, 1.10996588e-04, 7.88416175e-05,\n",
      "       6.08359005e-05, 8.42832305e-05, 1.11744364e-04, 9.79249162e-05,\n",
      "       9.80025768e-05, 1.05075198e-04, 8.34258735e-05, 3.71962326e-05,\n",
      "       5.76082441e-05, 3.85261407e-05, 4.23307873e-05, 3.88417161e-05,\n",
      "       3.47439273e-05, 4.44602005e-05, 2.86193674e-05, 9.26622818e-05,\n",
      "       4.19965258e-04, 1.50247492e-04, 9.78820907e-05, 9.21796159e-05,\n",
      "       4.34400064e-04, 4.62933042e-04, 1.18567321e-04, 7.06473476e-05,\n",
      "       6.60880819e-05, 5.87912564e-05, 3.34362486e-05, 1.13581070e-04,\n",
      "       6.67424867e-05, 9.12227495e-05, 7.54056719e-05, 4.39110844e-05,\n",
      "       9.45584316e-05, 6.52632092e-05, 6.72418171e-05, 9.72322998e-05,\n",
      "       1.41895185e-04, 2.51971331e-05, 6.40883332e-05, 2.26893330e-05,\n",
      "       7.52941425e-05, 8.67211982e-05, 7.53239119e-05, 1.06584401e-04]), 'param_max_depth': masked_array(data=[4, 4, 4, 4, 4, 4, 4, 4, 4, 4, 4, 4, 4, 4, 4, 4, 4, 4,\n",
      "                   4, 4, 5, 5, 5, 5, 5, 5, 5, 5, 5, 5, 5, 5, 5, 5, 5, 5,\n",
      "                   5, 5, 5, 5, 6, 6, 6, 6, 6, 6, 6, 6, 6, 6, 6, 6, 6, 6,\n",
      "                   6, 6, 6, 6, 6, 6, 7, 7, 7, 7, 7, 7, 7, 7, 7, 7, 7, 7,\n",
      "                   7, 7, 7, 7, 7, 7, 7, 7],\n",
      "             mask=[False, False, False, False, False, False, False, False,\n",
      "                   False, False, False, False, False, False, False, False,\n",
      "                   False, False, False, False, False, False, False, False,\n",
      "                   False, False, False, False, False, False, False, False,\n",
      "                   False, False, False, False, False, False, False, False,\n",
      "                   False, False, False, False, False, False, False, False,\n",
      "                   False, False, False, False, False, False, False, False,\n",
      "                   False, False, False, False, False, False, False, False,\n",
      "                   False, False, False, False, False, False, False, False,\n",
      "                   False, False, False, False, False, False, False, False],\n",
      "       fill_value='?',\n",
      "            dtype=object), 'param_max_features': masked_array(data=['log2', 'log2', 'log2', 'log2', 'sqrt', 'sqrt', 'sqrt',\n",
      "                   'sqrt', 0.5, 0.5, 0.5, 0.5, 0.75, 0.75, 0.75, 0.75,\n",
      "                   None, None, None, None, 'log2', 'log2', 'log2', 'log2',\n",
      "                   'sqrt', 'sqrt', 'sqrt', 'sqrt', 0.5, 0.5, 0.5, 0.5,\n",
      "                   0.75, 0.75, 0.75, 0.75, None, None, None, None, 'log2',\n",
      "                   'log2', 'log2', 'log2', 'sqrt', 'sqrt', 'sqrt', 'sqrt',\n",
      "                   0.5, 0.5, 0.5, 0.5, 0.75, 0.75, 0.75, 0.75, None, None,\n",
      "                   None, None, 'log2', 'log2', 'log2', 'log2', 'sqrt',\n",
      "                   'sqrt', 'sqrt', 'sqrt', 0.5, 0.5, 0.5, 0.5, 0.75, 0.75,\n",
      "                   0.75, 0.75, None, None, None, None],\n",
      "             mask=[False, False, False, False, False, False, False, False,\n",
      "                   False, False, False, False, False, False, False, False,\n",
      "                   False, False, False, False, False, False, False, False,\n",
      "                   False, False, False, False, False, False, False, False,\n",
      "                   False, False, False, False, False, False, False, False,\n",
      "                   False, False, False, False, False, False, False, False,\n",
      "                   False, False, False, False, False, False, False, False,\n",
      "                   False, False, False, False, False, False, False, False,\n",
      "                   False, False, False, False, False, False, False, False,\n",
      "                   False, False, False, False, False, False, False, False],\n",
      "       fill_value='?',\n",
      "            dtype=object), 'param_min_samples_leaf': masked_array(data=[1, 5, 10, 20, 1, 5, 10, 20, 1, 5, 10, 20, 1, 5, 10, 20,\n",
      "                   1, 5, 10, 20, 1, 5, 10, 20, 1, 5, 10, 20, 1, 5, 10, 20,\n",
      "                   1, 5, 10, 20, 1, 5, 10, 20, 1, 5, 10, 20, 1, 5, 10, 20,\n",
      "                   1, 5, 10, 20, 1, 5, 10, 20, 1, 5, 10, 20, 1, 5, 10, 20,\n",
      "                   1, 5, 10, 20, 1, 5, 10, 20, 1, 5, 10, 20, 1, 5, 10, 20],\n",
      "             mask=[False, False, False, False, False, False, False, False,\n",
      "                   False, False, False, False, False, False, False, False,\n",
      "                   False, False, False, False, False, False, False, False,\n",
      "                   False, False, False, False, False, False, False, False,\n",
      "                   False, False, False, False, False, False, False, False,\n",
      "                   False, False, False, False, False, False, False, False,\n",
      "                   False, False, False, False, False, False, False, False,\n",
      "                   False, False, False, False, False, False, False, False,\n",
      "                   False, False, False, False, False, False, False, False,\n",
      "                   False, False, False, False, False, False, False, False],\n",
      "       fill_value='?',\n",
      "            dtype=object), 'params': [{'max_depth': 4, 'max_features': 'log2', 'min_samples_leaf': 1}, {'max_depth': 4, 'max_features': 'log2', 'min_samples_leaf': 5}, {'max_depth': 4, 'max_features': 'log2', 'min_samples_leaf': 10}, {'max_depth': 4, 'max_features': 'log2', 'min_samples_leaf': 20}, {'max_depth': 4, 'max_features': 'sqrt', 'min_samples_leaf': 1}, {'max_depth': 4, 'max_features': 'sqrt', 'min_samples_leaf': 5}, {'max_depth': 4, 'max_features': 'sqrt', 'min_samples_leaf': 10}, {'max_depth': 4, 'max_features': 'sqrt', 'min_samples_leaf': 20}, {'max_depth': 4, 'max_features': 0.5, 'min_samples_leaf': 1}, {'max_depth': 4, 'max_features': 0.5, 'min_samples_leaf': 5}, {'max_depth': 4, 'max_features': 0.5, 'min_samples_leaf': 10}, {'max_depth': 4, 'max_features': 0.5, 'min_samples_leaf': 20}, {'max_depth': 4, 'max_features': 0.75, 'min_samples_leaf': 1}, {'max_depth': 4, 'max_features': 0.75, 'min_samples_leaf': 5}, {'max_depth': 4, 'max_features': 0.75, 'min_samples_leaf': 10}, {'max_depth': 4, 'max_features': 0.75, 'min_samples_leaf': 20}, {'max_depth': 4, 'max_features': None, 'min_samples_leaf': 1}, {'max_depth': 4, 'max_features': None, 'min_samples_leaf': 5}, {'max_depth': 4, 'max_features': None, 'min_samples_leaf': 10}, {'max_depth': 4, 'max_features': None, 'min_samples_leaf': 20}, {'max_depth': 5, 'max_features': 'log2', 'min_samples_leaf': 1}, {'max_depth': 5, 'max_features': 'log2', 'min_samples_leaf': 5}, {'max_depth': 5, 'max_features': 'log2', 'min_samples_leaf': 10}, {'max_depth': 5, 'max_features': 'log2', 'min_samples_leaf': 20}, {'max_depth': 5, 'max_features': 'sqrt', 'min_samples_leaf': 1}, {'max_depth': 5, 'max_features': 'sqrt', 'min_samples_leaf': 5}, {'max_depth': 5, 'max_features': 'sqrt', 'min_samples_leaf': 10}, {'max_depth': 5, 'max_features': 'sqrt', 'min_samples_leaf': 20}, {'max_depth': 5, 'max_features': 0.5, 'min_samples_leaf': 1}, {'max_depth': 5, 'max_features': 0.5, 'min_samples_leaf': 5}, {'max_depth': 5, 'max_features': 0.5, 'min_samples_leaf': 10}, {'max_depth': 5, 'max_features': 0.5, 'min_samples_leaf': 20}, {'max_depth': 5, 'max_features': 0.75, 'min_samples_leaf': 1}, {'max_depth': 5, 'max_features': 0.75, 'min_samples_leaf': 5}, {'max_depth': 5, 'max_features': 0.75, 'min_samples_leaf': 10}, {'max_depth': 5, 'max_features': 0.75, 'min_samples_leaf': 20}, {'max_depth': 5, 'max_features': None, 'min_samples_leaf': 1}, {'max_depth': 5, 'max_features': None, 'min_samples_leaf': 5}, {'max_depth': 5, 'max_features': None, 'min_samples_leaf': 10}, {'max_depth': 5, 'max_features': None, 'min_samples_leaf': 20}, {'max_depth': 6, 'max_features': 'log2', 'min_samples_leaf': 1}, {'max_depth': 6, 'max_features': 'log2', 'min_samples_leaf': 5}, {'max_depth': 6, 'max_features': 'log2', 'min_samples_leaf': 10}, {'max_depth': 6, 'max_features': 'log2', 'min_samples_leaf': 20}, {'max_depth': 6, 'max_features': 'sqrt', 'min_samples_leaf': 1}, {'max_depth': 6, 'max_features': 'sqrt', 'min_samples_leaf': 5}, {'max_depth': 6, 'max_features': 'sqrt', 'min_samples_leaf': 10}, {'max_depth': 6, 'max_features': 'sqrt', 'min_samples_leaf': 20}, {'max_depth': 6, 'max_features': 0.5, 'min_samples_leaf': 1}, {'max_depth': 6, 'max_features': 0.5, 'min_samples_leaf': 5}, {'max_depth': 6, 'max_features': 0.5, 'min_samples_leaf': 10}, {'max_depth': 6, 'max_features': 0.5, 'min_samples_leaf': 20}, {'max_depth': 6, 'max_features': 0.75, 'min_samples_leaf': 1}, {'max_depth': 6, 'max_features': 0.75, 'min_samples_leaf': 5}, {'max_depth': 6, 'max_features': 0.75, 'min_samples_leaf': 10}, {'max_depth': 6, 'max_features': 0.75, 'min_samples_leaf': 20}, {'max_depth': 6, 'max_features': None, 'min_samples_leaf': 1}, {'max_depth': 6, 'max_features': None, 'min_samples_leaf': 5}, {'max_depth': 6, 'max_features': None, 'min_samples_leaf': 10}, {'max_depth': 6, 'max_features': None, 'min_samples_leaf': 20}, {'max_depth': 7, 'max_features': 'log2', 'min_samples_leaf': 1}, {'max_depth': 7, 'max_features': 'log2', 'min_samples_leaf': 5}, {'max_depth': 7, 'max_features': 'log2', 'min_samples_leaf': 10}, {'max_depth': 7, 'max_features': 'log2', 'min_samples_leaf': 20}, {'max_depth': 7, 'max_features': 'sqrt', 'min_samples_leaf': 1}, {'max_depth': 7, 'max_features': 'sqrt', 'min_samples_leaf': 5}, {'max_depth': 7, 'max_features': 'sqrt', 'min_samples_leaf': 10}, {'max_depth': 7, 'max_features': 'sqrt', 'min_samples_leaf': 20}, {'max_depth': 7, 'max_features': 0.5, 'min_samples_leaf': 1}, {'max_depth': 7, 'max_features': 0.5, 'min_samples_leaf': 5}, {'max_depth': 7, 'max_features': 0.5, 'min_samples_leaf': 10}, {'max_depth': 7, 'max_features': 0.5, 'min_samples_leaf': 20}, {'max_depth': 7, 'max_features': 0.75, 'min_samples_leaf': 1}, {'max_depth': 7, 'max_features': 0.75, 'min_samples_leaf': 5}, {'max_depth': 7, 'max_features': 0.75, 'min_samples_leaf': 10}, {'max_depth': 7, 'max_features': 0.75, 'min_samples_leaf': 20}, {'max_depth': 7, 'max_features': None, 'min_samples_leaf': 1}, {'max_depth': 7, 'max_features': None, 'min_samples_leaf': 5}, {'max_depth': 7, 'max_features': None, 'min_samples_leaf': 10}, {'max_depth': 7, 'max_features': None, 'min_samples_leaf': 20}], 'split0_test_score': array([0.91598361, 0.91598361, 0.91598361, 0.90368852, 0.94262295,\n",
      "       0.93852459, 0.93852459, 0.92213115, 0.99180328, 0.99385246,\n",
      "       0.99180328, 0.96516393, 0.99795082, 0.99590164, 0.99385246,\n",
      "       0.96516393, 0.99590164, 0.99385246, 0.99180328, 0.96516393,\n",
      "       0.95286885, 0.95286885, 0.95696721, 0.94467213, 0.9692623 ,\n",
      "       0.9692623 , 0.9692623 , 0.9692623 , 0.99590164, 0.99590164,\n",
      "       0.99180328, 0.97336066, 0.99590164, 0.99795082, 0.99590164,\n",
      "       0.97336066, 0.99385246, 0.99590164, 0.99180328, 0.97336066,\n",
      "       0.96106557, 0.96106557, 0.95081967, 0.93852459, 0.98770492,\n",
      "       0.98770492, 0.98770492, 0.98770492, 0.99795082, 0.99385246,\n",
      "       0.99180328, 0.97336066, 1.        , 0.99795082, 0.99590164,\n",
      "       0.97336066, 1.        , 0.99590164, 0.99590164, 0.97336066,\n",
      "       0.97336066, 0.97540984, 0.95491803, 0.95286885, 0.97336066,\n",
      "       0.98770492, 0.98770492, 0.98770492, 1.        , 0.99590164,\n",
      "       0.99385246, 0.97336066, 1.        , 0.99795082, 0.99590164,\n",
      "       0.97336066, 1.        , 0.99590164, 0.99590164, 0.97336066]), 'split1_test_score': array([0.91393443, 0.91393443, 0.91393443, 0.90368852, 0.93852459,\n",
      "       0.93442623, 0.93442623, 0.93647541, 0.98565574, 0.98565574,\n",
      "       0.98565574, 0.9795082 , 0.99180328, 0.99180328, 0.99180328,\n",
      "       0.9795082 , 0.9897541 , 0.9897541 , 0.99385246, 0.9692623 ,\n",
      "       0.94467213, 0.94467213, 0.95081967, 0.93852459, 0.94672131,\n",
      "       0.97131148, 0.97131148, 0.96721311, 0.99590164, 0.99385246,\n",
      "       0.99385246, 0.99795082, 0.99590164, 0.99590164, 0.99180328,\n",
      "       0.99795082, 1.        , 0.99590164, 0.99385246, 0.98155738,\n",
      "       0.94057377, 0.95286885, 0.93237705, 0.92622951, 0.97336066,\n",
      "       0.9692623 , 0.96721311, 0.95696721, 1.        , 1.        ,\n",
      "       0.98360656, 0.99795082, 1.        , 0.99590164, 0.99590164,\n",
      "       0.99795082, 1.        , 0.99590164, 0.9897541 , 0.98155738,\n",
      "       0.97745902, 0.99180328, 0.96721311, 0.93647541, 0.9692623 ,\n",
      "       0.95901639, 0.94672131, 0.98360656, 1.        , 1.        ,\n",
      "       0.98360656, 0.99795082, 1.        , 0.99590164, 0.99590164,\n",
      "       0.99795082, 1.        , 0.99590164, 0.9897541 , 0.98155738]), 'split2_test_score': array([0.89322382, 0.89322382, 0.89322382, 0.88911704, 0.92607803,\n",
      "       0.92402464, 0.92402464, 0.90349076, 0.98151951, 0.98151951,\n",
      "       0.98767967, 0.9650924 , 0.98767967, 0.98767967, 0.98562628,\n",
      "       0.9650924 , 0.98767967, 0.98767967, 0.98562628, 0.9650924 ,\n",
      "       0.93223819, 0.9301848 , 0.93634497, 0.91786448, 0.93634497,\n",
      "       0.95687885, 0.95687885, 0.94661191, 1.        , 0.99794661,\n",
      "       0.98562628, 0.9650924 , 1.        , 0.99794661, 0.98562628,\n",
      "       0.96303901, 1.        , 0.99794661, 0.98562628, 0.9650924 ,\n",
      "       0.92197125, 0.93839836, 0.92197125, 0.91991786, 0.96098563,\n",
      "       0.97125257, 0.96098563, 0.95071869, 1.        , 0.99794661,\n",
      "       0.98767967, 0.9650924 , 1.        , 0.99794661, 0.98562628,\n",
      "       0.9650924 , 1.        , 0.99794661, 0.98562628, 0.9650924 ,\n",
      "       0.97330595, 0.97741273, 0.96098563, 0.91581109, 0.97535934,\n",
      "       0.96714579, 0.97330595, 0.97125257, 1.        , 0.99794661,\n",
      "       0.97741273, 0.9650924 , 1.        , 0.99794661, 0.98562628,\n",
      "       0.9650924 , 1.        , 0.99794661, 0.98562628, 0.9650924 ]), 'split3_test_score': array([0.9137577 , 0.9137577 , 0.90759754, 0.90349076, 0.94045175,\n",
      "       0.93223819, 0.93223819, 0.93429158, 0.99383984, 0.98973306,\n",
      "       0.97741273, 0.97741273, 0.99178645, 0.98767967, 0.98767967,\n",
      "       0.97741273, 0.97946612, 0.97946612, 0.97946612, 0.96714579,\n",
      "       0.94455852, 0.94045175, 0.94045175, 0.92607803, 0.94661191,\n",
      "       0.96919918, 0.96919918, 0.9650924 , 1.        , 0.99589322,\n",
      "       0.99589322, 0.99178645, 0.99794661, 0.99383984, 0.98767967,\n",
      "       0.99589322, 0.99383984, 0.99178645, 0.97946612, 0.97946612,\n",
      "       0.94045175, 0.94045175, 0.93634497, 0.9301848 , 0.96714579,\n",
      "       0.9650924 , 0.9650924 , 0.95687885, 1.        , 0.99589322,\n",
      "       0.99589322, 0.99178645, 0.99794661, 0.99383984, 0.99178645,\n",
      "       0.99589322, 0.99383984, 0.99178645, 0.97946612, 0.97946612,\n",
      "       0.9650924 , 0.97741273, 0.96714579, 0.9486653 , 0.96919918,\n",
      "       0.96098563, 0.95277207, 0.93429158, 1.        , 0.99589322,\n",
      "       0.99589322, 0.99178645, 0.99794661, 0.99383984, 0.99178645,\n",
      "       0.99589322, 0.99589322, 0.99178645, 0.97946612, 0.97946612]), 'split4_test_score': array([0.88501027, 0.88501027, 0.87679671, 0.87474333, 0.9137577 ,\n",
      "       0.90965092, 0.90965092, 0.89322382, 0.98767967, 0.98767967,\n",
      "       0.98767967, 0.97535934, 0.99589322, 0.99589322, 0.99589322,\n",
      "       0.97535934, 0.99383984, 0.99383984, 0.98767967, 0.96303901,\n",
      "       0.93429158, 0.93429158, 0.93634497, 0.92197125, 0.92813142,\n",
      "       0.96919918, 0.96098563, 0.96098563, 0.99589322, 0.99589322,\n",
      "       0.99589322, 0.99383984, 1.        , 1.        , 0.99589322,\n",
      "       0.99383984, 1.        , 0.99794661, 0.98767967, 0.97946612,\n",
      "       0.92402464, 0.93839836, 0.92197125, 0.90143737, 0.97125257,\n",
      "       0.95482546, 0.94455852, 0.93634497, 1.        , 1.        ,\n",
      "       0.99178645, 0.99383984, 1.        , 1.        , 0.99589322,\n",
      "       0.99383984, 1.        , 0.99794661, 0.98767967, 0.97946612,\n",
      "       0.94661191, 0.98562628, 0.94250513, 0.94250513, 0.98151951,\n",
      "       0.94661191, 0.97330595, 0.94455852, 1.        , 1.        ,\n",
      "       0.99178645, 0.99383984, 1.        , 1.        , 0.99589322,\n",
      "       0.99383984, 1.        , 0.99794661, 0.98767967, 0.97946612]), 'mean_test_score': array([0.90438196, 0.90438196, 0.90150722, 0.89494564, 0.932287  ,\n",
      "       0.92777292, 0.92777292, 0.91792254, 0.98809961, 0.98768809,\n",
      "       0.98604622, 0.97250732, 0.99302269, 0.9917915 , 0.99097098,\n",
      "       0.97250732, 0.98932827, 0.98891844, 0.98768556, 0.96594069,\n",
      "       0.94172586, 0.94049382, 0.94418571, 0.9298221 , 0.94541438,\n",
      "       0.9671702 , 0.96552749, 0.96183307, 0.9975393 , 0.99589743,\n",
      "       0.99261369, 0.98440603, 0.99794998, 0.99712778, 0.99138082,\n",
      "       0.98481671, 0.99753846, 0.99589659, 0.98768556, 0.97578853,\n",
      "       0.9376174 , 0.94623658, 0.93269684, 0.92325883, 0.97208991,\n",
      "       0.96962753, 0.96511092, 0.95772293, 0.99959016, 0.99753846,\n",
      "       0.99015384, 0.98440603, 0.99958932, 0.99712778, 0.99302185,\n",
      "       0.98522739, 0.99876797, 0.99589659, 0.98768556, 0.97578853,\n",
      "       0.96716599, 0.98153297, 0.95855354, 0.93926516, 0.9737402 ,\n",
      "       0.96429293, 0.96676204, 0.96428283, 1.        , 0.9979483 ,\n",
      "       0.98851028, 0.98440603, 0.99958932, 0.99712778, 0.99302185,\n",
      "       0.98522739, 0.99917864, 0.99589659, 0.98768556, 0.97578853]), 'std_test_score': array([0.01275554, 0.01275554, 0.0146991 , 0.01155856, 0.01090219,\n",
      "       0.01022018, 0.01022018, 0.01701864, 0.00438438, 0.00410763,\n",
      "       0.00475751, 0.00616629, 0.00358021, 0.0036751 , 0.00381111,\n",
      "       0.00616629, 0.00572232, 0.00529422, 0.0050356 , 0.00210846,\n",
      "       0.00756512, 0.0079416 , 0.00829787, 0.01014786, 0.01380449,\n",
      "       0.00520908, 0.00559128, 0.00808905, 0.00200916, 0.00129469,\n",
      "       0.00380857, 0.01282143, 0.00183284, 0.0020934 , 0.00419026,\n",
      "       0.01401513, 0.00301476, 0.00224938, 0.0050356 , 0.0060105 ,\n",
      "       0.01411492, 0.00916762, 0.01069509, 0.01246736, 0.00887574,\n",
      "       0.01066991, 0.01381541, 0.01677069, 0.00081967, 0.00239075,\n",
      "       0.00417888, 0.01282143, 0.00082136, 0.0020934 , 0.00402621,\n",
      "       0.01338699, 0.00246407, 0.00224938, 0.00535878, 0.0060105 ,\n",
      "       0.0110344 , 0.00622382, 0.00922495, 0.01297534, 0.00455973,\n",
      "       0.01347337, 0.01497731, 0.02125606, 0.        , 0.00183473,\n",
      "       0.00694236, 0.01282143, 0.00082136, 0.0020934 , 0.00402621,\n",
      "       0.01338699, 0.00164271, 0.00224938, 0.00535878, 0.0060105 ]), 'rank_test_score': array([77, 77, 79, 80, 71, 73, 73, 76, 30, 31, 36, 48, 19, 23, 25, 48, 27,\n",
      "       28, 32, 55, 66, 67, 65, 72, 64, 52, 56, 60,  9, 15, 22, 40,  7, 12,\n",
      "       24, 39, 10, 16, 32, 44, 69, 63, 70, 75, 50, 51, 57, 62,  2, 10, 26,\n",
      "       40,  3, 12, 20, 37,  6, 16, 32, 44, 53, 43, 61, 68, 47, 58, 54, 59,\n",
      "        1,  8, 29, 40,  3, 12, 20, 37,  5, 16, 32, 44], dtype=int32)}\n"
     ]
    },
    {
     "data": {
      "text/plain": [
       "'Лучшая из построенных моделей:'"
      ]
     },
     "metadata": {},
     "output_type": "display_data"
    },
    {
     "name": "stdout",
     "output_type": "stream",
     "text": [
      "Лучшая модель:  DecisionTreeClassifier(ccp_alpha=0.0, class_weight=None, criterion='gini',\n",
      "                       max_depth=7, max_features=0.5, max_leaf_nodes=None,\n",
      "                       min_impurity_decrease=0.0, min_impurity_split=None,\n",
      "                       min_samples_leaf=1, min_samples_split=2,\n",
      "                       min_weight_fraction_leaf=0.0, presort='deprecated',\n",
      "                       random_state=42, splitter='best')\n",
      "Лучшее значение метрики:  1.0\n",
      "Лучшее значение параметров:  {'max_depth': 7, 'max_features': 0.5, 'min_samples_leaf': 1}\n"
     ]
    },
    {
     "data": {
      "text/plain": [
       "'Значения метрик качества:'"
      ]
     },
     "metadata": {},
     "output_type": "display_data"
    },
    {
     "name": "stdout",
     "output_type": "stream",
     "text": [
      "метрика: accuracy - обучающая выборка:  1.0\n",
      "метрика: accuracy - тестовая выборка:  1.0\n",
      "метрика: precision - обучающая выборка:  1.0\n",
      "метрика: precision - тестовая выборка:  1.0\n"
     ]
    },
    {
     "data": {
      "text/plain": [
       "'Accuracy для каждого класса:'"
      ]
     },
     "metadata": {},
     "output_type": "display_data"
    },
    {
     "name": "stdout",
     "output_type": "stream",
     "text": [
      "Метка \t Accuracy\n",
      "e \t 1.0\n",
      "p \t 1.0\n"
     ]
    },
    {
     "data": {
      "text/plain": [
       "{'model_name': 'DTC_full',\n",
       " 'fit_time': 5.193798191001406,\n",
       " 'best_score': 1.0,\n",
       " 'accuracy_train': 1.0,\n",
       " 'accuracy_test': 1.0,\n",
       " 'precision_train': 1.0,\n",
       " 'precision_test': 1.0}"
      ]
     },
     "execution_count": 80,
     "metadata": {},
     "output_type": "execute_result"
    }
   ],
   "source": [
    "# Обучим дерево на всех признаках\n",
    "dtc_f_stats,dtc_f_estimator = build_print_model(mushrooms_ohe_X,mushrooms_y,DecisionTreeClassifier(random_state=42),dtc_param_grid,'DTC_full')\n",
    "dtc_f_stats"
   ]
  },
  {
   "cell_type": "code",
   "execution_count": 81,
   "metadata": {},
   "outputs": [],
   "source": [
    "# Импорт библиотек и функций для визуализации дерева\n",
    "from sklearn.tree import export_graphviz\n",
    "import graphviz\n",
    "import pydot"
   ]
  },
  {
   "cell_type": "code",
   "execution_count": 82,
   "metadata": {},
   "outputs": [
    {
     "data": {
      "image/svg+xml": [
       "<?xml version=\"1.0\" encoding=\"UTF-8\" standalone=\"no\"?>\n",
       "<!DOCTYPE svg PUBLIC \"-//W3C//DTD SVG 1.1//EN\"\n",
       " \"http://www.w3.org/Graphics/SVG/1.1/DTD/svg11.dtd\">\n",
       "<!-- Generated by graphviz version 2.42.3 (20191010.1750)\n",
       " -->\n",
       "<!-- Title: Tree Pages: 1 -->\n",
       "<svg width=\"1224pt\" height=\"835pt\"\n",
       " viewBox=\"0.00 0.00 1224.00 835.03\" xmlns=\"http://www.w3.org/2000/svg\" xmlns:xlink=\"http://www.w3.org/1999/xlink\">\n",
       "<g id=\"graph0\" class=\"graph\" transform=\"scale(0.95 0.95) rotate(0) translate(4 786)\">\n",
       "<title>Tree</title>\n",
       "<polygon fill=\"white\" stroke=\"transparent\" points=\"-4,4 -4,-786 1154,-786 1154,4 -4,4\"/>\n",
       "<!-- 0 -->\n",
       "<g id=\"node1\" class=\"node\">\n",
       "<title>0</title>\n",
       "<path fill=\"#fcefe5\" stroke=\"black\" d=\"M927,-782C927,-782 741,-782 741,-782 735,-782 729,-776 729,-770 729,-770 729,-711 729,-711 729,-705 735,-699 741,-699 741,-699 927,-699 927,-699 933,-699 939,-705 939,-711 939,-711 939,-770 939,-770 939,-776 933,-782 927,-782\"/>\n",
       "<text text-anchor=\"start\" x=\"737\" y=\"-766.8\" font-family=\"Helvetica,sans-Serif\" font-size=\"14.00\">stalk&#45;surface&#45;above&#45;ring_k ≤ 0.5</text>\n",
       "<text text-anchor=\"start\" x=\"798.5\" y=\"-751.8\" font-family=\"Helvetica,sans-Serif\" font-size=\"14.00\">gini = 0.498</text>\n",
       "<text text-anchor=\"start\" x=\"785.5\" y=\"-736.8\" font-family=\"Helvetica,sans-Serif\" font-size=\"14.00\">samples = 2437</text>\n",
       "<text text-anchor=\"start\" x=\"772\" y=\"-721.8\" font-family=\"Helvetica,sans-Serif\" font-size=\"14.00\">value = [1303, 1134]</text>\n",
       "<text text-anchor=\"start\" x=\"806.5\" y=\"-706.8\" font-family=\"Helvetica,sans-Serif\" font-size=\"14.00\">class = e</text>\n",
       "</g>\n",
       "<!-- 1 -->\n",
       "<g id=\"node2\" class=\"node\">\n",
       "<title>1</title>\n",
       "<path fill=\"#efb185\" stroke=\"black\" d=\"M812,-663C812,-663 704,-663 704,-663 698,-663 692,-657 692,-651 692,-651 692,-592 692,-592 692,-586 698,-580 704,-580 704,-580 812,-580 812,-580 818,-580 824,-586 824,-592 824,-592 824,-651 824,-651 824,-657 818,-663 812,-663\"/>\n",
       "<text text-anchor=\"start\" x=\"710.5\" y=\"-647.8\" font-family=\"Helvetica,sans-Serif\" font-size=\"14.00\">gill&#45;size_b ≤ 0.5</text>\n",
       "<text text-anchor=\"start\" x=\"730\" y=\"-632.8\" font-family=\"Helvetica,sans-Serif\" font-size=\"14.00\">gini = 0.4</text>\n",
       "<text text-anchor=\"start\" x=\"709.5\" y=\"-617.8\" font-family=\"Helvetica,sans-Serif\" font-size=\"14.00\">samples = 1739</text>\n",
       "<text text-anchor=\"start\" x=\"700\" y=\"-602.8\" font-family=\"Helvetica,sans-Serif\" font-size=\"14.00\">value = [1258, 481]</text>\n",
       "<text text-anchor=\"start\" x=\"730.5\" y=\"-587.8\" font-family=\"Helvetica,sans-Serif\" font-size=\"14.00\">class = e</text>\n",
       "</g>\n",
       "<!-- 0&#45;&gt;1 -->\n",
       "<g id=\"edge1\" class=\"edge\">\n",
       "<title>0&#45;&gt;1</title>\n",
       "<path fill=\"none\" stroke=\"black\" d=\"M807.63,-698.91C801.91,-690.1 795.81,-680.7 789.9,-671.61\"/>\n",
       "<polygon fill=\"black\" stroke=\"black\" points=\"792.7,-669.5 784.32,-663.02 786.83,-673.31 792.7,-669.5\"/>\n",
       "<text text-anchor=\"middle\" x=\"779.13\" y=\"-683.78\" font-family=\"Helvetica,sans-Serif\" font-size=\"14.00\">True</text>\n",
       "</g>\n",
       "<!-- 22 -->\n",
       "<g id=\"node23\" class=\"node\">\n",
       "<title>22</title>\n",
       "<path fill=\"#47a4e7\" stroke=\"black\" d=\"M966,-663C966,-663 854,-663 854,-663 848,-663 842,-657 842,-651 842,-651 842,-592 842,-592 842,-586 848,-580 854,-580 854,-580 966,-580 966,-580 972,-580 978,-586 978,-592 978,-592 978,-651 978,-651 978,-657 972,-663 966,-663\"/>\n",
       "<text text-anchor=\"start\" x=\"850\" y=\"-647.8\" font-family=\"Helvetica,sans-Serif\" font-size=\"14.00\">ring&#45;number_t ≤ 0.5</text>\n",
       "<text text-anchor=\"start\" x=\"874.5\" y=\"-632.8\" font-family=\"Helvetica,sans-Serif\" font-size=\"14.00\">gini = 0.121</text>\n",
       "<text text-anchor=\"start\" x=\"865\" y=\"-617.8\" font-family=\"Helvetica,sans-Serif\" font-size=\"14.00\">samples = 698</text>\n",
       "<text text-anchor=\"start\" x=\"859.5\" y=\"-602.8\" font-family=\"Helvetica,sans-Serif\" font-size=\"14.00\">value = [45, 653]</text>\n",
       "<text text-anchor=\"start\" x=\"882.5\" y=\"-587.8\" font-family=\"Helvetica,sans-Serif\" font-size=\"14.00\">class = p</text>\n",
       "</g>\n",
       "<!-- 0&#45;&gt;22 -->\n",
       "<g id=\"edge22\" class=\"edge\">\n",
       "<title>0&#45;&gt;22</title>\n",
       "<path fill=\"none\" stroke=\"black\" d=\"M860.37,-698.91C866.09,-690.1 872.19,-680.7 878.1,-671.61\"/>\n",
       "<polygon fill=\"black\" stroke=\"black\" points=\"881.17,-673.31 883.68,-663.02 875.3,-669.5 881.17,-673.31\"/>\n",
       "<text text-anchor=\"middle\" x=\"888.87\" y=\"-683.78\" font-family=\"Helvetica,sans-Serif\" font-size=\"14.00\">False</text>\n",
       "</g>\n",
       "<!-- 2 -->\n",
       "<g id=\"node3\" class=\"node\">\n",
       "<title>2</title>\n",
       "<path fill=\"#64b2eb\" stroke=\"black\" d=\"M561.5,-544C561.5,-544 468.5,-544 468.5,-544 462.5,-544 456.5,-538 456.5,-532 456.5,-532 456.5,-473 456.5,-473 456.5,-467 462.5,-461 468.5,-461 468.5,-461 561.5,-461 561.5,-461 567.5,-461 573.5,-467 573.5,-473 573.5,-473 573.5,-532 573.5,-532 573.5,-538 567.5,-544 561.5,-544\"/>\n",
       "<text text-anchor=\"start\" x=\"476.5\" y=\"-528.8\" font-family=\"Helvetica,sans-Serif\" font-size=\"14.00\">odor_n ≤ 0.5</text>\n",
       "<text text-anchor=\"start\" x=\"479.5\" y=\"-513.8\" font-family=\"Helvetica,sans-Serif\" font-size=\"14.00\">gini = 0.292</text>\n",
       "<text text-anchor=\"start\" x=\"470\" y=\"-498.8\" font-family=\"Helvetica,sans-Serif\" font-size=\"14.00\">samples = 446</text>\n",
       "<text text-anchor=\"start\" x=\"464.5\" y=\"-483.8\" font-family=\"Helvetica,sans-Serif\" font-size=\"14.00\">value = [79, 367]</text>\n",
       "<text text-anchor=\"start\" x=\"487.5\" y=\"-468.8\" font-family=\"Helvetica,sans-Serif\" font-size=\"14.00\">class = p</text>\n",
       "</g>\n",
       "<!-- 1&#45;&gt;2 -->\n",
       "<g id=\"edge2\" class=\"edge\">\n",
       "<title>1&#45;&gt;2</title>\n",
       "<path fill=\"none\" stroke=\"black\" d=\"M691.92,-588.68C658.13,-572.42 617.07,-552.65 583.01,-536.25\"/>\n",
       "<polygon fill=\"black\" stroke=\"black\" points=\"584.13,-532.9 573.61,-531.72 581.1,-539.21 584.13,-532.9\"/>\n",
       "</g>\n",
       "<!-- 13 -->\n",
       "<g id=\"node14\" class=\"node\">\n",
       "<title>13</title>\n",
       "<path fill=\"#e88d4c\" stroke=\"black\" d=\"M816,-544C816,-544 708,-544 708,-544 702,-544 696,-538 696,-532 696,-532 696,-473 696,-473 696,-467 702,-461 708,-461 708,-461 816,-461 816,-461 822,-461 828,-467 828,-473 828,-473 828,-532 828,-532 828,-538 822,-544 816,-544\"/>\n",
       "<text text-anchor=\"start\" x=\"709\" y=\"-528.8\" font-family=\"Helvetica,sans-Serif\" font-size=\"14.00\">cap&#45;color_b ≤ 0.5</text>\n",
       "<text text-anchor=\"start\" x=\"726.5\" y=\"-513.8\" font-family=\"Helvetica,sans-Serif\" font-size=\"14.00\">gini = 0.161</text>\n",
       "<text text-anchor=\"start\" x=\"713.5\" y=\"-498.8\" font-family=\"Helvetica,sans-Serif\" font-size=\"14.00\">samples = 1293</text>\n",
       "<text text-anchor=\"start\" x=\"704\" y=\"-483.8\" font-family=\"Helvetica,sans-Serif\" font-size=\"14.00\">value = [1179, 114]</text>\n",
       "<text text-anchor=\"start\" x=\"734.5\" y=\"-468.8\" font-family=\"Helvetica,sans-Serif\" font-size=\"14.00\">class = e</text>\n",
       "</g>\n",
       "<!-- 1&#45;&gt;13 -->\n",
       "<g id=\"edge13\" class=\"edge\">\n",
       "<title>1&#45;&gt;13</title>\n",
       "<path fill=\"none\" stroke=\"black\" d=\"M759.39,-579.91C759.67,-571.56 759.98,-562.67 760.27,-554.02\"/>\n",
       "<polygon fill=\"black\" stroke=\"black\" points=\"763.77,-554.13 760.61,-544.02 756.77,-553.9 763.77,-554.13\"/>\n",
       "</g>\n",
       "<!-- 3 -->\n",
       "<g id=\"node4\" class=\"node\">\n",
       "<title>3</title>\n",
       "<path fill=\"#47a4e7\" stroke=\"black\" d=\"M372.5,-425C372.5,-425 279.5,-425 279.5,-425 273.5,-425 267.5,-419 267.5,-413 267.5,-413 267.5,-354 267.5,-354 267.5,-348 273.5,-342 279.5,-342 279.5,-342 372.5,-342 372.5,-342 378.5,-342 384.5,-348 384.5,-354 384.5,-354 384.5,-413 384.5,-413 384.5,-419 378.5,-425 372.5,-425\"/>\n",
       "<text text-anchor=\"start\" x=\"287.5\" y=\"-409.8\" font-family=\"Helvetica,sans-Serif\" font-size=\"14.00\">odor_a ≤ 0.5</text>\n",
       "<text text-anchor=\"start\" x=\"290.5\" y=\"-394.8\" font-family=\"Helvetica,sans-Serif\" font-size=\"14.00\">gini = 0.125</text>\n",
       "<text text-anchor=\"start\" x=\"281\" y=\"-379.8\" font-family=\"Helvetica,sans-Serif\" font-size=\"14.00\">samples = 388</text>\n",
       "<text text-anchor=\"start\" x=\"275.5\" y=\"-364.8\" font-family=\"Helvetica,sans-Serif\" font-size=\"14.00\">value = [26, 362]</text>\n",
       "<text text-anchor=\"start\" x=\"298.5\" y=\"-349.8\" font-family=\"Helvetica,sans-Serif\" font-size=\"14.00\">class = p</text>\n",
       "</g>\n",
       "<!-- 2&#45;&gt;3 -->\n",
       "<g id=\"edge3\" class=\"edge\">\n",
       "<title>2&#45;&gt;3</title>\n",
       "<path fill=\"none\" stroke=\"black\" d=\"M456.49,-465.28C436.48,-452.89 413.93,-438.93 393.28,-426.15\"/>\n",
       "<polygon fill=\"black\" stroke=\"black\" points=\"394.9,-423.04 384.56,-420.75 391.22,-428.99 394.9,-423.04\"/>\n",
       "</g>\n",
       "<!-- 10 -->\n",
       "<g id=\"node11\" class=\"node\">\n",
       "<title>10</title>\n",
       "<path fill=\"#e78d4c\" stroke=\"black\" d=\"M567,-425C567,-425 463,-425 463,-425 457,-425 451,-419 451,-413 451,-413 451,-354 451,-354 451,-348 457,-342 463,-342 463,-342 567,-342 567,-342 573,-342 579,-348 579,-354 579,-354 579,-413 579,-413 579,-419 573,-425 567,-425\"/>\n",
       "<text text-anchor=\"start\" x=\"459\" y=\"-409.8\" font-family=\"Helvetica,sans-Serif\" font-size=\"14.00\">population_c ≤ 0.5</text>\n",
       "<text text-anchor=\"start\" x=\"479.5\" y=\"-394.8\" font-family=\"Helvetica,sans-Serif\" font-size=\"14.00\">gini = 0.158</text>\n",
       "<text text-anchor=\"start\" x=\"474\" y=\"-379.8\" font-family=\"Helvetica,sans-Serif\" font-size=\"14.00\">samples = 58</text>\n",
       "<text text-anchor=\"start\" x=\"472\" y=\"-364.8\" font-family=\"Helvetica,sans-Serif\" font-size=\"14.00\">value = [53, 5]</text>\n",
       "<text text-anchor=\"start\" x=\"487.5\" y=\"-349.8\" font-family=\"Helvetica,sans-Serif\" font-size=\"14.00\">class = e</text>\n",
       "</g>\n",
       "<!-- 2&#45;&gt;10 -->\n",
       "<g id=\"edge10\" class=\"edge\">\n",
       "<title>2&#45;&gt;10</title>\n",
       "<path fill=\"none\" stroke=\"black\" d=\"M515,-460.91C515,-452.65 515,-443.86 515,-435.3\"/>\n",
       "<polygon fill=\"black\" stroke=\"black\" points=\"518.5,-435.02 515,-425.02 511.5,-435.02 518.5,-435.02\"/>\n",
       "</g>\n",
       "<!-- 4 -->\n",
       "<g id=\"node5\" class=\"node\">\n",
       "<title>4</title>\n",
       "<path fill=\"#3fa0e6\" stroke=\"black\" d=\"M245,-306C245,-306 105,-306 105,-306 99,-306 93,-300 93,-294 93,-294 93,-235 93,-235 93,-229 99,-223 105,-223 105,-223 245,-223 245,-223 251,-223 257,-229 257,-235 257,-235 257,-294 257,-294 257,-300 251,-306 245,-306\"/>\n",
       "<text text-anchor=\"start\" x=\"101\" y=\"-290.8\" font-family=\"Helvetica,sans-Serif\" font-size=\"14.00\">spore&#45;print&#45;color_u ≤ 0.5</text>\n",
       "<text text-anchor=\"start\" x=\"139.5\" y=\"-275.8\" font-family=\"Helvetica,sans-Serif\" font-size=\"14.00\">gini = 0.057</text>\n",
       "<text text-anchor=\"start\" x=\"130\" y=\"-260.8\" font-family=\"Helvetica,sans-Serif\" font-size=\"14.00\">samples = 373</text>\n",
       "<text text-anchor=\"start\" x=\"124.5\" y=\"-245.8\" font-family=\"Helvetica,sans-Serif\" font-size=\"14.00\">value = [11, 362]</text>\n",
       "<text text-anchor=\"start\" x=\"147.5\" y=\"-230.8\" font-family=\"Helvetica,sans-Serif\" font-size=\"14.00\">class = p</text>\n",
       "</g>\n",
       "<!-- 3&#45;&gt;4 -->\n",
       "<g id=\"edge4\" class=\"edge\">\n",
       "<title>3&#45;&gt;4</title>\n",
       "<path fill=\"none\" stroke=\"black\" d=\"M273.61,-341.91C261.31,-332.38 248.11,-322.15 235.49,-312.37\"/>\n",
       "<polygon fill=\"black\" stroke=\"black\" points=\"237.34,-309.38 227.3,-306.02 233.06,-314.91 237.34,-309.38\"/>\n",
       "</g>\n",
       "<!-- 9 -->\n",
       "<g id=\"node10\" class=\"node\">\n",
       "<title>9</title>\n",
       "<path fill=\"#e58139\" stroke=\"black\" d=\"M365,-298.5C365,-298.5 287,-298.5 287,-298.5 281,-298.5 275,-292.5 275,-286.5 275,-286.5 275,-242.5 275,-242.5 275,-236.5 281,-230.5 287,-230.5 287,-230.5 365,-230.5 365,-230.5 371,-230.5 377,-236.5 377,-242.5 377,-242.5 377,-286.5 377,-286.5 377,-292.5 371,-298.5 365,-298.5\"/>\n",
       "<text text-anchor=\"start\" x=\"298\" y=\"-283.3\" font-family=\"Helvetica,sans-Serif\" font-size=\"14.00\">gini = 0.0</text>\n",
       "<text text-anchor=\"start\" x=\"285\" y=\"-268.3\" font-family=\"Helvetica,sans-Serif\" font-size=\"14.00\">samples = 15</text>\n",
       "<text text-anchor=\"start\" x=\"283\" y=\"-253.3\" font-family=\"Helvetica,sans-Serif\" font-size=\"14.00\">value = [15, 0]</text>\n",
       "<text text-anchor=\"start\" x=\"298.5\" y=\"-238.3\" font-family=\"Helvetica,sans-Serif\" font-size=\"14.00\">class = e</text>\n",
       "</g>\n",
       "<!-- 3&#45;&gt;9 -->\n",
       "<g id=\"edge9\" class=\"edge\">\n",
       "<title>3&#45;&gt;9</title>\n",
       "<path fill=\"none\" stroke=\"black\" d=\"M326,-341.91C326,-331.2 326,-319.62 326,-308.78\"/>\n",
       "<polygon fill=\"black\" stroke=\"black\" points=\"329.5,-308.67 326,-298.67 322.5,-308.67 329.5,-308.67\"/>\n",
       "</g>\n",
       "<!-- 5 -->\n",
       "<g id=\"node6\" class=\"node\">\n",
       "<title>5</title>\n",
       "<path fill=\"#3d9fe6\" stroke=\"black\" d=\"M158,-187C158,-187 72,-187 72,-187 66,-187 60,-181 60,-175 60,-175 60,-116 60,-116 60,-110 66,-104 72,-104 72,-104 158,-104 158,-104 164,-104 170,-110 170,-116 170,-116 170,-175 170,-175 170,-181 164,-187 158,-187\"/>\n",
       "<text text-anchor=\"start\" x=\"78.5\" y=\"-171.8\" font-family=\"Helvetica,sans-Serif\" font-size=\"14.00\">odor_l ≤ 0.5</text>\n",
       "<text text-anchor=\"start\" x=\"79.5\" y=\"-156.8\" font-family=\"Helvetica,sans-Serif\" font-size=\"14.00\">gini = 0.037</text>\n",
       "<text text-anchor=\"start\" x=\"70\" y=\"-141.8\" font-family=\"Helvetica,sans-Serif\" font-size=\"14.00\">samples = 369</text>\n",
       "<text text-anchor=\"start\" x=\"68\" y=\"-126.8\" font-family=\"Helvetica,sans-Serif\" font-size=\"14.00\">value = [7, 362]</text>\n",
       "<text text-anchor=\"start\" x=\"87.5\" y=\"-111.8\" font-family=\"Helvetica,sans-Serif\" font-size=\"14.00\">class = p</text>\n",
       "</g>\n",
       "<!-- 4&#45;&gt;5 -->\n",
       "<g id=\"edge5\" class=\"edge\">\n",
       "<title>4&#45;&gt;5</title>\n",
       "<path fill=\"none\" stroke=\"black\" d=\"M154.18,-222.91C149.76,-214.29 145.05,-205.09 140.47,-196.17\"/>\n",
       "<polygon fill=\"black\" stroke=\"black\" points=\"143.46,-194.32 135.78,-187.02 137.23,-197.52 143.46,-194.32\"/>\n",
       "</g>\n",
       "<!-- 8 -->\n",
       "<g id=\"node9\" class=\"node\">\n",
       "<title>8</title>\n",
       "<path fill=\"#e58139\" stroke=\"black\" d=\"M271.5,-179.5C271.5,-179.5 200.5,-179.5 200.5,-179.5 194.5,-179.5 188.5,-173.5 188.5,-167.5 188.5,-167.5 188.5,-123.5 188.5,-123.5 188.5,-117.5 194.5,-111.5 200.5,-111.5 200.5,-111.5 271.5,-111.5 271.5,-111.5 277.5,-111.5 283.5,-117.5 283.5,-123.5 283.5,-123.5 283.5,-167.5 283.5,-167.5 283.5,-173.5 277.5,-179.5 271.5,-179.5\"/>\n",
       "<text text-anchor=\"start\" x=\"208\" y=\"-164.3\" font-family=\"Helvetica,sans-Serif\" font-size=\"14.00\">gini = 0.0</text>\n",
       "<text text-anchor=\"start\" x=\"198.5\" y=\"-149.3\" font-family=\"Helvetica,sans-Serif\" font-size=\"14.00\">samples = 4</text>\n",
       "<text text-anchor=\"start\" x=\"196.5\" y=\"-134.3\" font-family=\"Helvetica,sans-Serif\" font-size=\"14.00\">value = [4, 0]</text>\n",
       "<text text-anchor=\"start\" x=\"208.5\" y=\"-119.3\" font-family=\"Helvetica,sans-Serif\" font-size=\"14.00\">class = e</text>\n",
       "</g>\n",
       "<!-- 4&#45;&gt;8 -->\n",
       "<g id=\"edge8\" class=\"edge\">\n",
       "<title>4&#45;&gt;8</title>\n",
       "<path fill=\"none\" stroke=\"black\" d=\"M196.16,-222.91C201.92,-211.87 208.16,-199.9 213.96,-188.77\"/>\n",
       "<polygon fill=\"black\" stroke=\"black\" points=\"217.19,-190.15 218.71,-179.67 210.98,-186.92 217.19,-190.15\"/>\n",
       "</g>\n",
       "<!-- 6 -->\n",
       "<g id=\"node7\" class=\"node\">\n",
       "<title>6</title>\n",
       "<path fill=\"#399de5\" stroke=\"black\" d=\"M98,-68C98,-68 12,-68 12,-68 6,-68 0,-62 0,-56 0,-56 0,-12 0,-12 0,-6 6,0 12,0 12,0 98,0 98,0 104,0 110,-6 110,-12 110,-12 110,-56 110,-56 110,-62 104,-68 98,-68\"/>\n",
       "<text text-anchor=\"start\" x=\"27\" y=\"-52.8\" font-family=\"Helvetica,sans-Serif\" font-size=\"14.00\">gini = 0.0</text>\n",
       "<text text-anchor=\"start\" x=\"10\" y=\"-37.8\" font-family=\"Helvetica,sans-Serif\" font-size=\"14.00\">samples = 362</text>\n",
       "<text text-anchor=\"start\" x=\"8\" y=\"-22.8\" font-family=\"Helvetica,sans-Serif\" font-size=\"14.00\">value = [0, 362]</text>\n",
       "<text text-anchor=\"start\" x=\"27.5\" y=\"-7.8\" font-family=\"Helvetica,sans-Serif\" font-size=\"14.00\">class = p</text>\n",
       "</g>\n",
       "<!-- 5&#45;&gt;6 -->\n",
       "<g id=\"edge6\" class=\"edge\">\n",
       "<title>5&#45;&gt;6</title>\n",
       "<path fill=\"none\" stroke=\"black\" d=\"M92.66,-103.73C87.91,-95.06 82.89,-85.9 78.11,-77.18\"/>\n",
       "<polygon fill=\"black\" stroke=\"black\" points=\"81.12,-75.39 73.25,-68.3 74.98,-78.75 81.12,-75.39\"/>\n",
       "</g>\n",
       "<!-- 7 -->\n",
       "<g id=\"node8\" class=\"node\">\n",
       "<title>7</title>\n",
       "<path fill=\"#e58139\" stroke=\"black\" d=\"M211.5,-68C211.5,-68 140.5,-68 140.5,-68 134.5,-68 128.5,-62 128.5,-56 128.5,-56 128.5,-12 128.5,-12 128.5,-6 134.5,0 140.5,0 140.5,0 211.5,0 211.5,0 217.5,0 223.5,-6 223.5,-12 223.5,-12 223.5,-56 223.5,-56 223.5,-62 217.5,-68 211.5,-68\"/>\n",
       "<text text-anchor=\"start\" x=\"148\" y=\"-52.8\" font-family=\"Helvetica,sans-Serif\" font-size=\"14.00\">gini = 0.0</text>\n",
       "<text text-anchor=\"start\" x=\"138.5\" y=\"-37.8\" font-family=\"Helvetica,sans-Serif\" font-size=\"14.00\">samples = 7</text>\n",
       "<text text-anchor=\"start\" x=\"136.5\" y=\"-22.8\" font-family=\"Helvetica,sans-Serif\" font-size=\"14.00\">value = [7, 0]</text>\n",
       "<text text-anchor=\"start\" x=\"148.5\" y=\"-7.8\" font-family=\"Helvetica,sans-Serif\" font-size=\"14.00\">class = e</text>\n",
       "</g>\n",
       "<!-- 5&#45;&gt;7 -->\n",
       "<g id=\"edge7\" class=\"edge\">\n",
       "<title>5&#45;&gt;7</title>\n",
       "<path fill=\"none\" stroke=\"black\" d=\"M137.71,-103.73C142.54,-95.06 147.65,-85.9 152.5,-77.18\"/>\n",
       "<polygon fill=\"black\" stroke=\"black\" points=\"155.64,-78.74 157.45,-68.3 149.53,-75.33 155.64,-78.74\"/>\n",
       "</g>\n",
       "<!-- 11 -->\n",
       "<g id=\"node12\" class=\"node\">\n",
       "<title>11</title>\n",
       "<path fill=\"#e58139\" stroke=\"black\" d=\"M485,-298.5C485,-298.5 407,-298.5 407,-298.5 401,-298.5 395,-292.5 395,-286.5 395,-286.5 395,-242.5 395,-242.5 395,-236.5 401,-230.5 407,-230.5 407,-230.5 485,-230.5 485,-230.5 491,-230.5 497,-236.5 497,-242.5 497,-242.5 497,-286.5 497,-286.5 497,-292.5 491,-298.5 485,-298.5\"/>\n",
       "<text text-anchor=\"start\" x=\"418\" y=\"-283.3\" font-family=\"Helvetica,sans-Serif\" font-size=\"14.00\">gini = 0.0</text>\n",
       "<text text-anchor=\"start\" x=\"405\" y=\"-268.3\" font-family=\"Helvetica,sans-Serif\" font-size=\"14.00\">samples = 53</text>\n",
       "<text text-anchor=\"start\" x=\"403\" y=\"-253.3\" font-family=\"Helvetica,sans-Serif\" font-size=\"14.00\">value = [53, 0]</text>\n",
       "<text text-anchor=\"start\" x=\"418.5\" y=\"-238.3\" font-family=\"Helvetica,sans-Serif\" font-size=\"14.00\">class = e</text>\n",
       "</g>\n",
       "<!-- 10&#45;&gt;11 -->\n",
       "<g id=\"edge11\" class=\"edge\">\n",
       "<title>10&#45;&gt;11</title>\n",
       "<path fill=\"none\" stroke=\"black\" d=\"M491.06,-341.91C484.49,-330.76 477.35,-318.66 470.73,-307.44\"/>\n",
       "<polygon fill=\"black\" stroke=\"black\" points=\"473.65,-305.5 465.56,-298.67 467.63,-309.06 473.65,-305.5\"/>\n",
       "</g>\n",
       "<!-- 12 -->\n",
       "<g id=\"node13\" class=\"node\">\n",
       "<title>12</title>\n",
       "<path fill=\"#399de5\" stroke=\"black\" d=\"M598.5,-298.5C598.5,-298.5 527.5,-298.5 527.5,-298.5 521.5,-298.5 515.5,-292.5 515.5,-286.5 515.5,-286.5 515.5,-242.5 515.5,-242.5 515.5,-236.5 521.5,-230.5 527.5,-230.5 527.5,-230.5 598.5,-230.5 598.5,-230.5 604.5,-230.5 610.5,-236.5 610.5,-242.5 610.5,-242.5 610.5,-286.5 610.5,-286.5 610.5,-292.5 604.5,-298.5 598.5,-298.5\"/>\n",
       "<text text-anchor=\"start\" x=\"535\" y=\"-283.3\" font-family=\"Helvetica,sans-Serif\" font-size=\"14.00\">gini = 0.0</text>\n",
       "<text text-anchor=\"start\" x=\"525.5\" y=\"-268.3\" font-family=\"Helvetica,sans-Serif\" font-size=\"14.00\">samples = 5</text>\n",
       "<text text-anchor=\"start\" x=\"523.5\" y=\"-253.3\" font-family=\"Helvetica,sans-Serif\" font-size=\"14.00\">value = [0, 5]</text>\n",
       "<text text-anchor=\"start\" x=\"535.5\" y=\"-238.3\" font-family=\"Helvetica,sans-Serif\" font-size=\"14.00\">class = p</text>\n",
       "</g>\n",
       "<!-- 10&#45;&gt;12 -->\n",
       "<g id=\"edge12\" class=\"edge\">\n",
       "<title>10&#45;&gt;12</title>\n",
       "<path fill=\"none\" stroke=\"black\" d=\"M531.65,-341.91C536.14,-330.98 541,-319.14 545.52,-308.11\"/>\n",
       "<polygon fill=\"black\" stroke=\"black\" points=\"548.84,-309.25 549.39,-298.67 542.36,-306.59 548.84,-309.25\"/>\n",
       "</g>\n",
       "<!-- 14 -->\n",
       "<g id=\"node15\" class=\"node\">\n",
       "<title>14</title>\n",
       "<path fill=\"#e78946\" stroke=\"black\" d=\"M812.5,-425C812.5,-425 711.5,-425 711.5,-425 705.5,-425 699.5,-419 699.5,-413 699.5,-413 699.5,-354 699.5,-354 699.5,-348 705.5,-342 711.5,-342 711.5,-342 812.5,-342 812.5,-342 818.5,-342 824.5,-348 824.5,-354 824.5,-354 824.5,-413 824.5,-413 824.5,-419 818.5,-425 812.5,-425\"/>\n",
       "<text text-anchor=\"start\" x=\"725.5\" y=\"-409.8\" font-family=\"Helvetica,sans-Serif\" font-size=\"14.00\">odor_f ≤ 0.5</text>\n",
       "<text text-anchor=\"start\" x=\"726.5\" y=\"-394.8\" font-family=\"Helvetica,sans-Serif\" font-size=\"14.00\">gini = 0.116</text>\n",
       "<text text-anchor=\"start\" x=\"713.5\" y=\"-379.8\" font-family=\"Helvetica,sans-Serif\" font-size=\"14.00\">samples = 1234</text>\n",
       "<text text-anchor=\"start\" x=\"707.5\" y=\"-364.8\" font-family=\"Helvetica,sans-Serif\" font-size=\"14.00\">value = [1158, 76]</text>\n",
       "<text text-anchor=\"start\" x=\"734.5\" y=\"-349.8\" font-family=\"Helvetica,sans-Serif\" font-size=\"14.00\">class = e</text>\n",
       "</g>\n",
       "<!-- 13&#45;&gt;14 -->\n",
       "<g id=\"edge14\" class=\"edge\">\n",
       "<title>13&#45;&gt;14</title>\n",
       "<path fill=\"none\" stroke=\"black\" d=\"M762,-460.91C762,-452.65 762,-443.86 762,-435.3\"/>\n",
       "<polygon fill=\"black\" stroke=\"black\" points=\"765.5,-435.02 762,-425.02 758.5,-435.02 765.5,-435.02\"/>\n",
       "</g>\n",
       "<!-- 19 -->\n",
       "<g id=\"node20\" class=\"node\">\n",
       "<title>19</title>\n",
       "<path fill=\"#a6d3f3\" stroke=\"black\" d=\"M1050.5,-425C1050.5,-425 907.5,-425 907.5,-425 901.5,-425 895.5,-419 895.5,-413 895.5,-413 895.5,-354 895.5,-354 895.5,-348 901.5,-342 907.5,-342 907.5,-342 1050.5,-342 1050.5,-342 1056.5,-342 1062.5,-348 1062.5,-354 1062.5,-354 1062.5,-413 1062.5,-413 1062.5,-419 1056.5,-425 1050.5,-425\"/>\n",
       "<text text-anchor=\"start\" x=\"903.5\" y=\"-409.8\" font-family=\"Helvetica,sans-Serif\" font-size=\"14.00\">spore&#45;print&#45;color_w ≤ 0.5</text>\n",
       "<text text-anchor=\"start\" x=\"943.5\" y=\"-394.8\" font-family=\"Helvetica,sans-Serif\" font-size=\"14.00\">gini = 0.458</text>\n",
       "<text text-anchor=\"start\" x=\"938\" y=\"-379.8\" font-family=\"Helvetica,sans-Serif\" font-size=\"14.00\">samples = 59</text>\n",
       "<text text-anchor=\"start\" x=\"932\" y=\"-364.8\" font-family=\"Helvetica,sans-Serif\" font-size=\"14.00\">value = [21, 38]</text>\n",
       "<text text-anchor=\"start\" x=\"951.5\" y=\"-349.8\" font-family=\"Helvetica,sans-Serif\" font-size=\"14.00\">class = p</text>\n",
       "</g>\n",
       "<!-- 13&#45;&gt;19 -->\n",
       "<g id=\"edge19\" class=\"edge\">\n",
       "<title>13&#45;&gt;19</title>\n",
       "<path fill=\"none\" stroke=\"black\" d=\"M828.29,-465.76C849.21,-454.48 872.61,-441.86 894.62,-429.99\"/>\n",
       "<polygon fill=\"black\" stroke=\"black\" points=\"896.49,-432.96 903.63,-425.14 893.17,-426.8 896.49,-432.96\"/>\n",
       "</g>\n",
       "<!-- 15 -->\n",
       "<g id=\"node16\" class=\"node\">\n",
       "<title>15</title>\n",
       "<path fill=\"#e5823b\" stroke=\"black\" d=\"M777.5,-306C777.5,-306 640.5,-306 640.5,-306 634.5,-306 628.5,-300 628.5,-294 628.5,-294 628.5,-235 628.5,-235 628.5,-229 634.5,-223 640.5,-223 640.5,-223 777.5,-223 777.5,-223 783.5,-223 789.5,-229 789.5,-235 789.5,-235 789.5,-294 789.5,-294 789.5,-300 783.5,-306 777.5,-306\"/>\n",
       "<text text-anchor=\"start\" x=\"636.5\" y=\"-290.8\" font-family=\"Helvetica,sans-Serif\" font-size=\"14.00\">spore&#45;print&#45;color_r ≤ 0.5</text>\n",
       "<text text-anchor=\"start\" x=\"673.5\" y=\"-275.8\" font-family=\"Helvetica,sans-Serif\" font-size=\"14.00\">gini = 0.022</text>\n",
       "<text text-anchor=\"start\" x=\"660.5\" y=\"-260.8\" font-family=\"Helvetica,sans-Serif\" font-size=\"14.00\">samples = 1171</text>\n",
       "<text text-anchor=\"start\" x=\"654.5\" y=\"-245.8\" font-family=\"Helvetica,sans-Serif\" font-size=\"14.00\">value = [1158, 13]</text>\n",
       "<text text-anchor=\"start\" x=\"681.5\" y=\"-230.8\" font-family=\"Helvetica,sans-Serif\" font-size=\"14.00\">class = e</text>\n",
       "</g>\n",
       "<!-- 14&#45;&gt;15 -->\n",
       "<g id=\"edge15\" class=\"edge\">\n",
       "<title>14&#45;&gt;15</title>\n",
       "<path fill=\"none\" stroke=\"black\" d=\"M743.61,-341.91C739.71,-333.29 735.54,-324.09 731.5,-315.17\"/>\n",
       "<polygon fill=\"black\" stroke=\"black\" points=\"734.67,-313.69 727.36,-306.02 728.29,-316.57 734.67,-313.69\"/>\n",
       "</g>\n",
       "<!-- 18 -->\n",
       "<g id=\"node19\" class=\"node\">\n",
       "<title>18</title>\n",
       "<path fill=\"#399de5\" stroke=\"black\" d=\"M898,-298.5C898,-298.5 820,-298.5 820,-298.5 814,-298.5 808,-292.5 808,-286.5 808,-286.5 808,-242.5 808,-242.5 808,-236.5 814,-230.5 820,-230.5 820,-230.5 898,-230.5 898,-230.5 904,-230.5 910,-236.5 910,-242.5 910,-242.5 910,-286.5 910,-286.5 910,-292.5 904,-298.5 898,-298.5\"/>\n",
       "<text text-anchor=\"start\" x=\"831\" y=\"-283.3\" font-family=\"Helvetica,sans-Serif\" font-size=\"14.00\">gini = 0.0</text>\n",
       "<text text-anchor=\"start\" x=\"818\" y=\"-268.3\" font-family=\"Helvetica,sans-Serif\" font-size=\"14.00\">samples = 63</text>\n",
       "<text text-anchor=\"start\" x=\"816\" y=\"-253.3\" font-family=\"Helvetica,sans-Serif\" font-size=\"14.00\">value = [0, 63]</text>\n",
       "<text text-anchor=\"start\" x=\"831.5\" y=\"-238.3\" font-family=\"Helvetica,sans-Serif\" font-size=\"14.00\">class = p</text>\n",
       "</g>\n",
       "<!-- 14&#45;&gt;18 -->\n",
       "<g id=\"edge18\" class=\"edge\">\n",
       "<title>14&#45;&gt;18</title>\n",
       "<path fill=\"none\" stroke=\"black\" d=\"M795.65,-341.91C805.17,-330.43 815.53,-317.94 825.06,-306.44\"/>\n",
       "<polygon fill=\"black\" stroke=\"black\" points=\"827.81,-308.6 831.5,-298.67 822.43,-304.13 827.81,-308.6\"/>\n",
       "</g>\n",
       "<!-- 16 -->\n",
       "<g id=\"node17\" class=\"node\">\n",
       "<title>16</title>\n",
       "<path fill=\"#e58139\" stroke=\"black\" d=\"M691.5,-179.5C691.5,-179.5 598.5,-179.5 598.5,-179.5 592.5,-179.5 586.5,-173.5 586.5,-167.5 586.5,-167.5 586.5,-123.5 586.5,-123.5 586.5,-117.5 592.5,-111.5 598.5,-111.5 598.5,-111.5 691.5,-111.5 691.5,-111.5 697.5,-111.5 703.5,-117.5 703.5,-123.5 703.5,-123.5 703.5,-167.5 703.5,-167.5 703.5,-173.5 697.5,-179.5 691.5,-179.5\"/>\n",
       "<text text-anchor=\"start\" x=\"617\" y=\"-164.3\" font-family=\"Helvetica,sans-Serif\" font-size=\"14.00\">gini = 0.0</text>\n",
       "<text text-anchor=\"start\" x=\"596.5\" y=\"-149.3\" font-family=\"Helvetica,sans-Serif\" font-size=\"14.00\">samples = 1158</text>\n",
       "<text text-anchor=\"start\" x=\"594.5\" y=\"-134.3\" font-family=\"Helvetica,sans-Serif\" font-size=\"14.00\">value = [1158, 0]</text>\n",
       "<text text-anchor=\"start\" x=\"617.5\" y=\"-119.3\" font-family=\"Helvetica,sans-Serif\" font-size=\"14.00\">class = e</text>\n",
       "</g>\n",
       "<!-- 15&#45;&gt;16 -->\n",
       "<g id=\"edge16\" class=\"edge\">\n",
       "<title>15&#45;&gt;16</title>\n",
       "<path fill=\"none\" stroke=\"black\" d=\"M686.8,-222.91C680.76,-211.87 674.21,-199.9 668.12,-188.77\"/>\n",
       "<polygon fill=\"black\" stroke=\"black\" points=\"671.01,-186.76 663.14,-179.67 664.87,-190.12 671.01,-186.76\"/>\n",
       "</g>\n",
       "<!-- 17 -->\n",
       "<g id=\"node18\" class=\"node\">\n",
       "<title>17</title>\n",
       "<path fill=\"#399de5\" stroke=\"black\" d=\"M812,-179.5C812,-179.5 734,-179.5 734,-179.5 728,-179.5 722,-173.5 722,-167.5 722,-167.5 722,-123.5 722,-123.5 722,-117.5 728,-111.5 734,-111.5 734,-111.5 812,-111.5 812,-111.5 818,-111.5 824,-117.5 824,-123.5 824,-123.5 824,-167.5 824,-167.5 824,-173.5 818,-179.5 812,-179.5\"/>\n",
       "<text text-anchor=\"start\" x=\"745\" y=\"-164.3\" font-family=\"Helvetica,sans-Serif\" font-size=\"14.00\">gini = 0.0</text>\n",
       "<text text-anchor=\"start\" x=\"732\" y=\"-149.3\" font-family=\"Helvetica,sans-Serif\" font-size=\"14.00\">samples = 13</text>\n",
       "<text text-anchor=\"start\" x=\"730\" y=\"-134.3\" font-family=\"Helvetica,sans-Serif\" font-size=\"14.00\">value = [0, 13]</text>\n",
       "<text text-anchor=\"start\" x=\"745.5\" y=\"-119.3\" font-family=\"Helvetica,sans-Serif\" font-size=\"14.00\">class = p</text>\n",
       "</g>\n",
       "<!-- 15&#45;&gt;17 -->\n",
       "<g id=\"edge17\" class=\"edge\">\n",
       "<title>15&#45;&gt;17</title>\n",
       "<path fill=\"none\" stroke=\"black\" d=\"M731.2,-222.91C737.24,-211.87 743.79,-199.9 749.88,-188.77\"/>\n",
       "<polygon fill=\"black\" stroke=\"black\" points=\"753.13,-190.12 754.86,-179.67 746.99,-186.76 753.13,-190.12\"/>\n",
       "</g>\n",
       "<!-- 20 -->\n",
       "<g id=\"node21\" class=\"node\">\n",
       "<title>20</title>\n",
       "<path fill=\"#399de5\" stroke=\"black\" d=\"M1018,-298.5C1018,-298.5 940,-298.5 940,-298.5 934,-298.5 928,-292.5 928,-286.5 928,-286.5 928,-242.5 928,-242.5 928,-236.5 934,-230.5 940,-230.5 940,-230.5 1018,-230.5 1018,-230.5 1024,-230.5 1030,-236.5 1030,-242.5 1030,-242.5 1030,-286.5 1030,-286.5 1030,-292.5 1024,-298.5 1018,-298.5\"/>\n",
       "<text text-anchor=\"start\" x=\"951\" y=\"-283.3\" font-family=\"Helvetica,sans-Serif\" font-size=\"14.00\">gini = 0.0</text>\n",
       "<text text-anchor=\"start\" x=\"938\" y=\"-268.3\" font-family=\"Helvetica,sans-Serif\" font-size=\"14.00\">samples = 38</text>\n",
       "<text text-anchor=\"start\" x=\"936\" y=\"-253.3\" font-family=\"Helvetica,sans-Serif\" font-size=\"14.00\">value = [0, 38]</text>\n",
       "<text text-anchor=\"start\" x=\"951.5\" y=\"-238.3\" font-family=\"Helvetica,sans-Serif\" font-size=\"14.00\">class = p</text>\n",
       "</g>\n",
       "<!-- 19&#45;&gt;20 -->\n",
       "<g id=\"edge20\" class=\"edge\">\n",
       "<title>19&#45;&gt;20</title>\n",
       "<path fill=\"none\" stroke=\"black\" d=\"M979,-341.91C979,-331.2 979,-319.62 979,-308.78\"/>\n",
       "<polygon fill=\"black\" stroke=\"black\" points=\"982.5,-308.67 979,-298.67 975.5,-308.67 982.5,-308.67\"/>\n",
       "</g>\n",
       "<!-- 21 -->\n",
       "<g id=\"node22\" class=\"node\">\n",
       "<title>21</title>\n",
       "<path fill=\"#e58139\" stroke=\"black\" d=\"M1138,-298.5C1138,-298.5 1060,-298.5 1060,-298.5 1054,-298.5 1048,-292.5 1048,-286.5 1048,-286.5 1048,-242.5 1048,-242.5 1048,-236.5 1054,-230.5 1060,-230.5 1060,-230.5 1138,-230.5 1138,-230.5 1144,-230.5 1150,-236.5 1150,-242.5 1150,-242.5 1150,-286.5 1150,-286.5 1150,-292.5 1144,-298.5 1138,-298.5\"/>\n",
       "<text text-anchor=\"start\" x=\"1071\" y=\"-283.3\" font-family=\"Helvetica,sans-Serif\" font-size=\"14.00\">gini = 0.0</text>\n",
       "<text text-anchor=\"start\" x=\"1058\" y=\"-268.3\" font-family=\"Helvetica,sans-Serif\" font-size=\"14.00\">samples = 21</text>\n",
       "<text text-anchor=\"start\" x=\"1056\" y=\"-253.3\" font-family=\"Helvetica,sans-Serif\" font-size=\"14.00\">value = [21, 0]</text>\n",
       "<text text-anchor=\"start\" x=\"1071.5\" y=\"-238.3\" font-family=\"Helvetica,sans-Serif\" font-size=\"14.00\">class = e</text>\n",
       "</g>\n",
       "<!-- 19&#45;&gt;21 -->\n",
       "<g id=\"edge21\" class=\"edge\">\n",
       "<title>19&#45;&gt;21</title>\n",
       "<path fill=\"none\" stroke=\"black\" d=\"M1020.63,-341.91C1032.63,-330.21 1045.71,-317.46 1057.69,-305.78\"/>\n",
       "<polygon fill=\"black\" stroke=\"black\" points=\"1060.27,-308.15 1064.98,-298.67 1055.38,-303.14 1060.27,-308.15\"/>\n",
       "</g>\n",
       "<!-- 23 -->\n",
       "<g id=\"node24\" class=\"node\">\n",
       "<title>23</title>\n",
       "<path fill=\"#399de5\" stroke=\"black\" d=\"M950,-536.5C950,-536.5 864,-536.5 864,-536.5 858,-536.5 852,-530.5 852,-524.5 852,-524.5 852,-480.5 852,-480.5 852,-474.5 858,-468.5 864,-468.5 864,-468.5 950,-468.5 950,-468.5 956,-468.5 962,-474.5 962,-480.5 962,-480.5 962,-524.5 962,-524.5 962,-530.5 956,-536.5 950,-536.5\"/>\n",
       "<text text-anchor=\"start\" x=\"879\" y=\"-521.3\" font-family=\"Helvetica,sans-Serif\" font-size=\"14.00\">gini = 0.0</text>\n",
       "<text text-anchor=\"start\" x=\"862\" y=\"-506.3\" font-family=\"Helvetica,sans-Serif\" font-size=\"14.00\">samples = 653</text>\n",
       "<text text-anchor=\"start\" x=\"860\" y=\"-491.3\" font-family=\"Helvetica,sans-Serif\" font-size=\"14.00\">value = [0, 653]</text>\n",
       "<text text-anchor=\"start\" x=\"879.5\" y=\"-476.3\" font-family=\"Helvetica,sans-Serif\" font-size=\"14.00\">class = p</text>\n",
       "</g>\n",
       "<!-- 22&#45;&gt;23 -->\n",
       "<g id=\"edge23\" class=\"edge\">\n",
       "<title>22&#45;&gt;23</title>\n",
       "<path fill=\"none\" stroke=\"black\" d=\"M908.96,-579.91C908.68,-569.2 908.39,-557.62 908.11,-546.78\"/>\n",
       "<polygon fill=\"black\" stroke=\"black\" points=\"911.61,-546.57 907.85,-536.67 904.61,-546.75 911.61,-546.57\"/>\n",
       "</g>\n",
       "<!-- 24 -->\n",
       "<g id=\"node25\" class=\"node\">\n",
       "<title>24</title>\n",
       "<path fill=\"#e58139\" stroke=\"black\" d=\"M1070,-536.5C1070,-536.5 992,-536.5 992,-536.5 986,-536.5 980,-530.5 980,-524.5 980,-524.5 980,-480.5 980,-480.5 980,-474.5 986,-468.5 992,-468.5 992,-468.5 1070,-468.5 1070,-468.5 1076,-468.5 1082,-474.5 1082,-480.5 1082,-480.5 1082,-524.5 1082,-524.5 1082,-530.5 1076,-536.5 1070,-536.5\"/>\n",
       "<text text-anchor=\"start\" x=\"1003\" y=\"-521.3\" font-family=\"Helvetica,sans-Serif\" font-size=\"14.00\">gini = 0.0</text>\n",
       "<text text-anchor=\"start\" x=\"990\" y=\"-506.3\" font-family=\"Helvetica,sans-Serif\" font-size=\"14.00\">samples = 45</text>\n",
       "<text text-anchor=\"start\" x=\"988\" y=\"-491.3\" font-family=\"Helvetica,sans-Serif\" font-size=\"14.00\">value = [45, 0]</text>\n",
       "<text text-anchor=\"start\" x=\"1003.5\" y=\"-476.3\" font-family=\"Helvetica,sans-Serif\" font-size=\"14.00\">class = e</text>\n",
       "</g>\n",
       "<!-- 22&#45;&gt;24 -->\n",
       "<g id=\"edge24\" class=\"edge\">\n",
       "<title>22&#45;&gt;24</title>\n",
       "<path fill=\"none\" stroke=\"black\" d=\"M951.98,-579.91C964.08,-568.21 977.27,-555.46 989.34,-543.78\"/>\n",
       "<polygon fill=\"black\" stroke=\"black\" points=\"991.94,-546.13 996.7,-536.67 987.08,-541.1 991.94,-546.13\"/>\n",
       "</g>\n",
       "</g>\n",
       "</svg>\n"
      ],
      "text/plain": [
       "<graphviz.files.Source at 0x7f86060a9710>"
      ]
     },
     "execution_count": 82,
     "metadata": {},
     "output_type": "execute_result"
    }
   ],
   "source": [
    "# Визуализации дерева решений подобранной модели\n",
    "dot_data = export_graphviz(dtc_f_estimator, out_file=None, \n",
    "                           feature_names=mushrooms_ohe_X.columns.values.tolist(), \n",
    "                           class_names=np.unique(mushrooms_y).tolist(), \n",
    "                           filled=True, rounded=True, special_characters=True)\n",
    "pdot = pydot.graph_from_dot_data(dot_data)\n",
    "# Access element [0] because graph_from_dot_data actually returns a list of DOT elements.\n",
    "pdot[0].set_size('\"17,17!\"')\n",
    "graph = graphviz.Source(pdot[0].to_string())  \n",
    "graph"
   ]
  },
  {
   "cell_type": "markdown",
   "metadata": {},
   "source": [
    "Как видно из построенного дерева, используется лишь часть входных признаков. Все проверки являются булевыми, так как входные признаки закодированы методом **one-hot encoding**."
   ]
  },
  {
   "cell_type": "code",
   "execution_count": 83,
   "metadata": {},
   "outputs": [
    {
     "data": {
      "text/plain": [
       "[('cap-shape_b', 0.0),\n",
       " ('cap-shape_c', 0.0),\n",
       " ('cap-shape_f', 0.0),\n",
       " ('cap-shape_k', 0.0),\n",
       " ('cap-shape_s', 0.0),\n",
       " ('cap-shape_x', 0.0),\n",
       " ('cap-surface_f', 0.0),\n",
       " ('cap-surface_g', 0.0),\n",
       " ('cap-surface_s', 0.0),\n",
       " ('cap-surface_y', 0.0),\n",
       " ('cap-color_b', 0.03150851571286286),\n",
       " ('cap-color_c', 0.0),\n",
       " ('cap-color_e', 0.0),\n",
       " ('cap-color_g', 0.0),\n",
       " ('cap-color_n', 0.0),\n",
       " ('cap-color_p', 0.0),\n",
       " ('cap-color_r', 0.0),\n",
       " ('cap-color_u', 0.0),\n",
       " ('cap-color_w', 0.0),\n",
       " ('cap-color_y', 0.0),\n",
       " ('bruises_f', 0.0),\n",
       " ('bruises_t', 0.0),\n",
       " ('odor_a', 0.02240092240216966),\n",
       " ('odor_c', 0.0),\n",
       " ('odor_f', 0.0964236733645542),\n",
       " ('odor_l', 0.011326045534504774),\n",
       " ('odor_m', 0.0),\n",
       " ('odor_n', 0.059671501952257205),\n",
       " ('odor_p', 0.0),\n",
       " ('odor_s', 0.0),\n",
       " ('odor_y', 0.0),\n",
       " ('gill-attachment_a', 0.0),\n",
       " ('gill-attachment_f', 0.0),\n",
       " ('gill-spacing_c', 0.0),\n",
       " ('gill-spacing_w', 0.0),\n",
       " ('gill-size_b', 0.2952265223837091),\n",
       " ('gill-size_n', 0.0),\n",
       " ('gill-color_b', 0.0),\n",
       " ('gill-color_e', 0.0),\n",
       " ('gill-color_g', 0.0),\n",
       " ('gill-color_h', 0.0),\n",
       " ('gill-color_k', 0.0),\n",
       " ('gill-color_n', 0.0),\n",
       " ('gill-color_o', 0.0),\n",
       " ('gill-color_p', 0.0),\n",
       " ('gill-color_r', 0.0),\n",
       " ('gill-color_u', 0.0),\n",
       " ('gill-color_w', 0.0),\n",
       " ('gill-color_y', 0.0),\n",
       " ('stalk-shape_e', 0.0),\n",
       " ('stalk-shape_t', 0.0),\n",
       " ('stalk-root_?', 0.0),\n",
       " ('stalk-root_b', 0.0),\n",
       " ('stalk-root_c', 0.0),\n",
       " ('stalk-root_e', 0.0),\n",
       " ('stalk-root_r', 0.0),\n",
       " ('stalk-surface-above-ring_f', 0.0),\n",
       " ('stalk-surface-above-ring_k', 0.3566825134582038),\n",
       " ('stalk-surface-above-ring_s', 0.0),\n",
       " ('stalk-surface-above-ring_y', 0.0),\n",
       " ('stalk-surface-below-ring_f', 0.0),\n",
       " ('stalk-surface-below-ring_k', 0.0),\n",
       " ('stalk-surface-below-ring_s', 0.0),\n",
       " ('stalk-surface-below-ring_y', 0.0),\n",
       " ('stalk-color-above-ring_b', 0.0),\n",
       " ('stalk-color-above-ring_c', 0.0),\n",
       " ('stalk-color-above-ring_e', 0.0),\n",
       " ('stalk-color-above-ring_g', 0.0),\n",
       " ('stalk-color-above-ring_n', 0.0),\n",
       " ('stalk-color-above-ring_o', 0.0),\n",
       " ('stalk-color-above-ring_p', 0.0),\n",
       " ('stalk-color-above-ring_w', 0.0),\n",
       " ('stalk-color-above-ring_y', 0.0),\n",
       " ('stalk-color-below-ring_b', 0.0),\n",
       " ('stalk-color-below-ring_c', 0.0),\n",
       " ('stalk-color-below-ring_e', 0.0),\n",
       " ('stalk-color-below-ring_g', 0.0),\n",
       " ('stalk-color-below-ring_n', 0.0),\n",
       " ('stalk-color-below-ring_o', 0.0),\n",
       " ('stalk-color-below-ring_p', 0.0),\n",
       " ('stalk-color-below-ring_w', 0.0),\n",
       " ('stalk-color-below-ring_y', 0.0),\n",
       " ('veil-type_p', 0.0),\n",
       " ('veil-color_n', 0.0),\n",
       " ('veil-color_o', 0.0),\n",
       " ('veil-color_w', 0.0),\n",
       " ('veil-color_y', 0.0),\n",
       " ('ring-number_n', 0.0),\n",
       " ('ring-number_o', 0.0),\n",
       " ('ring-number_t', 0.06943338387251154),\n",
       " ('ring-type_e', 0.0),\n",
       " ('ring-type_f', 0.0),\n",
       " ('ring-type_l', 0.0),\n",
       " ('ring-type_n', 0.0),\n",
       " ('ring-type_p', 0.0),\n",
       " ('spore-print-color_b', 0.0),\n",
       " ('spore-print-color_h', 0.0),\n",
       " ('spore-print-color_k', 0.0),\n",
       " ('spore-print-color_n', 0.0),\n",
       " ('spore-print-color_o', 0.0),\n",
       " ('spore-print-color_r', 0.02120279310406803),\n",
       " ('spore-print-color_u', 0.00628116198160205),\n",
       " ('spore-print-color_w', 0.022307399169139347),\n",
       " ('spore-print-color_y', 0.0),\n",
       " ('population_a', 0.0),\n",
       " ('population_c', 0.007535567064417371),\n",
       " ('population_n', 0.0),\n",
       " ('population_s', 0.0),\n",
       " ('population_v', 0.0),\n",
       " ('population_y', 0.0),\n",
       " ('habitat_d', 0.0),\n",
       " ('habitat_g', 0.0),\n",
       " ('habitat_l', 0.0),\n",
       " ('habitat_m', 0.0),\n",
       " ('habitat_p', 0.0),\n",
       " ('habitat_u', 0.0),\n",
       " ('habitat_w', 0.0)]"
      ]
     },
     "execution_count": 83,
     "metadata": {},
     "output_type": "execute_result"
    }
   ],
   "source": [
    "# Важность признаков в построенной модели\n",
    "list(zip(mushrooms_ohe_X.columns.values.tolist(), dtc_f_estimator.feature_importances_))"
   ]
  },
  {
   "cell_type": "code",
   "execution_count": 84,
   "metadata": {},
   "outputs": [
    {
     "data": {
      "text/plain": [
       "1.0"
      ]
     },
     "execution_count": 84,
     "metadata": {},
     "output_type": "execute_result"
    }
   ],
   "source": [
    "# Важность признаков в сумме дает единицу\n",
    "round(sum(dtc_f_estimator.feature_importances_),6)"
   ]
  },
  {
   "cell_type": "code",
   "execution_count": 85,
   "metadata": {},
   "outputs": [],
   "source": [
    "# Функции для сортировки списка признаков и вывода диаграммы\n",
    "from operator import itemgetter\n",
    "\n",
    "\n",
    "def sort_feature_importances(tree_model,X_dataset,no_zero=False):\n",
    "    # Сортировка значений важности признаков по убыванию\n",
    "    list_to_sort = list(zip(X_dataset.columns.values, tree_model.feature_importances_))\n",
    "    sorted_list = sorted(list_to_sort, key=itemgetter(1), reverse = True)\n",
    "    # Названия признаков\n",
    "    labels = [x for x,_ in sorted_list]\n",
    "    # Важности признаков\n",
    "    data = [x for _,x in sorted_list]\n",
    "    if no_zero:\n",
    "        zero_ind = next((i for i, x in enumerate(data) if x==0), None)\n",
    "        labels = labels[:zero_ind-1]\n",
    "        data = data[:zero_ind-1]\n",
    "    return labels, data\n",
    "\n",
    "def draw_feature_importances(tree_model, X_dataset, figsize=(15,7),no_zero=False):\n",
    "    \"\"\"\n",
    "    Вывод важности признаков в виде графика\n",
    "    \"\"\"\n",
    "    labels, data = sort_feature_importances(tree_model, X_dataset,no_zero)\n",
    "    # Вывод графика\n",
    "    fig, ax = plt.subplots(figsize=figsize)\n",
    "    ind = np.arange(len(labels))\n",
    "    plt.bar(ind, data)\n",
    "    plt.xticks(ind, labels, rotation='vertical')\n",
    "    # Вывод значений\n",
    "    for a,b in zip(ind, data):\n",
    "        plt.text(a-0.05, b+0.01, str(round(b,3)))\n",
    "    plt.show()\n",
    "    return labels, data"
   ]
  },
  {
   "cell_type": "code",
   "execution_count": 86,
   "metadata": {},
   "outputs": [
    {
     "data": {
      "image/png": "[encoded data removed]",
      "text/plain": [
       "<Figure size 1080x504 with 1 Axes>"
      ]
     },
     "metadata": {},
     "output_type": "display_data"
    }
   ],
   "source": [
    "# Сортировка признаков по важности и вывод столбчатой диаграммы\n",
    "dtc_if_labels_sorted, dtc_if_data_sorted = sort_feature_importances(dtc_f_estimator, mushrooms_ohe_X)\n",
    "draw_feature_importances(dtc_f_estimator, mushrooms_ohe_X,no_zero=True);"
   ]
  },
  {
   "cell_type": "markdown",
   "metadata": {},
   "source": [
    "Как видно из диаграммы, нет одного превалирующего признака. Однако, первые 5 признаков составляют больше 0.8 важности. Проверим качество модели для разного числа важных признаков, вплоть до 5. "
   ]
  },
  {
   "cell_type": "code",
   "execution_count": 87,
   "metadata": {},
   "outputs": [
    {
     "data": {
      "text/html": [
       "<div>\n",
       "<style scoped>\n",
       "    .dataframe tbody tr th:only-of-type {\n",
       "        vertical-align: middle;\n",
       "    }\n",
       "\n",
       "    .dataframe tbody tr th {\n",
       "        vertical-align: top;\n",
       "    }\n",
       "\n",
       "    .dataframe thead th {\n",
       "        text-align: right;\n",
       "    }\n",
       "</style>\n",
       "<table border=\"1\" class=\"dataframe\">\n",
       "  <thead>\n",
       "    <tr style=\"text-align: right;\">\n",
       "      <th></th>\n",
       "      <th>stalk-surface-above-ring_k</th>\n",
       "      <th>gill-size_b</th>\n",
       "      <th>odor_f</th>\n",
       "      <th>ring-number_t</th>\n",
       "      <th>odor_n</th>\n",
       "      <th>cap-color_b</th>\n",
       "      <th>odor_a</th>\n",
       "      <th>spore-print-color_w</th>\n",
       "      <th>spore-print-color_r</th>\n",
       "      <th>odor_l</th>\n",
       "      <th>...</th>\n",
       "      <th>population_s</th>\n",
       "      <th>population_v</th>\n",
       "      <th>population_y</th>\n",
       "      <th>habitat_d</th>\n",
       "      <th>habitat_g</th>\n",
       "      <th>habitat_l</th>\n",
       "      <th>habitat_m</th>\n",
       "      <th>habitat_p</th>\n",
       "      <th>habitat_u</th>\n",
       "      <th>habitat_w</th>\n",
       "    </tr>\n",
       "  </thead>\n",
       "  <tbody>\n",
       "    <tr>\n",
       "      <th>0</th>\n",
       "      <td>0</td>\n",
       "      <td>0</td>\n",
       "      <td>0</td>\n",
       "      <td>0</td>\n",
       "      <td>0</td>\n",
       "      <td>0</td>\n",
       "      <td>0</td>\n",
       "      <td>0</td>\n",
       "      <td>0</td>\n",
       "      <td>0</td>\n",
       "      <td>...</td>\n",
       "      <td>1</td>\n",
       "      <td>0</td>\n",
       "      <td>0</td>\n",
       "      <td>0</td>\n",
       "      <td>0</td>\n",
       "      <td>0</td>\n",
       "      <td>0</td>\n",
       "      <td>0</td>\n",
       "      <td>1</td>\n",
       "      <td>0</td>\n",
       "    </tr>\n",
       "    <tr>\n",
       "      <th>1</th>\n",
       "      <td>0</td>\n",
       "      <td>1</td>\n",
       "      <td>0</td>\n",
       "      <td>0</td>\n",
       "      <td>0</td>\n",
       "      <td>0</td>\n",
       "      <td>1</td>\n",
       "      <td>0</td>\n",
       "      <td>0</td>\n",
       "      <td>0</td>\n",
       "      <td>...</td>\n",
       "      <td>0</td>\n",
       "      <td>0</td>\n",
       "      <td>0</td>\n",
       "      <td>0</td>\n",
       "      <td>1</td>\n",
       "      <td>0</td>\n",
       "      <td>0</td>\n",
       "      <td>0</td>\n",
       "      <td>0</td>\n",
       "      <td>0</td>\n",
       "    </tr>\n",
       "    <tr>\n",
       "      <th>2</th>\n",
       "      <td>0</td>\n",
       "      <td>1</td>\n",
       "      <td>0</td>\n",
       "      <td>0</td>\n",
       "      <td>0</td>\n",
       "      <td>0</td>\n",
       "      <td>0</td>\n",
       "      <td>0</td>\n",
       "      <td>0</td>\n",
       "      <td>1</td>\n",
       "      <td>...</td>\n",
       "      <td>0</td>\n",
       "      <td>0</td>\n",
       "      <td>0</td>\n",
       "      <td>0</td>\n",
       "      <td>0</td>\n",
       "      <td>0</td>\n",
       "      <td>1</td>\n",
       "      <td>0</td>\n",
       "      <td>0</td>\n",
       "      <td>0</td>\n",
       "    </tr>\n",
       "    <tr>\n",
       "      <th>3</th>\n",
       "      <td>0</td>\n",
       "      <td>0</td>\n",
       "      <td>0</td>\n",
       "      <td>0</td>\n",
       "      <td>0</td>\n",
       "      <td>0</td>\n",
       "      <td>0</td>\n",
       "      <td>0</td>\n",
       "      <td>0</td>\n",
       "      <td>0</td>\n",
       "      <td>...</td>\n",
       "      <td>1</td>\n",
       "      <td>0</td>\n",
       "      <td>0</td>\n",
       "      <td>0</td>\n",
       "      <td>0</td>\n",
       "      <td>0</td>\n",
       "      <td>0</td>\n",
       "      <td>0</td>\n",
       "      <td>1</td>\n",
       "      <td>0</td>\n",
       "    </tr>\n",
       "    <tr>\n",
       "      <th>4</th>\n",
       "      <td>0</td>\n",
       "      <td>1</td>\n",
       "      <td>0</td>\n",
       "      <td>0</td>\n",
       "      <td>1</td>\n",
       "      <td>0</td>\n",
       "      <td>0</td>\n",
       "      <td>0</td>\n",
       "      <td>0</td>\n",
       "      <td>0</td>\n",
       "      <td>...</td>\n",
       "      <td>0</td>\n",
       "      <td>0</td>\n",
       "      <td>0</td>\n",
       "      <td>0</td>\n",
       "      <td>1</td>\n",
       "      <td>0</td>\n",
       "      <td>0</td>\n",
       "      <td>0</td>\n",
       "      <td>0</td>\n",
       "      <td>0</td>\n",
       "    </tr>\n",
       "  </tbody>\n",
       "</table>\n",
       "<p>5 rows × 117 columns</p>\n",
       "</div>"
      ],
      "text/plain": [
       "   stalk-surface-above-ring_k  gill-size_b  odor_f  ring-number_t  odor_n  \\\n",
       "0                           0            0       0              0       0   \n",
       "1                           0            1       0              0       0   \n",
       "2                           0            1       0              0       0   \n",
       "3                           0            0       0              0       0   \n",
       "4                           0            1       0              0       1   \n",
       "\n",
       "   cap-color_b  odor_a  spore-print-color_w  spore-print-color_r  odor_l  ...  \\\n",
       "0            0       0                    0                    0       0  ...   \n",
       "1            0       1                    0                    0       0  ...   \n",
       "2            0       0                    0                    0       1  ...   \n",
       "3            0       0                    0                    0       0  ...   \n",
       "4            0       0                    0                    0       0  ...   \n",
       "\n",
       "   population_s  population_v  population_y  habitat_d  habitat_g  habitat_l  \\\n",
       "0             1             0             0          0          0          0   \n",
       "1             0             0             0          0          1          0   \n",
       "2             0             0             0          0          0          0   \n",
       "3             1             0             0          0          0          0   \n",
       "4             0             0             0          0          1          0   \n",
       "\n",
       "   habitat_m  habitat_p  habitat_u  habitat_w  \n",
       "0          0          0          1          0  \n",
       "1          0          0          0          0  \n",
       "2          1          0          0          0  \n",
       "3          0          0          1          0  \n",
       "4          0          0          0          0  \n",
       "\n",
       "[5 rows x 117 columns]"
      ]
     },
     "execution_count": 87,
     "metadata": {},
     "output_type": "execute_result"
    }
   ],
   "source": [
    "# Пересортируем признаки на основе важности\n",
    "mushrooms_ohe_X_sorted = mushrooms_ohe_X[dtc_if_labels_sorted]\n",
    "mushrooms_ohe_X_sorted.head()"
   ]
  },
  {
   "cell_type": "code",
   "execution_count": 88,
   "metadata": {},
   "outputs": [
    {
     "data": {
      "text/plain": [
       "'Значения метрик качества:'"
      ]
     },
     "metadata": {},
     "output_type": "display_data"
    },
    {
     "name": "stdout",
     "output_type": "stream",
     "text": [
      "метрика: accuracy - обучающая выборка:  0.784160853508412\n",
      "метрика: accuracy - тестовая выборка:  0.7703534376648496\n",
      "метрика: precision - обучающая выборка:  0.9355300859598854\n",
      "метрика: precision - тестовая выборка:  0.9408602150537635\n"
     ]
    },
    {
     "data": {
      "text/plain": [
       "'Accuracy для каждого класса:'"
      ]
     },
     "metadata": {},
     "output_type": "display_data"
    },
    {
     "name": "stdout",
     "output_type": "stream",
     "text": [
      "Метка \t Accuracy\n",
      "e \t 0.96592082616179\n",
      "p \t 0.5661394680086269\n"
     ]
    },
    {
     "data": {
      "text/plain": [
       "{'model_name': 'DTC_i1',\n",
       " 'fit_time': 0,\n",
       " 'best_score': 0,\n",
       " 'accuracy_train': 0.784160853508412,\n",
       " 'accuracy_test': 0.7703534376648496,\n",
       " 'precision_train': 0.9355300859598854,\n",
       " 'precision_test': 0.9408602150537635}"
      ]
     },
     "execution_count": 88,
     "metadata": {},
     "output_type": "execute_result"
    }
   ],
   "source": [
    "# Обучим дерево на 1 самом важном признаке\n",
    "dtc_i1_stats = build_print_model(mushrooms_ohe_X_sorted.iloc[:,:1],mushrooms_y,dtc_f_estimator,dtc_param_grid,'DTC_i1',build_required=False)[0]\n",
    "dtc_i1_stats"
   ]
  },
  {
   "cell_type": "code",
   "execution_count": 89,
   "metadata": {},
   "outputs": [
    {
     "data": {
      "text/plain": [
       "'Значения метрик качества:'"
      ]
     },
     "metadata": {},
     "output_type": "display_data"
    },
    {
     "name": "stdout",
     "output_type": "stream",
     "text": [
      "метрика: accuracy - обучающая выборка:  0.9540418547394337\n",
      "метрика: accuracy - тестовая выборка:  0.9500615438719887\n",
      "метрика: precision - обучающая выборка:  0.9330508474576271\n",
      "метрика: precision - тестовая выборка:  0.928326474622771\n"
     ]
    },
    {
     "data": {
      "text/plain": [
       "'Accuracy для каждого класса:'"
      ]
     },
     "metadata": {},
     "output_type": "display_data"
    },
    {
     "name": "stdout",
     "output_type": "stream",
     "text": [
      "Метка \t Accuracy\n",
      "e \t 0.9280550774526678\n",
      "p \t 0.9730409777138749\n"
     ]
    },
    {
     "data": {
      "text/plain": [
       "{'model_name': 'DTC_i3',\n",
       " 'fit_time': 0,\n",
       " 'best_score': 0,\n",
       " 'accuracy_train': 0.9540418547394337,\n",
       " 'accuracy_test': 0.9500615438719887,\n",
       " 'precision_train': 0.9330508474576271,\n",
       " 'precision_test': 0.928326474622771}"
      ]
     },
     "execution_count": 89,
     "metadata": {},
     "output_type": "execute_result"
    }
   ],
   "source": [
    "# Обучим дерево на 3 самых важных признаках\n",
    "dtc_i3_stats = build_print_model(mushrooms_ohe_X_sorted.iloc[:,:3],mushrooms_y,dtc_f_estimator,dtc_param_grid,'DTC_i3',build_required=False)[0]\n",
    "dtc_i3_stats"
   ]
  },
  {
   "cell_type": "code",
   "execution_count": 90,
   "metadata": {},
   "outputs": [
    {
     "data": {
      "text/plain": [
       "'Значения метрик качества:'"
      ]
     },
     "metadata": {},
     "output_type": "display_data"
    },
    {
     "name": "stdout",
     "output_type": "stream",
     "text": [
      "метрика: accuracy - обучающая выборка:  0.979072630283135\n",
      "метрика: accuracy - тестовая выборка:  0.9766133286442764\n",
      "метрика: precision - обучающая выборка:  0.9770925110132158\n",
      "метрика: precision - тестовая выборка:  0.9749013983506634\n"
     ]
    },
    {
     "data": {
      "text/plain": [
       "'Accuracy для каждого класса:'"
      ]
     },
     "metadata": {},
     "output_type": "display_data"
    },
    {
     "name": "stdout",
     "output_type": "stream",
     "text": [
      "Метка \t Accuracy\n",
      "e \t 0.9759036144578314\n",
      "p \t 0.9773544212796549\n"
     ]
    },
    {
     "data": {
      "text/plain": [
       "{'model_name': 'DTC_i5',\n",
       " 'fit_time': 0,\n",
       " 'best_score': 0,\n",
       " 'accuracy_train': 0.979072630283135,\n",
       " 'accuracy_test': 0.9766133286442764,\n",
       " 'precision_train': 0.9770925110132158,\n",
       " 'precision_test': 0.9749013983506634}"
      ]
     },
     "execution_count": 90,
     "metadata": {},
     "output_type": "execute_result"
    }
   ],
   "source": [
    "# Обучим дерево на 5 самых важных признаках\n",
    "dtc_i5_stats = build_print_model(mushrooms_ohe_X_sorted.iloc[:,:5],mushrooms_y,dtc_f_estimator,dtc_param_grid,'DTC_i5',build_required=False)[0]\n",
    "dtc_i5_stats"
   ]
  },
  {
   "cell_type": "code",
   "execution_count": 91,
   "metadata": {},
   "outputs": [
    {
     "data": {
      "text/html": [
       "<div>\n",
       "<style scoped>\n",
       "    .dataframe tbody tr th:only-of-type {\n",
       "        vertical-align: middle;\n",
       "    }\n",
       "\n",
       "    .dataframe tbody tr th {\n",
       "        vertical-align: top;\n",
       "    }\n",
       "\n",
       "    .dataframe thead th {\n",
       "        text-align: right;\n",
       "    }\n",
       "</style>\n",
       "<table border=\"1\" class=\"dataframe\">\n",
       "  <thead>\n",
       "    <tr style=\"text-align: right;\">\n",
       "      <th></th>\n",
       "      <th>model_name</th>\n",
       "      <th>fit_time</th>\n",
       "      <th>best_score</th>\n",
       "      <th>accuracy_train</th>\n",
       "      <th>accuracy_test</th>\n",
       "      <th>precision_train</th>\n",
       "      <th>precision_test</th>\n",
       "    </tr>\n",
       "  </thead>\n",
       "  <tbody>\n",
       "    <tr>\n",
       "      <th>DTC_full</th>\n",
       "      <td>DTC_full</td>\n",
       "      <td>5.193798</td>\n",
       "      <td>1.0</td>\n",
       "      <td>1.000000</td>\n",
       "      <td>1.000000</td>\n",
       "      <td>1.000000</td>\n",
       "      <td>1.000000</td>\n",
       "    </tr>\n",
       "    <tr>\n",
       "      <th>DTC_i1</th>\n",
       "      <td>DTC_i1</td>\n",
       "      <td>0.000000</td>\n",
       "      <td>0.0</td>\n",
       "      <td>0.784161</td>\n",
       "      <td>0.770353</td>\n",
       "      <td>0.935530</td>\n",
       "      <td>0.940860</td>\n",
       "    </tr>\n",
       "    <tr>\n",
       "      <th>DTC_i3</th>\n",
       "      <td>DTC_i3</td>\n",
       "      <td>0.000000</td>\n",
       "      <td>0.0</td>\n",
       "      <td>0.954042</td>\n",
       "      <td>0.950062</td>\n",
       "      <td>0.933051</td>\n",
       "      <td>0.928326</td>\n",
       "    </tr>\n",
       "    <tr>\n",
       "      <th>DTC_i5</th>\n",
       "      <td>DTC_i5</td>\n",
       "      <td>0.000000</td>\n",
       "      <td>0.0</td>\n",
       "      <td>0.979073</td>\n",
       "      <td>0.976613</td>\n",
       "      <td>0.977093</td>\n",
       "      <td>0.974901</td>\n",
       "    </tr>\n",
       "  </tbody>\n",
       "</table>\n",
       "</div>"
      ],
      "text/plain": [
       "         model_name  fit_time  best_score  accuracy_train  accuracy_test  \\\n",
       "DTC_full   DTC_full  5.193798         1.0        1.000000       1.000000   \n",
       "DTC_i1       DTC_i1  0.000000         0.0        0.784161       0.770353   \n",
       "DTC_i3       DTC_i3  0.000000         0.0        0.954042       0.950062   \n",
       "DTC_i5       DTC_i5  0.000000         0.0        0.979073       0.976613   \n",
       "\n",
       "          precision_train  precision_test  \n",
       "DTC_full         1.000000        1.000000  \n",
       "DTC_i1           0.935530        0.940860  \n",
       "DTC_i3           0.933051        0.928326  \n",
       "DTC_i5           0.977093        0.974901  "
      ]
     },
     "metadata": {},
     "output_type": "display_data"
    },
    {
     "data": {
      "text/plain": [
       "<matplotlib.axes._subplots.AxesSubplot at 0x7f8605f6b850>"
      ]
     },
     "metadata": {},
     "output_type": "display_data"
    },
    {
     "data": {
      "image/png": "[encoded data removed]",
      "text/plain": [
       "<Figure size 720x720 with 1 Axes>"
      ]
     },
     "metadata": {},
     "output_type": "display_data"
    }
   ],
   "source": [
    "# Сравним качество полученных моделей\n",
    "print_models_plots(dtc_f_stats,dtc_i1_stats,dtc_i3_stats,dtc_i5_stats,plot_time=False)"
   ]
  },
  {
   "cell_type": "markdown",
   "metadata": {},
   "source": [
    "Как видно из таблицы и диаграммы, при использовании только 5 наиболее важных признаков достигается качество модели, близкое к исходной. При 3 признаках, качество незначительно падает, а при использовании только одного сильно упало значении метрики accuracy, а показатели precision снизились незначительно. Это свидетельствует о том, что классификатор определил достоточно много съедобных грибов как несъедобные."
   ]
  },
  {
   "cell_type": "markdown",
   "metadata": {},
   "source": [
    "# 5. Сравнение качества 3 моделей\n",
    "Наконец, сравним качество и время обучения моделей всех типов: **LogisticRegression**, **SVC**, **DecisionTreeClassifier**."
   ]
  },
  {
   "cell_type": "code",
   "execution_count": 92,
   "metadata": {},
   "outputs": [
    {
     "data": {
      "text/html": [
       "<div>\n",
       "<style scoped>\n",
       "    .dataframe tbody tr th:only-of-type {\n",
       "        vertical-align: middle;\n",
       "    }\n",
       "\n",
       "    .dataframe tbody tr th {\n",
       "        vertical-align: top;\n",
       "    }\n",
       "\n",
       "    .dataframe thead th {\n",
       "        text-align: right;\n",
       "    }\n",
       "</style>\n",
       "<table border=\"1\" class=\"dataframe\">\n",
       "  <thead>\n",
       "    <tr style=\"text-align: right;\">\n",
       "      <th></th>\n",
       "      <th>model_name</th>\n",
       "      <th>fit_time</th>\n",
       "      <th>best_score</th>\n",
       "      <th>accuracy_train</th>\n",
       "      <th>accuracy_test</th>\n",
       "      <th>precision_train</th>\n",
       "      <th>precision_test</th>\n",
       "    </tr>\n",
       "  </thead>\n",
       "  <tbody>\n",
       "    <tr>\n",
       "      <th>LogisticRegression_ohe</th>\n",
       "      <td>LogisticRegression_ohe</td>\n",
       "      <td>1.358590</td>\n",
       "      <td>0.998359</td>\n",
       "      <td>1.0</td>\n",
       "      <td>1.0</td>\n",
       "      <td>1.0</td>\n",
       "      <td>1.0</td>\n",
       "    </tr>\n",
       "    <tr>\n",
       "      <th>SVM_ohe</th>\n",
       "      <td>SVM_ohe</td>\n",
       "      <td>13.787908</td>\n",
       "      <td>0.998359</td>\n",
       "      <td>1.0</td>\n",
       "      <td>1.0</td>\n",
       "      <td>1.0</td>\n",
       "      <td>1.0</td>\n",
       "    </tr>\n",
       "    <tr>\n",
       "      <th>DTC_full</th>\n",
       "      <td>DTC_full</td>\n",
       "      <td>5.193798</td>\n",
       "      <td>1.000000</td>\n",
       "      <td>1.0</td>\n",
       "      <td>1.0</td>\n",
       "      <td>1.0</td>\n",
       "      <td>1.0</td>\n",
       "    </tr>\n",
       "  </tbody>\n",
       "</table>\n",
       "</div>"
      ],
      "text/plain": [
       "                                    model_name   fit_time  best_score  \\\n",
       "LogisticRegression_ohe  LogisticRegression_ohe   1.358590    0.998359   \n",
       "SVM_ohe                                SVM_ohe  13.787908    0.998359   \n",
       "DTC_full                              DTC_full   5.193798    1.000000   \n",
       "\n",
       "                        accuracy_train  accuracy_test  precision_train  \\\n",
       "LogisticRegression_ohe             1.0            1.0              1.0   \n",
       "SVM_ohe                            1.0            1.0              1.0   \n",
       "DTC_full                           1.0            1.0              1.0   \n",
       "\n",
       "                        precision_test  \n",
       "LogisticRegression_ohe             1.0  \n",
       "SVM_ohe                            1.0  \n",
       "DTC_full                           1.0  "
      ]
     },
     "metadata": {},
     "output_type": "display_data"
    },
    {
     "data": {
      "text/plain": [
       "<matplotlib.axes._subplots.AxesSubplot at 0x7f860647e110>"
      ]
     },
     "metadata": {},
     "output_type": "display_data"
    },
    {
     "data": {
      "text/plain": [
       "<matplotlib.axes._subplots.AxesSubplot at 0x7f860622b5d0>"
      ]
     },
     "metadata": {},
     "output_type": "display_data"
    },
    {
     "data": {
      "image/png": "[encoded data removed]",
      "text/plain": [
       "<Figure size 720x720 with 1 Axes>"
      ]
     },
     "metadata": {},
     "output_type": "display_data"
    },
    {
     "data": {
      "image/png": "[encoded data removed]",
      "text/plain": [
       "<Figure size 720x720 with 1 Axes>"
      ]
     },
     "metadata": {},
     "output_type": "display_data"
    }
   ],
   "source": [
    "# Выводим статистику моделей 3 типов\n",
    "print_models_plots(lr_ohe_stats,svc_ohe_stats,dtc_f_stats)"
   ]
  },
  {
   "cell_type": "markdown",
   "metadata": {},
   "source": [
    "Исходя из данных таблицы и диаграмм, все модели обладают хорошим качеством. **DecisionTreeClassifier** выступает в качестве \"золотой середины\" по времени подбору параметров. При этом только у этой модели значение *grid_search.best_score_* равно 1."
   ]
  },
  {
   "cell_type": "markdown",
   "metadata": {},
   "source": [
    "# 6. Выводы\n",
    "Таким образом, в ходе лабораторной работы были изучены три типа моделей для решения задачи классификации: **LogisticRegression**, **SVC**, **DecisionTreeClassifier**. Проведен анализ моделей в отдельности и сравнение качества между собой. Были реализованы наглядные диаграммы, содержащие оценки моделей, а также визуализировано дерево решений."
   ]
  }
 ],
 "metadata": {
  "kernelspec": {
   "display_name": "Python 3",
   "language": "python",
   "name": "python3"
  },
  "language_info": {
   "codemirror_mode": {
    "name": "ipython",
    "version": 3
   },
   "file_extension": ".py",
   "mimetype": "text/x-python",
   "name": "python",
   "nbconvert_exporter": "python",
   "pygments_lexer": "ipython3",
   "version": "3.7.7"
  }
 },
 "nbformat": 4,
 "nbformat_minor": 4
}
