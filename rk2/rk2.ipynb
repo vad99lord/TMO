{
 "cells": [
  {
   "cell_type": "markdown",
   "metadata": {},
   "source": [
    "**Труфанов Вадим, ИУ5-63,Рубежный контроль №2**\n",
    "\n",
    "**Задание №1, собстсвенно выбранный датасет**"
   ]
  },
  {
   "cell_type": "markdown",
   "metadata": {},
   "source": [
    "# Задание:\n",
    "**Классификация текстов на основе методов наивного Байеса.**\n",
    "\n",
    "Необходимо решить задачу классификации текстов на основе любого выбранного датасета (кроме примера, который рассматривался в лекции). Классификация может быть бинарной или многоклассовой. Целевой признак из выбранного датасета может иметь любой физический смысл, примером является задача анализа тональности текста.\n",
    "\n",
    "Необходимо сформировать признаки на основе CountVectorizer или TfidfVectorizer.\n",
    "\n",
    "В качестве классификаторов необходимо использовать два классификатора, не относящихся к наивным Байесовским методам (например, LogisticRegression, LinearSVC), а также Multinomial Naive Bayes (MNB), Complement Naive Bayes (CNB), Bernoulli Naive Bayes.\n",
    "\n",
    "Для каждого метода необходимо оценить качество классификации с помощью хотя бы одной метрики качества классификации (например, Accuracy).\n",
    "\n",
    "Сделать выводы о том, какой классификатор осуществляет более качественную классификацию на Вашем наборе данных."
   ]
  },
  {
   "cell_type": "markdown",
   "metadata": {},
   "source": [
    "# Решение задания:"
   ]
  },
  {
   "cell_type": "markdown",
   "metadata": {},
   "source": [
    "# 1. Импорт библиотек и данных"
   ]
  },
  {
   "cell_type": "code",
   "execution_count": 1,
   "metadata": {
    "_cell_guid": "b1076dfc-b9ad-4769-8c92-a6c4dae69d19",
    "_uuid": "8f2839f25d086af736a60e9eeb907d3b93b6e0e5"
   },
   "outputs": [
    {
     "name": "stdout",
     "output_type": "stream",
     "text": [
      "/kaggle/input/freud-detection/Freud_Detection_Train.csv\n",
      "/kaggle/input/freud-detection/Freud_Detection_Test.csv\n"
     ]
    }
   ],
   "source": [
    "# This Python 3 environment comes with many helpful analytics libraries installed\n",
    "# It is defined by the kaggle/python Docker image: https://github.com/kaggle/docker-python\n",
    "# For example, here's several helpful packages to load\n",
    "\n",
    "import numpy as np # linear algebra\n",
    "import pandas as pd # data processing, CSV file I/O (e.g. pd.read_csv)\n",
    "\n",
    "# Input data files are available in the read-only \"../input/\" directory\n",
    "# For example, running this (by clicking run or pressing Shift+Enter) will list all files under the input directory\n",
    "\n",
    "import os\n",
    "for dirname, _, filenames in os.walk('/kaggle/input'):\n",
    "    for filename in filenames:\n",
    "        print(os.path.join(dirname, filename))\n",
    "\n",
    "# You can write up to 5GB to the current directory (/kaggle/working/) that gets preserved as output when you create a version using \"Save & Run All\" \n",
    "# You can also write temporary files to /kaggle/temp/, but they won't be saved outside of the current session"
   ]
  },
  {
   "cell_type": "code",
   "execution_count": 2,
   "metadata": {
    "_cell_guid": "79c7e3d0-c299-4dcb-8224-4455121ee9b0",
    "_uuid": "d629ff2d2480ee46fbb7e2d37f6b5fab8052498a"
   },
   "outputs": [],
   "source": [
    "import seaborn as sns\n",
    "import matplotlib.pyplot as plt\n",
    "%matplotlib inline\n",
    "sns.set(style=\"ticks\")\n",
    "plt.rcParams['figure.dpi']= 150"
   ]
  },
  {
   "cell_type": "code",
   "execution_count": 3,
   "metadata": {},
   "outputs": [],
   "source": [
    "# Импорт датасета\n",
    "freud_test = pd.read_csv('/kaggle/input/freud-detection/Freud_Detection_Test.csv', sep=\",\")\n",
    "freud_train = pd.read_csv('/kaggle/input/freud-detection/Freud_Detection_Train.csv', sep=\",\")"
   ]
  },
  {
   "cell_type": "markdown",
   "metadata": {},
   "source": [
    "# 2. Характеристики датасета\n",
    "Для решения задачи текстовой классификации был выбран нестандартный датасет *Freud Detection* (не стоит путать с распространненымы датасетами *Fraud Detection*, которые используется для обнаружения мошеннических операций). Выбранный датасет содержит 160 цитат 4 авторов:\n",
    "Зигумнда Фрейда, Джейн Остин, Марка Твена и Майи Энжделоу. Датасет уже разбит на тестовый и обучающий набор в соотношении 1:3 по цитатам каждого автора.\n",
    "\n",
    "**Датасет содержит следующие признаки:**\n",
    "\n",
    "    quote - цитата автора\n",
    "    author - фамилия автора цитаты\n",
    "    freud - булевый флаг, является ли Фрейд автором цитаты\n",
    "\n",
    "На данном датасете будет решаться две задачи:\n",
    "1. Бинарная классификация по Фрейду\n",
    "2. Многоклассовая классификация по всем авторам."
   ]
  },
  {
   "cell_type": "code",
   "execution_count": 4,
   "metadata": {},
   "outputs": [
    {
     "data": {
      "text/html": [
       "<div>\n",
       "<style scoped>\n",
       "    .dataframe tbody tr th:only-of-type {\n",
       "        vertical-align: middle;\n",
       "    }\n",
       "\n",
       "    .dataframe tbody tr th {\n",
       "        vertical-align: top;\n",
       "    }\n",
       "\n",
       "    .dataframe thead th {\n",
       "        text-align: right;\n",
       "    }\n",
       "</style>\n",
       "<table border=\"1\" class=\"dataframe\">\n",
       "  <thead>\n",
       "    <tr style=\"text-align: right;\">\n",
       "      <th></th>\n",
       "      <th>quote</th>\n",
       "      <th>author</th>\n",
       "      <th>freud</th>\n",
       "    </tr>\n",
       "  </thead>\n",
       "  <tbody>\n",
       "    <tr>\n",
       "      <th>0</th>\n",
       "      <td>One day, in retrospect, the years of struggle ...</td>\n",
       "      <td>Freud</td>\n",
       "      <td>1</td>\n",
       "    </tr>\n",
       "    <tr>\n",
       "      <th>1</th>\n",
       "      <td>Being entirely honest with oneself is a good e...</td>\n",
       "      <td>Freud</td>\n",
       "      <td>1</td>\n",
       "    </tr>\n",
       "    <tr>\n",
       "      <th>2</th>\n",
       "      <td>Unexpressed emotions will never die. They are ...</td>\n",
       "      <td>Freud</td>\n",
       "      <td>1</td>\n",
       "    </tr>\n",
       "    <tr>\n",
       "      <th>3</th>\n",
       "      <td>Most people do not really want freedom, becaus...</td>\n",
       "      <td>Freud</td>\n",
       "      <td>1</td>\n",
       "    </tr>\n",
       "    <tr>\n",
       "      <th>4</th>\n",
       "      <td>We are never so defenseless against suffering ...</td>\n",
       "      <td>Freud</td>\n",
       "      <td>1</td>\n",
       "    </tr>\n",
       "  </tbody>\n",
       "</table>\n",
       "</div>"
      ],
      "text/plain": [
       "                                               quote author  freud\n",
       "0  One day, in retrospect, the years of struggle ...  Freud      1\n",
       "1  Being entirely honest with oneself is a good e...  Freud      1\n",
       "2  Unexpressed emotions will never die. They are ...  Freud      1\n",
       "3  Most people do not really want freedom, becaus...  Freud      1\n",
       "4  We are never so defenseless against suffering ...  Freud      1"
      ]
     },
     "execution_count": 4,
     "metadata": {},
     "output_type": "execute_result"
    }
   ],
   "source": [
    "# Первые 5 строк датасета\n",
    "freud_train.head()"
   ]
  },
  {
   "cell_type": "code",
   "execution_count": 5,
   "metadata": {},
   "outputs": [
    {
     "data": {
      "text/html": [
       "<div>\n",
       "<style scoped>\n",
       "    .dataframe tbody tr th:only-of-type {\n",
       "        vertical-align: middle;\n",
       "    }\n",
       "\n",
       "    .dataframe tbody tr th {\n",
       "        vertical-align: top;\n",
       "    }\n",
       "\n",
       "    .dataframe thead th {\n",
       "        text-align: right;\n",
       "    }\n",
       "</style>\n",
       "<table border=\"1\" class=\"dataframe\">\n",
       "  <thead>\n",
       "    <tr style=\"text-align: right;\">\n",
       "      <th></th>\n",
       "      <th>quote</th>\n",
       "      <th>author</th>\n",
       "      <th>freud</th>\n",
       "    </tr>\n",
       "  </thead>\n",
       "  <tbody>\n",
       "    <tr>\n",
       "      <th>0</th>\n",
       "      <td>America is a mistake, a giant mistake.</td>\n",
       "      <td>Freud</td>\n",
       "      <td>1</td>\n",
       "    </tr>\n",
       "    <tr>\n",
       "      <th>1</th>\n",
       "      <td>The intention that man should be happy is not ...</td>\n",
       "      <td>Freud</td>\n",
       "      <td>1</td>\n",
       "    </tr>\n",
       "    <tr>\n",
       "      <th>2</th>\n",
       "      <td>My love is something valuable to me which I ou...</td>\n",
       "      <td>Freud</td>\n",
       "      <td>1</td>\n",
       "    </tr>\n",
       "    <tr>\n",
       "      <th>3</th>\n",
       "      <td>Men are more moral than they think and far mor...</td>\n",
       "      <td>Freud</td>\n",
       "      <td>1</td>\n",
       "    </tr>\n",
       "    <tr>\n",
       "      <th>4</th>\n",
       "      <td>A man should not strive to eliminate his compl...</td>\n",
       "      <td>Freud</td>\n",
       "      <td>1</td>\n",
       "    </tr>\n",
       "  </tbody>\n",
       "</table>\n",
       "</div>"
      ],
      "text/plain": [
       "                                               quote author  freud\n",
       "0             America is a mistake, a giant mistake.  Freud      1\n",
       "1  The intention that man should be happy is not ...  Freud      1\n",
       "2  My love is something valuable to me which I ou...  Freud      1\n",
       "3  Men are more moral than they think and far mor...  Freud      1\n",
       "4  A man should not strive to eliminate his compl...  Freud      1"
      ]
     },
     "execution_count": 5,
     "metadata": {},
     "output_type": "execute_result"
    }
   ],
   "source": [
    "# Первые 5 строк датасета\n",
    "freud_test.head()"
   ]
  },
  {
   "cell_type": "markdown",
   "metadata": {},
   "source": [
    "# 3. Обработка признаков и данных"
   ]
  },
  {
   "cell_type": "markdown",
   "metadata": {},
   "source": [
    "Сначала перемешаем строки в датасете, так как цитаты идут по порядку по каждому из авторов."
   ]
  },
  {
   "cell_type": "code",
   "execution_count": 6,
   "metadata": {},
   "outputs": [
    {
     "data": {
      "text/html": [
       "<div>\n",
       "<style scoped>\n",
       "    .dataframe tbody tr th:only-of-type {\n",
       "        vertical-align: middle;\n",
       "    }\n",
       "\n",
       "    .dataframe tbody tr th {\n",
       "        vertical-align: top;\n",
       "    }\n",
       "\n",
       "    .dataframe thead th {\n",
       "        text-align: right;\n",
       "    }\n",
       "</style>\n",
       "<table border=\"1\" class=\"dataframe\">\n",
       "  <thead>\n",
       "    <tr style=\"text-align: right;\">\n",
       "      <th></th>\n",
       "      <th>quote</th>\n",
       "      <th>author</th>\n",
       "      <th>freud</th>\n",
       "    </tr>\n",
       "  </thead>\n",
       "  <tbody>\n",
       "    <tr>\n",
       "      <th>0</th>\n",
       "      <td>I come here with no expectations, only to prof...</td>\n",
       "      <td>Austen</td>\n",
       "      <td>0</td>\n",
       "    </tr>\n",
       "    <tr>\n",
       "      <th>1</th>\n",
       "      <td>There are people, who the more you do for them...</td>\n",
       "      <td>Austen</td>\n",
       "      <td>0</td>\n",
       "    </tr>\n",
       "    <tr>\n",
       "      <th>2</th>\n",
       "      <td>I wish, as well as everybody else, to be perfe...</td>\n",
       "      <td>Austen</td>\n",
       "      <td>0</td>\n",
       "    </tr>\n",
       "    <tr>\n",
       "      <th>3</th>\n",
       "      <td>Give every day the chance to become the most b...</td>\n",
       "      <td>Twain</td>\n",
       "      <td>0</td>\n",
       "    </tr>\n",
       "    <tr>\n",
       "      <th>4</th>\n",
       "      <td>A man should not strive to eliminate his compl...</td>\n",
       "      <td>Freud</td>\n",
       "      <td>1</td>\n",
       "    </tr>\n",
       "  </tbody>\n",
       "</table>\n",
       "</div>"
      ],
      "text/plain": [
       "                                               quote  author  freud\n",
       "0  I come here with no expectations, only to prof...  Austen      0\n",
       "1  There are people, who the more you do for them...  Austen      0\n",
       "2  I wish, as well as everybody else, to be perfe...  Austen      0\n",
       "3  Give every day the chance to become the most b...   Twain      0\n",
       "4  A man should not strive to eliminate his compl...   Freud      1"
      ]
     },
     "execution_count": 6,
     "metadata": {},
     "output_type": "execute_result"
    }
   ],
   "source": [
    "# Перемешиваем строки тестовой выборки\n",
    "freud_test = freud_test.sample(frac=1,random_state=42).reset_index(drop=True)\n",
    "freud_test.head()"
   ]
  },
  {
   "cell_type": "code",
   "execution_count": 7,
   "metadata": {},
   "outputs": [
    {
     "data": {
      "text/html": [
       "<div>\n",
       "<style scoped>\n",
       "    .dataframe tbody tr th:only-of-type {\n",
       "        vertical-align: middle;\n",
       "    }\n",
       "\n",
       "    .dataframe tbody tr th {\n",
       "        vertical-align: top;\n",
       "    }\n",
       "\n",
       "    .dataframe thead th {\n",
       "        text-align: right;\n",
       "    }\n",
       "</style>\n",
       "<table border=\"1\" class=\"dataframe\">\n",
       "  <thead>\n",
       "    <tr style=\"text-align: right;\">\n",
       "      <th></th>\n",
       "      <th>quote</th>\n",
       "      <th>author</th>\n",
       "      <th>freud</th>\n",
       "    </tr>\n",
       "  </thead>\n",
       "  <tbody>\n",
       "    <tr>\n",
       "      <th>0</th>\n",
       "      <td>There is a stubbornness about me that never ca...</td>\n",
       "      <td>Austen</td>\n",
       "      <td>0</td>\n",
       "    </tr>\n",
       "    <tr>\n",
       "      <th>1</th>\n",
       "      <td>Ah! There is nothing like staying at home, for...</td>\n",
       "      <td>Austen</td>\n",
       "      <td>0</td>\n",
       "    </tr>\n",
       "    <tr>\n",
       "      <th>2</th>\n",
       "      <td>We are never so defenseless against suffering ...</td>\n",
       "      <td>Freud</td>\n",
       "      <td>1</td>\n",
       "    </tr>\n",
       "    <tr>\n",
       "      <th>3</th>\n",
       "      <td>My idea of good company...is the company of cl...</td>\n",
       "      <td>Austen</td>\n",
       "      <td>0</td>\n",
       "    </tr>\n",
       "    <tr>\n",
       "      <th>4</th>\n",
       "      <td>The virtuous man contents himself with dreamin...</td>\n",
       "      <td>Freud</td>\n",
       "      <td>1</td>\n",
       "    </tr>\n",
       "  </tbody>\n",
       "</table>\n",
       "</div>"
      ],
      "text/plain": [
       "                                               quote  author  freud\n",
       "0  There is a stubbornness about me that never ca...  Austen      0\n",
       "1  Ah! There is nothing like staying at home, for...  Austen      0\n",
       "2  We are never so defenseless against suffering ...   Freud      1\n",
       "3  My idea of good company...is the company of cl...  Austen      0\n",
       "4  The virtuous man contents himself with dreamin...   Freud      1"
      ]
     },
     "execution_count": 7,
     "metadata": {},
     "output_type": "execute_result"
    }
   ],
   "source": [
    "# Перемешиваем строки обучающей выборки\n",
    "freud_train = freud_train.sample(frac=1,random_state=42).reset_index(drop=True)\n",
    "freud_train.head()"
   ]
  },
  {
   "cell_type": "markdown",
   "metadata": {},
   "source": [
    "Выведем гистаграммы распределей цитат по авторам."
   ]
  },
  {
   "cell_type": "code",
   "execution_count": 8,
   "metadata": {},
   "outputs": [
    {
     "data": {
      "text/plain": [
       "<matplotlib.axes._subplots.AxesSubplot at 0x7f907d009510>"
      ]
     },
     "execution_count": 8,
     "metadata": {},
     "output_type": "execute_result"
    },
    {
     "data": {
      "image/png": "[encoded data removed]",
      "text/plain": [
       "<Figure size 900x600 with 1 Axes>"
      ]
     },
     "metadata": {},
     "output_type": "display_data"
    }
   ],
   "source": [
    "# Гистограмма цитат по авторам в обучающей выборки\n",
    "freud_train['author'].hist()"
   ]
  },
  {
   "cell_type": "code",
   "execution_count": 9,
   "metadata": {},
   "outputs": [
    {
     "data": {
      "text/plain": [
       "<matplotlib.axes._subplots.AxesSubplot at 0x7f907cba3690>"
      ]
     },
     "execution_count": 9,
     "metadata": {},
     "output_type": "execute_result"
    },
    {
     "data": {
      "image/png": "[encoded data removed]",
      "text/plain": [
       "<Figure size 900x600 with 1 Axes>"
      ]
     },
     "metadata": {},
     "output_type": "display_data"
    }
   ],
   "source": [
    "# Гистограмма цитат по авторам в тестовой выборки\n",
    "freud_test['author'].hist()"
   ]
  },
  {
   "cell_type": "markdown",
   "metadata": {},
   "source": [
    "Как видно из гистограмм, цитат поровну у каждого из авторов : по 30 в обучающей выборке и по 10 в тестовой."
   ]
  },
  {
   "cell_type": "markdown",
   "metadata": {},
   "source": [
    "# 4. Выбор целевого признака\n",
    "В качестве целевого признака выбраны признаки:\n",
    "1. *freud* - для бинарной классификации\n",
    "2. *author* - для мультиклассовой классификации\n",
    "\n",
    "Чтобы использовать признак *author* для построения моделей преобразуем его в количественный."
   ]
  },
  {
   "cell_type": "code",
   "execution_count": 10,
   "metadata": {},
   "outputs": [],
   "source": [
    "# Импорт трансформатора из библиотеки\n",
    "from sklearn.preprocessing import LabelEncoder"
   ]
  },
  {
   "cell_type": "code",
   "execution_count": 11,
   "metadata": {},
   "outputs": [
    {
     "data": {
      "text/plain": [
       "array(['Angelou', 'Austen', 'Freud', 'Twain'], dtype=object)"
      ]
     },
     "execution_count": 11,
     "metadata": {},
     "output_type": "execute_result"
    }
   ],
   "source": [
    "# Обучение трансформатора на классах обучающей выборки\n",
    "le = LabelEncoder()\n",
    "le.fit(freud_train['author'].unique())\n",
    "le.classes_"
   ]
  },
  {
   "cell_type": "code",
   "execution_count": 12,
   "metadata": {},
   "outputs": [
    {
     "data": {
      "text/plain": [
       "(                                               quote  author  freud\n",
       " 0  I come here with no expectations, only to prof...       1      0\n",
       " 1  There are people, who the more you do for them...       1      0\n",
       " 2  I wish, as well as everybody else, to be perfe...       1      0\n",
       " 3  Give every day the chance to become the most b...       3      0\n",
       " 4  A man should not strive to eliminate his compl...       2      1,\n",
       "                                                quote  author  freud\n",
       " 0  There is a stubbornness about me that never ca...       1      0\n",
       " 1  Ah! There is nothing like staying at home, for...       1      0\n",
       " 2  We are never so defenseless against suffering ...       2      1\n",
       " 3  My idea of good company...is the company of cl...       1      0\n",
       " 4  The virtuous man contents himself with dreamin...       2      1)"
      ]
     },
     "execution_count": 12,
     "metadata": {},
     "output_type": "execute_result"
    }
   ],
   "source": [
    "# Применение трансформатора для кодирования целевого признака author\n",
    "freud_train['author'] = le.transform(freud_train['author'])\n",
    "freud_test['author'] = le.transform(freud_test['author'])\n",
    "freud_test.head(),freud_train.head()"
   ]
  },
  {
   "cell_type": "markdown",
   "metadata": {},
   "source": [
    "# 5. Предобработка данных\n",
    "Для предобработки данных используется библиотека nltk.\n",
    "\n",
    "Она применяется для следующих задач:\n",
    "\n",
    "1. С помощью нее цитаты разбиваются на слова токенизатором, используя **sent_tokenize** для разбиения на предложения и **wordpunct_tokenize** для разбиения на слова(токены)\n",
    "2. С помощью pos_tag каждому токену присваивается часть речи\n",
    "3. **WordNetLemmatizer** использует токен и информацию о части речи, чтобы провести лемматизацию\n",
    "4. Также для отбора слов применяется опционально список стоп слов **sw.words('english')** для английского языка"
   ]
  },
  {
   "cell_type": "code",
   "execution_count": 13,
   "metadata": {},
   "outputs": [],
   "source": [
    "# Импорт векторизаторов из библиотеки\n",
    "from sklearn.feature_extraction.text import CountVectorizer, TfidfVectorizer"
   ]
  },
  {
   "cell_type": "code",
   "execution_count": 14,
   "metadata": {},
   "outputs": [],
   "source": [
    "# Импорт метрики из библиотеки\n",
    "from sklearn.metrics import accuracy_score"
   ]
  },
  {
   "cell_type": "code",
   "execution_count": 16,
   "metadata": {},
   "outputs": [],
   "source": [
    "# Класс предобработки данных для разбиения предложений на слова и формирования лемм\n",
    "\n",
    "import string\n",
    "\n",
    "from nltk.corpus import stopwords as sw\n",
    "from nltk.corpus import wordnet as wn\n",
    "from nltk import wordpunct_tokenize\n",
    "from nltk import WordNetLemmatizer\n",
    "from nltk import sent_tokenize\n",
    "from nltk import pos_tag\n",
    "\n",
    "from sklearn.base import BaseEstimator, TransformerMixin\n",
    "\n",
    "class NLTKPreprocessor(BaseEstimator, TransformerMixin):\n",
    "\n",
    "    def __init__(self, stopwords=None, punct=None,\n",
    "                 lower=True, strip=True):\n",
    "        self.lower      = lower\n",
    "        self.strip      = strip\n",
    "        self.stopwords  = stopwords\n",
    "        self.punct      = punct or set(string.punctuation)\n",
    "        self.lemmatizer = WordNetLemmatizer()\n",
    "\n",
    "    def fit(self, X, y=None):\n",
    "        return self\n",
    "\n",
    "    def inverse_transform(self, X):\n",
    "        return [\" \".join(doc) for doc in X]\n",
    "\n",
    "    def transform(self, X):\n",
    "        return [\n",
    "            list(self.tokenize(doc)) for doc in X\n",
    "        ]\n",
    "\n",
    "    def tokenize(self, document):\n",
    "        # Break the document into sentences\n",
    "        for sent in sent_tokenize(document):\n",
    "            # Break the sentence into part of speech tagged tokens\n",
    "            for token, tag in pos_tag(wordpunct_tokenize(sent)):\n",
    "                # Apply preprocessing to the token\n",
    "                token = token.lower() if self.lower else token\n",
    "                token = token.strip() if self.strip else token\n",
    "                token = token.strip('_') if self.strip else token\n",
    "                token = token.strip('*') if self.strip else token\n",
    "\n",
    "                # If stopword, ignore token and continue\n",
    "                if self.stopwords and token in self.stopwords:\n",
    "                    continue\n",
    "\n",
    "                # If punctuation, ignore token and continue\n",
    "                if all(char in self.punct for char in token):\n",
    "                    continue\n",
    "\n",
    "                # Lemmatize the token and yield\n",
    "                lemma = self.lemmatize(token, tag)\n",
    "                yield lemma\n",
    "\n",
    "    def lemmatize(self, token, tag):\n",
    "        tag = {\n",
    "            'N': wn.NOUN,\n",
    "            'V': wn.VERB,\n",
    "            'R': wn.ADV,\n",
    "            'J': wn.ADJ\n",
    "        }.get(tag[0], wn.NOUN)\n",
    "\n",
    "        return self.lemmatizer.lemmatize(token, tag)\n"
   ]
  },
  {
   "cell_type": "code",
   "execution_count": 17,
   "metadata": {},
   "outputs": [
    {
     "name": "stdout",
     "output_type": "stream",
     "text": [
      "Цитата:  There is a stubbornness about me that never can bear to be frightened at the will of others. My courage always rises at every attempt to intimidate me.\n",
      "Леммы: there,be,a,stubbornness,about,me,that,never,can,bear,to,be,frighten,at,the,will,of,others,my,courage,always,rise,at,every,attempt,to,intimidate,me\n",
      "Цитата:  Ah! There is nothing like staying at home, for real comfort.\n",
      "Леммы: ah,there,be,nothing,like,stay,at,home,for,real,comfort\n",
      "Цитата:  We are never so defenseless against suffering as when we love.\n",
      "Леммы: we,be,never,so,defenseless,against,suffer,a,when,we,love\n",
      "Цитата:  My idea of good company...is the company of clever, well-informed people, who have a great deal of conversation; that is what I call good company.\n",
      "Леммы: my,idea,of,good,company,be,the,company,of,clever,well,informed,people,who,have,a,great,deal,of,conversation,that,be,what,i,call,good,company\n",
      "Цитата:  The virtuous man contents himself with dreaming that which the wicked man does in actual life.\n",
      "Леммы: the,virtuous,man,content,himself,with,dream,that,which,the,wicked,man,do,in,actual,life\n"
     ]
    }
   ],
   "source": [
    "# Пример работы предобработчитка на первых 5 цитатах тренировочной выборки \n",
    "preprocessor = NLTKPreprocessor()\n",
    "lemmas = preprocessor.fit_transform(freud_train['quote'][0:5])\n",
    "for lemma,quote in zip(lemmas,freud_train['quote'][0:5]):\n",
    "    print('Цитата: ',quote)\n",
    "    print('Леммы: '+','.join(lemma))"
   ]
  },
  {
   "cell_type": "markdown",
   "metadata": {},
   "source": [
    "# 6. Построение пайплайна и решетчатый поиск по параметрам\n",
    "Чтобы выбрать наилучшую модель используется **пайплайн** состоящий из:\n",
    "1. Предобработчика данных (опционально) NLTKPreprocessor\n",
    "2. Векторизатора CountVectorizer или TfidfVectorizer\n",
    "3. Классификатора из списка ниже:\n",
    "\n",
    "**Классифакаторы**\n",
    "\n",
    "    DecisionTreeClassifier\n",
    "    LogisticRegression\n",
    "    LinearSVC\n",
    "    MultinomialNB\n",
    "    СomplementNB\n",
    "    BernoulliNB\n",
    "\n",
    "Для **сетки параметров** используется:\n",
    "1. стоп-слова для предобработчика\n",
    "2. стоп-слова для векторизатора\n",
    "3. разное число н-грамм для векторизатора\n",
    "\n",
    "В качестве **метрики** используется:\n",
    "1. Ф1-мера для бинарной классификации\n",
    "2. accuracy для мультиклассовой классификации\n",
    "\n",
    "Данные разделяются на 4 фолда."
   ]
  },
  {
   "cell_type": "code",
   "execution_count": 18,
   "metadata": {},
   "outputs": [],
   "source": [
    "# Функции для осуществления решетчатого поиска по пайплайну и его параметрам\n",
    "\n",
    "from sklearn.pipeline import Pipeline\n",
    "from sklearn.metrics import classification_report as clsr\n",
    "from sklearn.model_selection import GridSearchCV\n",
    "import time\n",
    "\n",
    "def timeit(func):\n",
    "    \"\"\"\n",
    "    Simple timing decorator\n",
    "    \"\"\"\n",
    "    def wrapper(*args, **kwargs):\n",
    "        start  = time.time()\n",
    "        result = func(*args, **kwargs)\n",
    "        delta  = time.time() - start\n",
    "        return result, delta\n",
    "    return wrapper\n",
    "\n",
    "\n",
    "def identity(arg):\n",
    "    \"\"\"\n",
    "    Simple identity function works as a passthrough.\n",
    "    \"\"\"\n",
    "    return arg\n",
    "\n",
    "\n",
    "def build_and_evaluate(X_train, X_test, y_train, y_test, \n",
    "                       classifier, classifier_params, cv, scoring,target_names,binary=False):\n",
    " \n",
    "    @timeit\n",
    "    def build(X_train, y_train, classifier, classifier_params, cv, scoring, binary):\n",
    "        \"\"\"\n",
    "        Inner build function that builds a single model.\n",
    "        \"\"\"\n",
    "        if isinstance(classifier, type):\n",
    "            classifier = classifier()\n",
    "\n",
    "        preprocessor = NLTKPreprocessor()\n",
    "        count_vect = CountVectorizer(binary=binary)\n",
    "        tfidf_vect = TfidfVectorizer(binary=binary)\n",
    "        count_vect_simple = CountVectorizer(tokenizer=identity,preprocessor=None, lowercase=False,binary=binary)\n",
    "        tfidf_vect_simple = TfidfVectorizer(tokenizer=identity,preprocessor=None, lowercase=False,binary=binary)\n",
    "        \n",
    "        pipe_params_grid = [{\n",
    "        'preprocessor':[None],    \n",
    "        'vectorizer':[count_vect, tfidf_vect],\n",
    "        'vectorizer__stop_words': [None,sw.words('english')],\n",
    "        'vectorizer__ngram_range': [(1,1),(1,2),(1,3),(2,3)]\n",
    "        },\n",
    "        {\n",
    "        'preprocessor':[preprocessor],\n",
    "        'preprocessor__stopwords': [None,set(sw.words('english'))],\n",
    "        'vectorizer':[count_vect_simple, \n",
    "                      tfidf_vect_simple],\n",
    "        'vectorizer__ngram_range': [(1,1),(1,2),(1,3),(2,3)]\n",
    "        }]\n",
    "            \n",
    "        classifier_params = ({'classifier__'+k: v for k, v in classifier_params.items()})\n",
    "        #print(classifier_params)\n",
    "        for combination in pipe_params_grid:\n",
    "            combination.update(classifier_params)\n",
    "        #print(pipe_params_grid)\n",
    "        pipeline = Pipeline([\n",
    "            ('preprocessor', None),\n",
    "            ('vectorizer', None),\n",
    "            ('classifier', classifier),\n",
    "        ])\n",
    "\n",
    "        gs_pipeline = GridSearchCV(pipeline, pipe_params_grid, cv=cv, scoring=scoring,verbose=1,n_jobs=1)\n",
    "        gs_pipeline.fit(X_train, y_train)\n",
    "        \n",
    "        #display('Gris Search - результаты:')\n",
    "        # Выводим результаты подбора\n",
    "        #print(\"Результаты подбора: \",gs_pipeline.cv_results_)\n",
    "        # Лучшая модель\n",
    "        display('Лучшая из построенных моделей:')\n",
    "        print(\"Лучшая модель: \",gs_pipeline.best_estimator_)\n",
    "        # Лучшее значение метрики\n",
    "        print(\"Лучшее значение метрики: \",gs_pipeline.best_score_)\n",
    "        # Лучшее значение параметров\n",
    "        print(\"Лучшее значение параметров: \",gs_pipeline.best_params_)\n",
    "        \n",
    "        return gs_pipeline.best_estimator_\n",
    "    \n",
    "    best_model, secs = build(X_train, y_train, classifier, classifier_params, cv, scoring,binary)\n",
    "\n",
    "    print(\"Evaluation model fit in {:0.3f} seconds\".format(secs))\n",
    "    print(\"Classification Report:\\n\")\n",
    "\n",
    "    y_pred = best_model.predict(X_test)\n",
    "    print(clsr(y_test, y_pred, target_names=target_names))\n",
    "    return best_model\n"
   ]
  },
  {
   "cell_type": "code",
   "execution_count": 19,
   "metadata": {},
   "outputs": [
    {
     "data": {
      "text/plain": [
       "(['not freud', 'freud'], ['Angelou', 'Austen', 'Freud', 'Twain'])"
      ]
     },
     "execution_count": 19,
     "metadata": {},
     "output_type": "execute_result"
    }
   ],
   "source": [
    "# Формирование списков с метками классов\n",
    "binary_names=['not freud','freud']\n",
    "multiclass_names=le.classes_.tolist()\n",
    "binary_names,multiclass_names"
   ]
  },
  {
   "cell_type": "code",
   "execution_count": 20,
   "metadata": {},
   "outputs": [],
   "source": [
    "# Импорты моделей из библиотеки\n",
    "from sklearn.linear_model import LogisticRegression\n",
    "from sklearn.svm import LinearSVC\n",
    "from sklearn.tree import DecisionTreeClassifier\n",
    "from sklearn.naive_bayes import MultinomialNB, ComplementNB, BernoulliNB"
   ]
  },
  {
   "cell_type": "code",
   "execution_count": 21,
   "metadata": {},
   "outputs": [],
   "source": [
    "# Гиперпараметры решающего дерева для решетчатого поиска\n",
    "dtc_param_grid = {\n",
    "    'max_depth': [5, 6],\n",
    "    'min_samples_leaf': [5,10],\n",
    "    'max_features': [0.5, None]\n",
    "}"
   ]
  },
  {
   "cell_type": "code",
   "execution_count": 22,
   "metadata": {},
   "outputs": [],
   "source": [
    "# Гиперпараметры логистической регрессии для решетчатого поиска\n",
    "lr_param_grid = {'C': [1, 5, 10, 100]}"
   ]
  },
  {
   "cell_type": "code",
   "execution_count": 23,
   "metadata": {},
   "outputs": [],
   "source": [
    "# Гиперпараметры линейной машины опорных векторов для решетчатого поиска\n",
    "svc_param_grid = {'C': [1, 5, 10, 100]}"
   ]
  },
  {
   "cell_type": "code",
   "execution_count": 24,
   "metadata": {},
   "outputs": [],
   "source": [
    "# Пустые гиперпараметры для решетчатого поиска\n",
    "empty_param_grid = {}"
   ]
  },
  {
   "cell_type": "code",
   "execution_count": 25,
   "metadata": {},
   "outputs": [],
   "source": [
    "# Словарь моделей\n",
    "classifiers = [{'model_name':'DecisionTreeClassifier','classifier':DecisionTreeClassifier,'param_grid':dtc_param_grid},\n",
    "               {'model_name':'LogisticRegression','classifier':LogisticRegression,'param_grid':lr_param_grid},\n",
    "               {'model_name':'LinearSVC','classifier':LinearSVC,'param_grid':svc_param_grid},\n",
    "               {'model_name':'MultinomialNB','classifier':MultinomialNB,'param_grid':empty_param_grid},\n",
    "               {'model_name':'ComplementNB','classifier':ComplementNB,'param_grid':empty_param_grid},\n",
    "               {'model_name':'BernoulliNB','classifier':BernoulliNB,'param_grid':empty_param_grid},]"
   ]
  },
  {
   "cell_type": "code",
   "execution_count": 26,
   "metadata": {},
   "outputs": [],
   "source": [
    "# Функция для осуществления решетчатого поиска по всем моделям в цикле\n",
    "def build_models(X_colname,y_colname,target_names,scoring):\n",
    "    best_models = []\n",
    "    for classifier in classifiers:\n",
    "        binary_features = True if classifier['model_name']=='BernoulliNB' else False\n",
    "        display('============'+classifier['model_name']+'============')\n",
    "        best_model = build_and_evaluate(freud_train[X_colname],freud_test[X_colname],freud_train[y_colname],freud_test[y_colname],\n",
    "                           classifier['classifier'],classifier['param_grid'],cv=4,scoring=scoring,\n",
    "                           target_names=target_names,binary=binary_features)\n",
    "        print(best_model)\n",
    "        best_models.append({'model_name':classifier['model_name'],'best_model': best_model})\n",
    "    return best_models"
   ]
  },
  {
   "cell_type": "code",
   "execution_count": 27,
   "metadata": {},
   "outputs": [
    {
     "data": {
      "text/plain": [
       "'============DecisionTreeClassifier============'"
      ]
     },
     "metadata": {},
     "output_type": "display_data"
    },
    {
     "name": "stdout",
     "output_type": "stream",
     "text": [
      "Fitting 4 folds for each of 256 candidates, totalling 1024 fits\n"
     ]
    },
    {
     "name": "stderr",
     "output_type": "stream",
     "text": [
      "[Parallel(n_jobs=1)]: Using backend SequentialBackend with 1 concurrent workers.\n",
      "[Parallel(n_jobs=1)]: Done 1024 out of 1024 | elapsed:  1.8min finished\n"
     ]
    },
    {
     "data": {
      "text/plain": [
       "'Лучшая из построенных моделей:'"
      ]
     },
     "metadata": {},
     "output_type": "display_data"
    },
    {
     "name": "stdout",
     "output_type": "stream",
     "text": [
      "Лучшая модель:  Pipeline(steps=[('preprocessor',\n",
      "                 NLTKPreprocessor(punct={'!', '\"', '#', '$', '%', '&', \"'\", '(',\n",
      "                                         ')', '*', '+', ',', '-', '.', '/', ':',\n",
      "                                         ';', '<', '=', '>', '?', '@', '[',\n",
      "                                         '\\\\', ']', '^', '_', '`', '{', '|', ...})),\n",
      "                ('vectorizer',\n",
      "                 TfidfVectorizer(lowercase=False, ngram_range=(1, 2),\n",
      "                                 tokenizer=<function identity at 0x7f906d52d8c0>)),\n",
      "                ('classifier',\n",
      "                 DecisionTreeClassifier(max_depth=5, min_samples_leaf=10))])\n",
      "Лучшее значение метрики:  0.39880952380952384\n",
      "Лучшее значение параметров:  {'classifier__max_depth': 5, 'classifier__max_features': None, 'classifier__min_samples_leaf': 10, 'preprocessor': NLTKPreprocessor(punct={'!', '\"', '#', '$', '%', '&', \"'\", '(', ')', '*', '+',\n",
      "                        ',', '-', '.', '/', ':', ';', '<', '=', '>', '?', '@',\n",
      "                        '[', '\\\\', ']', '^', '_', '`', '{', '|', ...}), 'preprocessor__stopwords': None, 'vectorizer': TfidfVectorizer(lowercase=False, ngram_range=(1, 2),\n",
      "                tokenizer=<function identity at 0x7f906d52d8c0>), 'vectorizer__ngram_range': (1, 2)}\n",
      "Evaluation model fit in 105.636 seconds\n",
      "Classification Report:\n",
      "\n",
      "              precision    recall  f1-score   support\n",
      "\n",
      "   not freud       0.78      0.93      0.85        30\n",
      "       freud       0.50      0.20      0.29        10\n",
      "\n",
      "    accuracy                           0.75        40\n",
      "   macro avg       0.64      0.57      0.57        40\n",
      "weighted avg       0.71      0.75      0.71        40\n",
      "\n",
      "Pipeline(steps=[('preprocessor',\n",
      "                 NLTKPreprocessor(punct={'!', '\"', '#', '$', '%', '&', \"'\", '(',\n",
      "                                         ')', '*', '+', ',', '-', '.', '/', ':',\n",
      "                                         ';', '<', '=', '>', '?', '@', '[',\n",
      "                                         '\\\\', ']', '^', '_', '`', '{', '|', ...})),\n",
      "                ('vectorizer',\n",
      "                 TfidfVectorizer(lowercase=False, ngram_range=(1, 2),\n",
      "                                 tokenizer=<function identity at 0x7f906d52d8c0>)),\n",
      "                ('classifier',\n",
      "                 DecisionTreeClassifier(max_depth=5, min_samples_leaf=10))])\n"
     ]
    },
    {
     "data": {
      "text/plain": [
       "'============LogisticRegression============'"
      ]
     },
     "metadata": {},
     "output_type": "display_data"
    },
    {
     "name": "stdout",
     "output_type": "stream",
     "text": [
      "Fitting 4 folds for each of 128 candidates, totalling 512 fits\n"
     ]
    },
    {
     "name": "stderr",
     "output_type": "stream",
     "text": [
      "[Parallel(n_jobs=1)]: Using backend SequentialBackend with 1 concurrent workers.\n",
      "[Parallel(n_jobs=1)]: Done 512 out of 512 | elapsed:   58.6s finished\n"
     ]
    },
    {
     "data": {
      "text/plain": [
       "'Лучшая из построенных моделей:'"
      ]
     },
     "metadata": {},
     "output_type": "display_data"
    },
    {
     "name": "stdout",
     "output_type": "stream",
     "text": [
      "Лучшая модель:  Pipeline(steps=[('preprocessor', None), ('vectorizer', TfidfVectorizer()),\n",
      "                ('classifier', LogisticRegression(C=100))])\n",
      "Лучшее значение метрики:  0.38636363636363635\n",
      "Лучшее значение параметров:  {'classifier__C': 100, 'preprocessor': None, 'vectorizer': TfidfVectorizer(), 'vectorizer__ngram_range': (1, 1), 'vectorizer__stop_words': None}\n",
      "Evaluation model fit in 58.689 seconds\n",
      "Classification Report:\n",
      "\n",
      "              precision    recall  f1-score   support\n",
      "\n",
      "   not freud       0.78      0.93      0.85        30\n",
      "       freud       0.50      0.20      0.29        10\n",
      "\n",
      "    accuracy                           0.75        40\n",
      "   macro avg       0.64      0.57      0.57        40\n",
      "weighted avg       0.71      0.75      0.71        40\n",
      "\n",
      "Pipeline(steps=[('preprocessor', None), ('vectorizer', TfidfVectorizer()),\n",
      "                ('classifier', LogisticRegression(C=100))])\n"
     ]
    },
    {
     "data": {
      "text/plain": [
       "'============LinearSVC============'"
      ]
     },
     "metadata": {},
     "output_type": "display_data"
    },
    {
     "name": "stderr",
     "output_type": "stream",
     "text": [
      "[Parallel(n_jobs=1)]: Using backend SequentialBackend with 1 concurrent workers.\n"
     ]
    },
    {
     "name": "stdout",
     "output_type": "stream",
     "text": [
      "Fitting 4 folds for each of 128 candidates, totalling 512 fits\n"
     ]
    },
    {
     "name": "stderr",
     "output_type": "stream",
     "text": [
      "[Parallel(n_jobs=1)]: Done 512 out of 512 | elapsed:   52.2s finished\n"
     ]
    },
    {
     "data": {
      "text/plain": [
       "'Лучшая из построенных моделей:'"
      ]
     },
     "metadata": {},
     "output_type": "display_data"
    },
    {
     "name": "stdout",
     "output_type": "stream",
     "text": [
      "Лучшая модель:  Pipeline(steps=[('preprocessor',\n",
      "                 NLTKPreprocessor(punct={'!', '\"', '#', '$', '%', '&', \"'\", '(',\n",
      "                                         ')', '*', '+', ',', '-', '.', '/', ':',\n",
      "                                         ';', '<', '=', '>', '?', '@', '[',\n",
      "                                         '\\\\', ']', '^', '_', '`', '{', '|', ...})),\n",
      "                ('vectorizer',\n",
      "                 TfidfVectorizer(lowercase=False,\n",
      "                                 tokenizer=<function identity at 0x7f906d52d8c0>)),\n",
      "                ('classifier', LinearSVC(C=10))])\n",
      "Лучшее значение метрики:  0.42948717948717946\n",
      "Лучшее значение параметров:  {'classifier__C': 10, 'preprocessor': NLTKPreprocessor(punct={'!', '\"', '#', '$', '%', '&', \"'\", '(', ')', '*', '+',\n",
      "                        ',', '-', '.', '/', ':', ';', '<', '=', '>', '?', '@',\n",
      "                        '[', '\\\\', ']', '^', '_', '`', '{', '|', ...}), 'preprocessor__stopwords': None, 'vectorizer': TfidfVectorizer(lowercase=False,\n",
      "                tokenizer=<function identity at 0x7f906d52d8c0>), 'vectorizer__ngram_range': (1, 1)}\n",
      "Evaluation model fit in 52.431 seconds\n",
      "Classification Report:\n",
      "\n",
      "              precision    recall  f1-score   support\n",
      "\n",
      "   not freud       0.82      0.93      0.87        30\n",
      "       freud       0.67      0.40      0.50        10\n",
      "\n",
      "    accuracy                           0.80        40\n",
      "   macro avg       0.75      0.67      0.69        40\n",
      "weighted avg       0.78      0.80      0.78        40\n",
      "\n",
      "Pipeline(steps=[('preprocessor',\n",
      "                 NLTKPreprocessor(punct={'!', '\"', '#', '$', '%', '&', \"'\", '(',\n",
      "                                         ')', '*', '+', ',', '-', '.', '/', ':',\n",
      "                                         ';', '<', '=', '>', '?', '@', '[',\n",
      "                                         '\\\\', ']', '^', '_', '`', '{', '|', ...})),\n",
      "                ('vectorizer',\n",
      "                 TfidfVectorizer(lowercase=False,\n",
      "                                 tokenizer=<function identity at 0x7f906d52d8c0>)),\n",
      "                ('classifier', LinearSVC(C=10))])\n"
     ]
    },
    {
     "data": {
      "text/plain": [
       "'============MultinomialNB============'"
      ]
     },
     "metadata": {},
     "output_type": "display_data"
    },
    {
     "name": "stdout",
     "output_type": "stream",
     "text": [
      "Fitting 4 folds for each of 32 candidates, totalling 128 fits\n"
     ]
    },
    {
     "name": "stderr",
     "output_type": "stream",
     "text": [
      "[Parallel(n_jobs=1)]: Using backend SequentialBackend with 1 concurrent workers.\n",
      "[Parallel(n_jobs=1)]: Done 128 out of 128 | elapsed:   13.0s finished\n"
     ]
    },
    {
     "data": {
      "text/plain": [
       "'Лучшая из построенных моделей:'"
      ]
     },
     "metadata": {},
     "output_type": "display_data"
    },
    {
     "name": "stdout",
     "output_type": "stream",
     "text": [
      "Лучшая модель:  Pipeline(steps=[('preprocessor', None),\n",
      "                ('vectorizer',\n",
      "                 CountVectorizer(stop_words=['i', 'me', 'my', 'myself', 'we',\n",
      "                                             'our', 'ours', 'ourselves', 'you',\n",
      "                                             \"you're\", \"you've\", \"you'll\",\n",
      "                                             \"you'd\", 'your', 'yours',\n",
      "                                             'yourself', 'yourselves', 'he',\n",
      "                                             'him', 'his', 'himself', 'she',\n",
      "                                             \"she's\", 'her', 'hers', 'herself',\n",
      "                                             'it', \"it's\", 'its', 'itself', ...])),\n",
      "                ('classifier', MultinomialNB())])\n",
      "Лучшее значение метрики:  0.3138888888888889\n",
      "Лучшее значение параметров:  {'preprocessor': None, 'vectorizer': CountVectorizer(stop_words=['i', 'me', 'my', 'myself', 'we', 'our', 'ours',\n",
      "                            'ourselves', 'you', \"you're\", \"you've\", \"you'll\",\n",
      "                            \"you'd\", 'your', 'yours', 'yourself', 'yourselves',\n",
      "                            'he', 'him', 'his', 'himself', 'she', \"she's\",\n",
      "                            'her', 'hers', 'herself', 'it', \"it's\", 'its',\n",
      "                            'itself', ...]), 'vectorizer__ngram_range': (1, 1), 'vectorizer__stop_words': ['i', 'me', 'my', 'myself', 'we', 'our', 'ours', 'ourselves', 'you', \"you're\", \"you've\", \"you'll\", \"you'd\", 'your', 'yours', 'yourself', 'yourselves', 'he', 'him', 'his', 'himself', 'she', \"she's\", 'her', 'hers', 'herself', 'it', \"it's\", 'its', 'itself', 'they', 'them', 'their', 'theirs', 'themselves', 'what', 'which', 'who', 'whom', 'this', 'that', \"that'll\", 'these', 'those', 'am', 'is', 'are', 'was', 'were', 'be', 'been', 'being', 'have', 'has', 'had', 'having', 'do', 'does', 'did', 'doing', 'a', 'an', 'the', 'and', 'but', 'if', 'or', 'because', 'as', 'until', 'while', 'of', 'at', 'by', 'for', 'with', 'about', 'against', 'between', 'into', 'through', 'during', 'before', 'after', 'above', 'below', 'to', 'from', 'up', 'down', 'in', 'out', 'on', 'off', 'over', 'under', 'again', 'further', 'then', 'once', 'here', 'there', 'when', 'where', 'why', 'how', 'all', 'any', 'both', 'each', 'few', 'more', 'most', 'other', 'some', 'such', 'no', 'nor', 'not', 'only', 'own', 'same', 'so', 'than', 'too', 'very', 's', 't', 'can', 'will', 'just', 'don', \"don't\", 'should', \"should've\", 'now', 'd', 'll', 'm', 'o', 're', 've', 'y', 'ain', 'aren', \"aren't\", 'couldn', \"couldn't\", 'didn', \"didn't\", 'doesn', \"doesn't\", 'hadn', \"hadn't\", 'hasn', \"hasn't\", 'haven', \"haven't\", 'isn', \"isn't\", 'ma', 'mightn', \"mightn't\", 'mustn', \"mustn't\", 'needn', \"needn't\", 'shan', \"shan't\", 'shouldn', \"shouldn't\", 'wasn', \"wasn't\", 'weren', \"weren't\", 'won', \"won't\", 'wouldn', \"wouldn't\"]}\n",
      "Evaluation model fit in 12.982 seconds\n",
      "Classification Report:\n",
      "\n",
      "              precision    recall  f1-score   support\n",
      "\n",
      "   not freud       0.76      0.93      0.84        30\n",
      "       freud       0.33      0.10      0.15        10\n",
      "\n",
      "    accuracy                           0.73        40\n",
      "   macro avg       0.55      0.52      0.49        40\n",
      "weighted avg       0.65      0.72      0.67        40\n",
      "\n",
      "Pipeline(steps=[('preprocessor', None),\n",
      "                ('vectorizer',\n",
      "                 CountVectorizer(stop_words=['i', 'me', 'my', 'myself', 'we',\n",
      "                                             'our', 'ours', 'ourselves', 'you',\n",
      "                                             \"you're\", \"you've\", \"you'll\",\n",
      "                                             \"you'd\", 'your', 'yours',\n",
      "                                             'yourself', 'yourselves', 'he',\n",
      "                                             'him', 'his', 'himself', 'she',\n",
      "                                             \"she's\", 'her', 'hers', 'herself',\n",
      "                                             'it', \"it's\", 'its', 'itself', ...])),\n",
      "                ('classifier', MultinomialNB())])\n"
     ]
    },
    {
     "data": {
      "text/plain": [
       "'============ComplementNB============'"
      ]
     },
     "metadata": {},
     "output_type": "display_data"
    },
    {
     "name": "stderr",
     "output_type": "stream",
     "text": [
      "[Parallel(n_jobs=1)]: Using backend SequentialBackend with 1 concurrent workers.\n"
     ]
    },
    {
     "name": "stdout",
     "output_type": "stream",
     "text": [
      "Fitting 4 folds for each of 32 candidates, totalling 128 fits\n"
     ]
    },
    {
     "name": "stderr",
     "output_type": "stream",
     "text": [
      "[Parallel(n_jobs=1)]: Done 128 out of 128 | elapsed:   12.9s finished\n"
     ]
    },
    {
     "data": {
      "text/plain": [
       "'Лучшая из построенных моделей:'"
      ]
     },
     "metadata": {},
     "output_type": "display_data"
    },
    {
     "name": "stdout",
     "output_type": "stream",
     "text": [
      "Лучшая модель:  Pipeline(steps=[('preprocessor',\n",
      "                 NLTKPreprocessor(punct={'!', '\"', '#', '$', '%', '&', \"'\", '(',\n",
      "                                         ')', '*', '+', ',', '-', '.', '/', ':',\n",
      "                                         ';', '<', '=', '>', '?', '@', '[',\n",
      "                                         '\\\\', ']', '^', '_', '`', '{', '|', ...})),\n",
      "                ('vectorizer',\n",
      "                 TfidfVectorizer(lowercase=False, ngram_range=(2, 3),\n",
      "                                 tokenizer=<function identity at 0x7f906d52d8c0>)),\n",
      "                ('classifier', ComplementNB())])\n",
      "Лучшее значение метрики:  0.4452380952380952\n",
      "Лучшее значение параметров:  {'preprocessor': NLTKPreprocessor(punct={'!', '\"', '#', '$', '%', '&', \"'\", '(', ')', '*', '+',\n",
      "                        ',', '-', '.', '/', ':', ';', '<', '=', '>', '?', '@',\n",
      "                        '[', '\\\\', ']', '^', '_', '`', '{', '|', ...}), 'preprocessor__stopwords': None, 'vectorizer': TfidfVectorizer(lowercase=False, ngram_range=(2, 3),\n",
      "                tokenizer=<function identity at 0x7f906d52d8c0>), 'vectorizer__ngram_range': (2, 3)}\n",
      "Evaluation model fit in 13.111 seconds\n",
      "Classification Report:\n",
      "\n",
      "              precision    recall  f1-score   support\n",
      "\n",
      "   not freud       0.80      0.93      0.86        30\n",
      "       freud       0.60      0.30      0.40        10\n",
      "\n",
      "    accuracy                           0.78        40\n",
      "   macro avg       0.70      0.62      0.63        40\n",
      "weighted avg       0.75      0.78      0.75        40\n",
      "\n",
      "Pipeline(steps=[('preprocessor',\n",
      "                 NLTKPreprocessor(punct={'!', '\"', '#', '$', '%', '&', \"'\", '(',\n",
      "                                         ')', '*', '+', ',', '-', '.', '/', ':',\n",
      "                                         ';', '<', '=', '>', '?', '@', '[',\n",
      "                                         '\\\\', ']', '^', '_', '`', '{', '|', ...})),\n",
      "                ('vectorizer',\n",
      "                 TfidfVectorizer(lowercase=False, ngram_range=(2, 3),\n",
      "                                 tokenizer=<function identity at 0x7f906d52d8c0>)),\n",
      "                ('classifier', ComplementNB())])\n"
     ]
    },
    {
     "data": {
      "text/plain": [
       "'============BernoulliNB============'"
      ]
     },
     "metadata": {},
     "output_type": "display_data"
    },
    {
     "name": "stdout",
     "output_type": "stream",
     "text": [
      "Fitting 4 folds for each of 32 candidates, totalling 128 fits\n"
     ]
    },
    {
     "name": "stderr",
     "output_type": "stream",
     "text": [
      "[Parallel(n_jobs=1)]: Using backend SequentialBackend with 1 concurrent workers.\n",
      "[Parallel(n_jobs=1)]: Done 128 out of 128 | elapsed:   12.8s finished\n"
     ]
    },
    {
     "data": {
      "text/plain": [
       "'Лучшая из построенных моделей:'"
      ]
     },
     "metadata": {},
     "output_type": "display_data"
    },
    {
     "name": "stdout",
     "output_type": "stream",
     "text": [
      "Лучшая модель:  Pipeline(steps=[('preprocessor', None),\n",
      "                ('vectorizer', CountVectorizer(binary=True)),\n",
      "                ('classifier', BernoulliNB())])\n",
      "Лучшее значение метрики:  0.0\n",
      "Лучшее значение параметров:  {'preprocessor': None, 'vectorizer': CountVectorizer(binary=True), 'vectorizer__ngram_range': (1, 1), 'vectorizer__stop_words': None}\n",
      "Evaluation model fit in 12.805 seconds\n",
      "Classification Report:\n",
      "\n",
      "              precision    recall  f1-score   support\n",
      "\n",
      "   not freud       0.75      1.00      0.86        30\n",
      "       freud       0.00      0.00      0.00        10\n",
      "\n",
      "    accuracy                           0.75        40\n",
      "   macro avg       0.38      0.50      0.43        40\n",
      "weighted avg       0.56      0.75      0.64        40\n",
      "\n",
      "Pipeline(steps=[('preprocessor', None),\n",
      "                ('vectorizer', CountVectorizer(binary=True)),\n",
      "                ('classifier', BernoulliNB())])\n"
     ]
    },
    {
     "name": "stderr",
     "output_type": "stream",
     "text": [
      "/opt/conda/lib/python3.7/site-packages/sklearn/metrics/_classification.py:1221: UndefinedMetricWarning: Precision and F-score are ill-defined and being set to 0.0 in labels with no predicted samples. Use `zero_division` parameter to control this behavior.\n",
      "  _warn_prf(average, modifier, msg_start, len(result))\n"
     ]
    }
   ],
   "source": [
    "# Поиск лучших моделей для бинарной классификации\n",
    "best_binary_models = build_models('quote','freud',binary_names,'f1')"
   ]
  },
  {
   "cell_type": "code",
   "execution_count": 28,
   "metadata": {},
   "outputs": [
    {
     "data": {
      "text/plain": [
       "'============DecisionTreeClassifier============'"
      ]
     },
     "metadata": {},
     "output_type": "display_data"
    },
    {
     "name": "stderr",
     "output_type": "stream",
     "text": [
      "[Parallel(n_jobs=1)]: Using backend SequentialBackend with 1 concurrent workers.\n"
     ]
    },
    {
     "name": "stdout",
     "output_type": "stream",
     "text": [
      "Fitting 4 folds for each of 256 candidates, totalling 1024 fits\n"
     ]
    },
    {
     "name": "stderr",
     "output_type": "stream",
     "text": [
      "[Parallel(n_jobs=1)]: Done 1024 out of 1024 | elapsed:  1.7min finished\n"
     ]
    },
    {
     "data": {
      "text/plain": [
       "'Лучшая из построенных моделей:'"
      ]
     },
     "metadata": {},
     "output_type": "display_data"
    },
    {
     "name": "stdout",
     "output_type": "stream",
     "text": [
      "Лучшая модель:  Pipeline(steps=[('preprocessor',\n",
      "                 NLTKPreprocessor(punct={'!', '\"', '#', '$', '%', '&', \"'\", '(',\n",
      "                                         ')', '*', '+', ',', '-', '.', '/', ':',\n",
      "                                         ';', '<', '=', '>', '?', '@', '[',\n",
      "                                         '\\\\', ']', '^', '_', '`', '{', '|', ...})),\n",
      "                ('vectorizer',\n",
      "                 CountVectorizer(lowercase=False, ngram_range=(1, 2),\n",
      "                                 tokenizer=<function identity at 0x7f906d52d8c0>)),\n",
      "                ('classifier',\n",
      "                 DecisionTreeClassifier(max_depth=5, max_features=0.5,\n",
      "                                        min_samples_leaf=5))])\n",
      "Лучшее значение метрики:  0.4916666666666667\n",
      "Лучшее значение параметров:  {'classifier__max_depth': 5, 'classifier__max_features': 0.5, 'classifier__min_samples_leaf': 5, 'preprocessor': NLTKPreprocessor(punct={'!', '\"', '#', '$', '%', '&', \"'\", '(', ')', '*', '+',\n",
      "                        ',', '-', '.', '/', ':', ';', '<', '=', '>', '?', '@',\n",
      "                        '[', '\\\\', ']', '^', '_', '`', '{', '|', ...}), 'preprocessor__stopwords': None, 'vectorizer': CountVectorizer(lowercase=False, ngram_range=(1, 2),\n",
      "                tokenizer=<function identity at 0x7f906d52d8c0>), 'vectorizer__ngram_range': (1, 2)}\n",
      "Evaluation model fit in 103.431 seconds\n",
      "Classification Report:\n",
      "\n",
      "              precision    recall  f1-score   support\n",
      "\n",
      "     Angelou       0.20      0.10      0.13        10\n",
      "      Austen       0.40      0.20      0.27        10\n",
      "       Freud       0.36      0.80      0.50        10\n",
      "       Twain       0.50      0.40      0.44        10\n",
      "\n",
      "    accuracy                           0.38        40\n",
      "   macro avg       0.37      0.38      0.34        40\n",
      "weighted avg       0.37      0.38      0.34        40\n",
      "\n",
      "Pipeline(steps=[('preprocessor',\n",
      "                 NLTKPreprocessor(punct={'!', '\"', '#', '$', '%', '&', \"'\", '(',\n",
      "                                         ')', '*', '+', ',', '-', '.', '/', ':',\n",
      "                                         ';', '<', '=', '>', '?', '@', '[',\n",
      "                                         '\\\\', ']', '^', '_', '`', '{', '|', ...})),\n",
      "                ('vectorizer',\n",
      "                 CountVectorizer(lowercase=False, ngram_range=(1, 2),\n",
      "                                 tokenizer=<function identity at 0x7f906d52d8c0>)),\n",
      "                ('classifier',\n",
      "                 DecisionTreeClassifier(max_depth=5, max_features=0.5,\n",
      "                                        min_samples_leaf=5))])\n"
     ]
    },
    {
     "data": {
      "text/plain": [
       "'============LogisticRegression============'"
      ]
     },
     "metadata": {},
     "output_type": "display_data"
    },
    {
     "name": "stdout",
     "output_type": "stream",
     "text": [
      "Fitting 4 folds for each of 128 candidates, totalling 512 fits\n"
     ]
    },
    {
     "name": "stderr",
     "output_type": "stream",
     "text": [
      "[Parallel(n_jobs=1)]: Using backend SequentialBackend with 1 concurrent workers.\n",
      "[Parallel(n_jobs=1)]: Done 512 out of 512 | elapsed:  1.2min finished\n"
     ]
    },
    {
     "data": {
      "text/plain": [
       "'Лучшая из построенных моделей:'"
      ]
     },
     "metadata": {},
     "output_type": "display_data"
    },
    {
     "name": "stdout",
     "output_type": "stream",
     "text": [
      "Лучшая модель:  Pipeline(steps=[('preprocessor',\n",
      "                 NLTKPreprocessor(punct={'!', '\"', '#', '$', '%', '&', \"'\", '(',\n",
      "                                         ')', '*', '+', ',', '-', '.', '/', ':',\n",
      "                                         ';', '<', '=', '>', '?', '@', '[',\n",
      "                                         '\\\\', ']', '^', '_', '`', '{', '|', ...})),\n",
      "                ('vectorizer',\n",
      "                 TfidfVectorizer(lowercase=False, ngram_range=(1, 3),\n",
      "                                 tokenizer=<function identity at 0x7f906d52d8c0>)),\n",
      "                ('classifier', LogisticRegression(C=5))])\n",
      "Лучшее значение метрики:  0.5166666666666666\n",
      "Лучшее значение параметров:  {'classifier__C': 5, 'preprocessor': NLTKPreprocessor(punct={'!', '\"', '#', '$', '%', '&', \"'\", '(', ')', '*', '+',\n",
      "                        ',', '-', '.', '/', ':', ';', '<', '=', '>', '?', '@',\n",
      "                        '[', '\\\\', ']', '^', '_', '`', '{', '|', ...}), 'preprocessor__stopwords': None, 'vectorizer': TfidfVectorizer(lowercase=False, ngram_range=(1, 3),\n",
      "                tokenizer=<function identity at 0x7f906d52d8c0>), 'vectorizer__ngram_range': (1, 3)}\n",
      "Evaluation model fit in 70.773 seconds\n",
      "Classification Report:\n",
      "\n",
      "              precision    recall  f1-score   support\n",
      "\n",
      "     Angelou       0.50      0.30      0.37        10\n",
      "      Austen       0.46      0.60      0.52        10\n",
      "       Freud       0.56      0.50      0.53        10\n",
      "       Twain       0.33      0.40      0.36        10\n",
      "\n",
      "    accuracy                           0.45        40\n",
      "   macro avg       0.46      0.45      0.45        40\n",
      "weighted avg       0.46      0.45      0.45        40\n",
      "\n",
      "Pipeline(steps=[('preprocessor',\n",
      "                 NLTKPreprocessor(punct={'!', '\"', '#', '$', '%', '&', \"'\", '(',\n",
      "                                         ')', '*', '+', ',', '-', '.', '/', ':',\n",
      "                                         ';', '<', '=', '>', '?', '@', '[',\n",
      "                                         '\\\\', ']', '^', '_', '`', '{', '|', ...})),\n",
      "                ('vectorizer',\n",
      "                 TfidfVectorizer(lowercase=False, ngram_range=(1, 3),\n",
      "                                 tokenizer=<function identity at 0x7f906d52d8c0>)),\n",
      "                ('classifier', LogisticRegression(C=5))])\n"
     ]
    },
    {
     "data": {
      "text/plain": [
       "'============LinearSVC============'"
      ]
     },
     "metadata": {},
     "output_type": "display_data"
    },
    {
     "name": "stdout",
     "output_type": "stream",
     "text": [
      "Fitting 4 folds for each of 128 candidates, totalling 512 fits\n"
     ]
    },
    {
     "name": "stderr",
     "output_type": "stream",
     "text": [
      "[Parallel(n_jobs=1)]: Using backend SequentialBackend with 1 concurrent workers.\n",
      "[Parallel(n_jobs=1)]: Done 512 out of 512 | elapsed:   57.2s finished\n"
     ]
    },
    {
     "data": {
      "text/plain": [
       "'Лучшая из построенных моделей:'"
      ]
     },
     "metadata": {},
     "output_type": "display_data"
    },
    {
     "name": "stdout",
     "output_type": "stream",
     "text": [
      "Лучшая модель:  Pipeline(steps=[('preprocessor',\n",
      "                 NLTKPreprocessor(punct={'!', '\"', '#', '$', '%', '&', \"'\", '(',\n",
      "                                         ')', '*', '+', ',', '-', '.', '/', ':',\n",
      "                                         ';', '<', '=', '>', '?', '@', '[',\n",
      "                                         '\\\\', ']', '^', '_', '`', '{', '|', ...})),\n",
      "                ('vectorizer',\n",
      "                 TfidfVectorizer(lowercase=False, ngram_range=(2, 3),\n",
      "                                 tokenizer=<function identity at 0x7f906d52d8c0>)),\n",
      "                ('classifier', LinearSVC(C=10))])\n",
      "Лучшее значение метрики:  0.5249999999999999\n",
      "Лучшее значение параметров:  {'classifier__C': 10, 'preprocessor': NLTKPreprocessor(punct={'!', '\"', '#', '$', '%', '&', \"'\", '(', ')', '*', '+',\n",
      "                        ',', '-', '.', '/', ':', ';', '<', '=', '>', '?', '@',\n",
      "                        '[', '\\\\', ']', '^', '_', '`', '{', '|', ...}), 'preprocessor__stopwords': None, 'vectorizer': TfidfVectorizer(lowercase=False, ngram_range=(2, 3),\n",
      "                tokenizer=<function identity at 0x7f906d52d8c0>), 'vectorizer__ngram_range': (2, 3)}\n",
      "Evaluation model fit in 57.471 seconds\n",
      "Classification Report:\n",
      "\n",
      "              precision    recall  f1-score   support\n",
      "\n",
      "     Angelou       0.40      0.40      0.40        10\n",
      "      Austen       0.57      0.80      0.67        10\n",
      "       Freud       0.62      0.50      0.56        10\n",
      "       Twain       0.38      0.30      0.33        10\n",
      "\n",
      "    accuracy                           0.50        40\n",
      "   macro avg       0.49      0.50      0.49        40\n",
      "weighted avg       0.49      0.50      0.49        40\n",
      "\n",
      "Pipeline(steps=[('preprocessor',\n",
      "                 NLTKPreprocessor(punct={'!', '\"', '#', '$', '%', '&', \"'\", '(',\n",
      "                                         ')', '*', '+', ',', '-', '.', '/', ':',\n",
      "                                         ';', '<', '=', '>', '?', '@', '[',\n",
      "                                         '\\\\', ']', '^', '_', '`', '{', '|', ...})),\n",
      "                ('vectorizer',\n",
      "                 TfidfVectorizer(lowercase=False, ngram_range=(2, 3),\n",
      "                                 tokenizer=<function identity at 0x7f906d52d8c0>)),\n",
      "                ('classifier', LinearSVC(C=10))])\n"
     ]
    },
    {
     "data": {
      "text/plain": [
       "'============MultinomialNB============'"
      ]
     },
     "metadata": {},
     "output_type": "display_data"
    },
    {
     "name": "stdout",
     "output_type": "stream",
     "text": [
      "Fitting 4 folds for each of 32 candidates, totalling 128 fits\n"
     ]
    },
    {
     "name": "stderr",
     "output_type": "stream",
     "text": [
      "[Parallel(n_jobs=1)]: Using backend SequentialBackend with 1 concurrent workers.\n",
      "[Parallel(n_jobs=1)]: Done 128 out of 128 | elapsed:   12.6s finished\n"
     ]
    },
    {
     "data": {
      "text/plain": [
       "'Лучшая из построенных моделей:'"
      ]
     },
     "metadata": {},
     "output_type": "display_data"
    },
    {
     "name": "stdout",
     "output_type": "stream",
     "text": [
      "Лучшая модель:  Pipeline(steps=[('preprocessor',\n",
      "                 NLTKPreprocessor(punct={'!', '\"', '#', '$', '%', '&', \"'\", '(',\n",
      "                                         ')', '*', '+', ',', '-', '.', '/', ':',\n",
      "                                         ';', '<', '=', '>', '?', '@', '[',\n",
      "                                         '\\\\', ']', '^', '_', '`', '{', '|', ...})),\n",
      "                ('vectorizer',\n",
      "                 TfidfVectorizer(lowercase=False, ngram_range=(1, 2),\n",
      "                                 tokenizer=<function identity at 0x7f906d52d8c0>)),\n",
      "                ('classifier', MultinomialNB())])\n",
      "Лучшее значение метрики:  0.48333333333333334\n",
      "Лучшее значение параметров:  {'preprocessor': NLTKPreprocessor(punct={'!', '\"', '#', '$', '%', '&', \"'\", '(', ')', '*', '+',\n",
      "                        ',', '-', '.', '/', ':', ';', '<', '=', '>', '?', '@',\n",
      "                        '[', '\\\\', ']', '^', '_', '`', '{', '|', ...}), 'preprocessor__stopwords': None, 'vectorizer': TfidfVectorizer(lowercase=False, ngram_range=(1, 2),\n",
      "                tokenizer=<function identity at 0x7f906d52d8c0>), 'vectorizer__ngram_range': (1, 2)}\n",
      "Evaluation model fit in 12.827 seconds\n",
      "Classification Report:\n",
      "\n",
      "              precision    recall  f1-score   support\n",
      "\n",
      "     Angelou       0.36      0.40      0.38        10\n",
      "      Austen       0.50      0.80      0.62        10\n",
      "       Freud       0.57      0.40      0.47        10\n",
      "       Twain       0.17      0.10      0.12        10\n",
      "\n",
      "    accuracy                           0.42        40\n",
      "   macro avg       0.40      0.43      0.40        40\n",
      "weighted avg       0.40      0.42      0.40        40\n",
      "\n",
      "Pipeline(steps=[('preprocessor',\n",
      "                 NLTKPreprocessor(punct={'!', '\"', '#', '$', '%', '&', \"'\", '(',\n",
      "                                         ')', '*', '+', ',', '-', '.', '/', ':',\n",
      "                                         ';', '<', '=', '>', '?', '@', '[',\n",
      "                                         '\\\\', ']', '^', '_', '`', '{', '|', ...})),\n",
      "                ('vectorizer',\n",
      "                 TfidfVectorizer(lowercase=False, ngram_range=(1, 2),\n",
      "                                 tokenizer=<function identity at 0x7f906d52d8c0>)),\n",
      "                ('classifier', MultinomialNB())])\n"
     ]
    },
    {
     "data": {
      "text/plain": [
       "'============ComplementNB============'"
      ]
     },
     "metadata": {},
     "output_type": "display_data"
    },
    {
     "name": "stdout",
     "output_type": "stream",
     "text": [
      "Fitting 4 folds for each of 32 candidates, totalling 128 fits\n"
     ]
    },
    {
     "name": "stderr",
     "output_type": "stream",
     "text": [
      "[Parallel(n_jobs=1)]: Using backend SequentialBackend with 1 concurrent workers.\n",
      "[Parallel(n_jobs=1)]: Done 128 out of 128 | elapsed:   12.6s finished\n"
     ]
    },
    {
     "data": {
      "text/plain": [
       "'Лучшая из построенных моделей:'"
      ]
     },
     "metadata": {},
     "output_type": "display_data"
    },
    {
     "name": "stdout",
     "output_type": "stream",
     "text": [
      "Лучшая модель:  Pipeline(steps=[('preprocessor',\n",
      "                 NLTKPreprocessor(punct={'!', '\"', '#', '$', '%', '&', \"'\", '(',\n",
      "                                         ')', '*', '+', ',', '-', '.', '/', ':',\n",
      "                                         ';', '<', '=', '>', '?', '@', '[',\n",
      "                                         '\\\\', ']', '^', '_', '`', '{', '|', ...})),\n",
      "                ('vectorizer',\n",
      "                 TfidfVectorizer(lowercase=False, ngram_range=(1, 2),\n",
      "                                 tokenizer=<function identity at 0x7f906d52d8c0>)),\n",
      "                ('classifier', ComplementNB())])\n",
      "Лучшее значение метрики:  0.525\n",
      "Лучшее значение параметров:  {'preprocessor': NLTKPreprocessor(punct={'!', '\"', '#', '$', '%', '&', \"'\", '(', ')', '*', '+',\n",
      "                        ',', '-', '.', '/', ':', ';', '<', '=', '>', '?', '@',\n",
      "                        '[', '\\\\', ']', '^', '_', '`', '{', '|', ...}), 'preprocessor__stopwords': None, 'vectorizer': TfidfVectorizer(lowercase=False, ngram_range=(1, 2),\n",
      "                tokenizer=<function identity at 0x7f906d52d8c0>), 'vectorizer__ngram_range': (1, 2)}\n",
      "Evaluation model fit in 12.848 seconds\n",
      "Classification Report:\n",
      "\n",
      "              precision    recall  f1-score   support\n",
      "\n",
      "     Angelou       0.33      0.40      0.36        10\n",
      "      Austen       0.57      0.80      0.67        10\n",
      "       Freud       0.57      0.40      0.47        10\n",
      "       Twain       0.29      0.20      0.24        10\n",
      "\n",
      "    accuracy                           0.45        40\n",
      "   macro avg       0.44      0.45      0.43        40\n",
      "weighted avg       0.44      0.45      0.43        40\n",
      "\n",
      "Pipeline(steps=[('preprocessor',\n",
      "                 NLTKPreprocessor(punct={'!', '\"', '#', '$', '%', '&', \"'\", '(',\n",
      "                                         ')', '*', '+', ',', '-', '.', '/', ':',\n",
      "                                         ';', '<', '=', '>', '?', '@', '[',\n",
      "                                         '\\\\', ']', '^', '_', '`', '{', '|', ...})),\n",
      "                ('vectorizer',\n",
      "                 TfidfVectorizer(lowercase=False, ngram_range=(1, 2),\n",
      "                                 tokenizer=<function identity at 0x7f906d52d8c0>)),\n",
      "                ('classifier', ComplementNB())])\n"
     ]
    },
    {
     "data": {
      "text/plain": [
       "'============BernoulliNB============'"
      ]
     },
     "metadata": {},
     "output_type": "display_data"
    },
    {
     "name": "stdout",
     "output_type": "stream",
     "text": [
      "Fitting 4 folds for each of 32 candidates, totalling 128 fits\n"
     ]
    },
    {
     "name": "stderr",
     "output_type": "stream",
     "text": [
      "[Parallel(n_jobs=1)]: Using backend SequentialBackend with 1 concurrent workers.\n",
      "[Parallel(n_jobs=1)]: Done 128 out of 128 | elapsed:   13.1s finished\n"
     ]
    },
    {
     "data": {
      "text/plain": [
       "'Лучшая из построенных моделей:'"
      ]
     },
     "metadata": {},
     "output_type": "display_data"
    },
    {
     "name": "stdout",
     "output_type": "stream",
     "text": [
      "Лучшая модель:  Pipeline(steps=[('preprocessor',\n",
      "                 NLTKPreprocessor(punct={'!', '\"', '#', '$', '%', '&', \"'\", '(',\n",
      "                                         ')', '*', '+', ',', '-', '.', '/', ':',\n",
      "                                         ';', '<', '=', '>', '?', '@', '[',\n",
      "                                         '\\\\', ']', '^', '_', '`', '{', '|', ...})),\n",
      "                ('vectorizer',\n",
      "                 CountVectorizer(binary=True, lowercase=False,\n",
      "                                 tokenizer=<function identity at 0x7f906d52d8c0>)),\n",
      "                ('classifier', BernoulliNB())])\n",
      "Лучшее значение метрики:  0.45\n",
      "Лучшее значение параметров:  {'preprocessor': NLTKPreprocessor(punct={'!', '\"', '#', '$', '%', '&', \"'\", '(', ')', '*', '+',\n",
      "                        ',', '-', '.', '/', ':', ';', '<', '=', '>', '?', '@',\n",
      "                        '[', '\\\\', ']', '^', '_', '`', '{', '|', ...}), 'preprocessor__stopwords': None, 'vectorizer': CountVectorizer(binary=True, lowercase=False,\n",
      "                tokenizer=<function identity at 0x7f906d52d8c0>), 'vectorizer__ngram_range': (1, 1)}\n",
      "Evaluation model fit in 13.276 seconds\n",
      "Classification Report:\n",
      "\n",
      "              precision    recall  f1-score   support\n",
      "\n",
      "     Angelou       0.38      0.30      0.33        10\n",
      "      Austen       0.44      0.40      0.42        10\n",
      "       Freud       1.00      0.20      0.33        10\n",
      "       Twain       0.38      0.80      0.52        10\n",
      "\n",
      "    accuracy                           0.42        40\n",
      "   macro avg       0.55      0.42      0.40        40\n",
      "weighted avg       0.55      0.42      0.40        40\n",
      "\n",
      "Pipeline(steps=[('preprocessor',\n",
      "                 NLTKPreprocessor(punct={'!', '\"', '#', '$', '%', '&', \"'\", '(',\n",
      "                                         ')', '*', '+', ',', '-', '.', '/', ':',\n",
      "                                         ';', '<', '=', '>', '?', '@', '[',\n",
      "                                         '\\\\', ']', '^', '_', '`', '{', '|', ...})),\n",
      "                ('vectorizer',\n",
      "                 CountVectorizer(binary=True, lowercase=False,\n",
      "                                 tokenizer=<function identity at 0x7f906d52d8c0>)),\n",
      "                ('classifier', BernoulliNB())])\n"
     ]
    }
   ],
   "source": [
    "# Поиск лучших моделей для мультиклассовой классификации\n",
    "best_multi_models = build_models('quote','author',multiclass_names,'accuracy')"
   ]
  },
  {
   "cell_type": "markdown",
   "metadata": {},
   "source": [
    "# 7. Сравнение моделей\n",
    "Для сравнения лучших моделей используется метрика accuracy, которая применяется как для всего целевого признака, так и по каждому классу отдельно.\n",
    "\n",
    "Реализованы функции вывода этой метрики для сравнения моделей."
   ]
  },
  {
   "cell_type": "code",
   "execution_count": 30,
   "metadata": {},
   "outputs": [],
   "source": [
    "from typing import Dict\n",
    "def accuracy_score_for_classes(\n",
    "    y_true: np.ndarray, \n",
    "    y_pred: np.ndarray) -> Dict[int, float]:\n",
    "    \"\"\"\n",
    "    Вычисление метрики accuracy для каждого класса\n",
    "    y_true - истинные значения классов\n",
    "    y_pred - предсказанные значения классов\n",
    "    Возвращает словарь: ключ - метка класса, \n",
    "    значение - Accuracy для данного класса\n",
    "    \"\"\"\n",
    "    # Для удобства фильтрации сформируем Pandas DataFrame \n",
    "    d = {'t': y_true, 'p': y_pred}\n",
    "    df = pd.DataFrame(data=d)\n",
    "    # Метки классов\n",
    "    classes = np.unique(y_true)\n",
    "    # Результирующий словарь\n",
    "    res = dict()\n",
    "    # Перебор меток классов\n",
    "    for c in classes:\n",
    "        # отфильтруем данные, которые соответствуют \n",
    "        # текущей метке класса в истинных значениях\n",
    "        temp_data_flt = df[df['t']==c]\n",
    "        # расчет accuracy для заданной метки класса\n",
    "        temp_acc = accuracy_score(\n",
    "            temp_data_flt['t'].values, \n",
    "            temp_data_flt['p'].values)\n",
    "        # сохранение результата в словарь\n",
    "        res[c] = temp_acc\n",
    "    return res\n",
    "\n",
    "def print_accuracy_score_for_classes(\n",
    "    y_true: np.ndarray, \n",
    "    y_pred: np.ndarray):\n",
    "    \"\"\"\n",
    "    Вывод метрики accuracy для каждого класса\n",
    "    \"\"\"\n",
    "    accs = accuracy_score_for_classes(y_true, y_pred)\n",
    "    for i in accs:\n",
    "        print('accuracy, класс {}: {}'.format(i, accs[i]))\n",
    "    return accs"
   ]
  },
  {
   "cell_type": "code",
   "execution_count": 31,
   "metadata": {},
   "outputs": [],
   "source": [
    "# Вывод значения accuracy для тестового набора и классов\n",
    "def print_accuracy_scores(y_train,y_test, predict_y_test,target_names):\n",
    "    # Качество для тестового набора\n",
    "    test_score = accuracy_score(y_test, predict_y_test)\n",
    "    print('accuracy, тестовая выборка: ', test_score)\n",
    "    accuracy_scores = {}\n",
    "    accuracy_scores['accuracy'] = test_score\n",
    "    accs = accuracy_score_for_classes(y_test, predict_y_test)\n",
    "    class_accuracy = dict(zip(target_names, list(accs.values())))\n",
    "    for i in class_accuracy:\n",
    "        print('accuracy, класс {}: {}'.format(i, class_accuracy[i]))\n",
    "    accuracy_scores.update(class_accuracy)\n",
    "    return accuracy_scores\n",
    "        \n",
    "# Обучение модели и вычисление целевого признака\n",
    "def fit_predict(estimator, X_train, X_test, y_train):\n",
    "    estimator.fit(X_train, y_train)\n",
    "    target_test = estimator.predict(X_test)\n",
    "    return target_test\n",
    "# Рассчет accuracy для модели\n",
    "def print_model_accuracy(estimator, X_col, y_col,target_names):\n",
    "    X_train = freud_train[X_col]\n",
    "    X_test = freud_test[X_col]\n",
    "    y_train = freud_train[y_col]\n",
    "    y_test = freud_test[y_col]\n",
    "    target_test = fit_predict(estimator,X_train,X_test,y_train)\n",
    "    accuracy_scores = print_accuracy_scores(y_train,y_test,target_test,target_names)\n",
    "    return accuracy_scores"
   ]
  },
  {
   "cell_type": "code",
   "execution_count": 32,
   "metadata": {},
   "outputs": [],
   "source": [
    "# Функция получения accuracy для перечня моделей\n",
    "def print_models_accuracy(X_col,y_col,target_names,best_models):\n",
    "    model_stats = []\n",
    "    for model in best_models:\n",
    "        print(model['model_name'])\n",
    "        accuracy_scores = print_model_accuracy(model['best_model'],X_col,y_col,target_names)\n",
    "        model_stat = {}\n",
    "        model_stat['model_name']=model['model_name']\n",
    "        model_stat.update({str(key): value for key, value in accuracy_scores.items()})\n",
    "        model_stats.append(model_stat)\n",
    "    return model_stats"
   ]
  },
  {
   "cell_type": "code",
   "execution_count": 33,
   "metadata": {},
   "outputs": [
    {
     "name": "stdout",
     "output_type": "stream",
     "text": [
      "DecisionTreeClassifier\n",
      "accuracy, тестовая выборка:  0.75\n",
      "accuracy, класс not freud: 0.9333333333333333\n",
      "accuracy, класс freud: 0.2\n",
      "LogisticRegression\n",
      "accuracy, тестовая выборка:  0.75\n",
      "accuracy, класс not freud: 0.9333333333333333\n",
      "accuracy, класс freud: 0.2\n",
      "LinearSVC\n",
      "accuracy, тестовая выборка:  0.8\n",
      "accuracy, класс not freud: 0.9333333333333333\n",
      "accuracy, класс freud: 0.4\n",
      "MultinomialNB\n",
      "accuracy, тестовая выборка:  0.725\n",
      "accuracy, класс not freud: 0.9333333333333333\n",
      "accuracy, класс freud: 0.1\n",
      "ComplementNB\n",
      "accuracy, тестовая выборка:  0.775\n",
      "accuracy, класс not freud: 0.9333333333333333\n",
      "accuracy, класс freud: 0.3\n",
      "BernoulliNB\n",
      "accuracy, тестовая выборка:  0.75\n",
      "accuracy, класс not freud: 1.0\n",
      "accuracy, класс freud: 0.0\n"
     ]
    }
   ],
   "source": [
    "# Получение accuracy для лучших моделей бинарной классификации\n",
    "binary_model_stats = print_models_accuracy('quote','freud',binary_names,best_binary_models)\n",
    "#model_stats"
   ]
  },
  {
   "cell_type": "code",
   "execution_count": 34,
   "metadata": {},
   "outputs": [],
   "source": [
    "#Функция соединения словарей в один, значения каждого ключа в виде листов\n",
    "def dict_zip(*dicts):\n",
    "    return {k: [d[k] for d in dicts] for k in dicts[0].keys()}"
   ]
  },
  {
   "cell_type": "code",
   "execution_count": 39,
   "metadata": {},
   "outputs": [],
   "source": [
    "# Вывод графиков для сравнения моделей\n",
    "def print_models_plots(*stats):\n",
    "    zip_model_data = dict_zip(*stats)\n",
    "    df = pd.DataFrame(zip_model_data,index=zip_model_data['model_name'])\n",
    "    display(df)\n",
    "    df_plot = df.transpose().drop('model_name')\n",
    "    # Выводим отдельные диаграммы для каждой оценки\n",
    "    ax = df_plot.iloc[0,:].plot(kind='barh',title=df_plot.index.values[0],figsize=(4,4))\n",
    "    for i in ax.patches:\n",
    "        # get_width pulls left or right; get_y pushes up or down\n",
    "        ax.text(0, i.get_y()+0.2, \\\n",
    "        str(round(i.get_width(), 4)), fontsize=8, color='white',weight = 'bold')\n",
    "    ax.legend(bbox_to_anchor=(1.1, 1.05))\n",
    "    \n",
    "    ax = df_plot.iloc[1:,:].plot(kind='bar',figsize=(10,6),width=0.6)\n",
    "    # set individual bar lables using above list\n",
    "    for i in ax.patches:\n",
    "        # get_x pulls left or right; get_height pushes up or down\n",
    "        ax.text(i.get_x(), i.get_height()+0.001, \\\n",
    "                str(round(i.get_height()*0.9, 2)), fontsize=5,\n",
    "                color='#323232',weight = 'bold')\n",
    "    ax.legend(bbox_to_anchor=(1.1, 1.05))"
   ]
  },
  {
   "cell_type": "markdown",
   "metadata": {},
   "source": [
    "# 8. Анализ моделей\n",
    "Сравним модели используя таблицы и столбчатые диаграммы."
   ]
  },
  {
   "cell_type": "markdown",
   "metadata": {},
   "source": [
    "# 8.1 Бинарная классификация"
   ]
  },
  {
   "cell_type": "code",
   "execution_count": 40,
   "metadata": {},
   "outputs": [
    {
     "data": {
      "text/html": [
       "<div>\n",
       "<style scoped>\n",
       "    .dataframe tbody tr th:only-of-type {\n",
       "        vertical-align: middle;\n",
       "    }\n",
       "\n",
       "    .dataframe tbody tr th {\n",
       "        vertical-align: top;\n",
       "    }\n",
       "\n",
       "    .dataframe thead th {\n",
       "        text-align: right;\n",
       "    }\n",
       "</style>\n",
       "<table border=\"1\" class=\"dataframe\">\n",
       "  <thead>\n",
       "    <tr style=\"text-align: right;\">\n",
       "      <th></th>\n",
       "      <th>model_name</th>\n",
       "      <th>accuracy</th>\n",
       "      <th>not freud</th>\n",
       "      <th>freud</th>\n",
       "    </tr>\n",
       "  </thead>\n",
       "  <tbody>\n",
       "    <tr>\n",
       "      <th>DecisionTreeClassifier</th>\n",
       "      <td>DecisionTreeClassifier</td>\n",
       "      <td>0.750</td>\n",
       "      <td>0.933333</td>\n",
       "      <td>0.2</td>\n",
       "    </tr>\n",
       "    <tr>\n",
       "      <th>LogisticRegression</th>\n",
       "      <td>LogisticRegression</td>\n",
       "      <td>0.750</td>\n",
       "      <td>0.933333</td>\n",
       "      <td>0.2</td>\n",
       "    </tr>\n",
       "    <tr>\n",
       "      <th>LinearSVC</th>\n",
       "      <td>LinearSVC</td>\n",
       "      <td>0.800</td>\n",
       "      <td>0.933333</td>\n",
       "      <td>0.4</td>\n",
       "    </tr>\n",
       "    <tr>\n",
       "      <th>MultinomialNB</th>\n",
       "      <td>MultinomialNB</td>\n",
       "      <td>0.725</td>\n",
       "      <td>0.933333</td>\n",
       "      <td>0.1</td>\n",
       "    </tr>\n",
       "    <tr>\n",
       "      <th>ComplementNB</th>\n",
       "      <td>ComplementNB</td>\n",
       "      <td>0.775</td>\n",
       "      <td>0.933333</td>\n",
       "      <td>0.3</td>\n",
       "    </tr>\n",
       "    <tr>\n",
       "      <th>BernoulliNB</th>\n",
       "      <td>BernoulliNB</td>\n",
       "      <td>0.750</td>\n",
       "      <td>1.000000</td>\n",
       "      <td>0.0</td>\n",
       "    </tr>\n",
       "  </tbody>\n",
       "</table>\n",
       "</div>"
      ],
      "text/plain": [
       "                                    model_name  accuracy  not freud  freud\n",
       "DecisionTreeClassifier  DecisionTreeClassifier     0.750   0.933333    0.2\n",
       "LogisticRegression          LogisticRegression     0.750   0.933333    0.2\n",
       "LinearSVC                            LinearSVC     0.800   0.933333    0.4\n",
       "MultinomialNB                    MultinomialNB     0.725   0.933333    0.1\n",
       "ComplementNB                      ComplementNB     0.775   0.933333    0.3\n",
       "BernoulliNB                        BernoulliNB     0.750   1.000000    0.0"
      ]
     },
     "metadata": {},
     "output_type": "display_data"
    },
    {
     "data": {
      "image/png": "[encoded data removed]",
      "text/plain": [
       "<Figure size 600x600 with 1 Axes>"
      ]
     },
     "metadata": {},
     "output_type": "display_data"
    },
    {
     "data": {
      "image/png": "[encoded data removed]",
      "text/plain": [
       "<Figure size 1500x900 with 1 Axes>"
      ]
     },
     "metadata": {},
     "output_type": "display_data"
    }
   ],
   "source": [
    "# Графики сранения accuracy для лучших моделей бинарной классификации\n",
    "print_models_plots(*binary_model_stats)"
   ]
  },
  {
   "cell_type": "markdown",
   "metadata": {},
   "source": [
    "Как видно из таблицы и диаграмм все модели достаточно хорошо определяют цитаты, которые не относятся к Фрейду. Однако, его настоящие цитаты все модели предсказали плохо, что свидетельствует о дисбалансе выборки и том, что моделям не хватило данных для правильной идентификации цитат психолога.\n",
    "\n",
    "Лучше всего показатель на настоящих цитатах у модели LinearSVC, метрика составляет значение 0.36, что все равно очень мало.\n",
    "\n",
    "Посмотрим, как справились классификаторы на равномерно распределенных цитатах по авторам."
   ]
  },
  {
   "cell_type": "markdown",
   "metadata": {},
   "source": [
    "# 8.2 Многоклассовая классификация"
   ]
  },
  {
   "cell_type": "code",
   "execution_count": 41,
   "metadata": {},
   "outputs": [
    {
     "name": "stdout",
     "output_type": "stream",
     "text": [
      "DecisionTreeClassifier\n",
      "accuracy, тестовая выборка:  0.4\n",
      "accuracy, класс Angelou: 0.2\n",
      "accuracy, класс Austen: 0.5\n",
      "accuracy, класс Freud: 0.8\n",
      "accuracy, класс Twain: 0.1\n",
      "LogisticRegression\n",
      "accuracy, тестовая выборка:  0.45\n",
      "accuracy, класс Angelou: 0.3\n",
      "accuracy, класс Austen: 0.6\n",
      "accuracy, класс Freud: 0.5\n",
      "accuracy, класс Twain: 0.4\n",
      "LinearSVC\n",
      "accuracy, тестовая выборка:  0.5\n",
      "accuracy, класс Angelou: 0.4\n",
      "accuracy, класс Austen: 0.8\n",
      "accuracy, класс Freud: 0.5\n",
      "accuracy, класс Twain: 0.3\n",
      "MultinomialNB\n",
      "accuracy, тестовая выборка:  0.425\n",
      "accuracy, класс Angelou: 0.4\n",
      "accuracy, класс Austen: 0.8\n",
      "accuracy, класс Freud: 0.4\n",
      "accuracy, класс Twain: 0.1\n",
      "ComplementNB\n",
      "accuracy, тестовая выборка:  0.45\n",
      "accuracy, класс Angelou: 0.4\n",
      "accuracy, класс Austen: 0.8\n",
      "accuracy, класс Freud: 0.4\n",
      "accuracy, класс Twain: 0.2\n",
      "BernoulliNB\n",
      "accuracy, тестовая выборка:  0.425\n",
      "accuracy, класс Angelou: 0.3\n",
      "accuracy, класс Austen: 0.4\n",
      "accuracy, класс Freud: 0.2\n",
      "accuracy, класс Twain: 0.8\n"
     ]
    }
   ],
   "source": [
    "# Получение accuracy для лучших моделей мультиклассовой классификации\n",
    "multi_model_stats = print_models_accuracy('quote','author',multiclass_names,best_multi_models)\n",
    "#model_stats"
   ]
  },
  {
   "cell_type": "code",
   "execution_count": 42,
   "metadata": {},
   "outputs": [
    {
     "data": {
      "text/html": [
       "<div>\n",
       "<style scoped>\n",
       "    .dataframe tbody tr th:only-of-type {\n",
       "        vertical-align: middle;\n",
       "    }\n",
       "\n",
       "    .dataframe tbody tr th {\n",
       "        vertical-align: top;\n",
       "    }\n",
       "\n",
       "    .dataframe thead th {\n",
       "        text-align: right;\n",
       "    }\n",
       "</style>\n",
       "<table border=\"1\" class=\"dataframe\">\n",
       "  <thead>\n",
       "    <tr style=\"text-align: right;\">\n",
       "      <th></th>\n",
       "      <th>model_name</th>\n",
       "      <th>accuracy</th>\n",
       "      <th>Angelou</th>\n",
       "      <th>Austen</th>\n",
       "      <th>Freud</th>\n",
       "      <th>Twain</th>\n",
       "    </tr>\n",
       "  </thead>\n",
       "  <tbody>\n",
       "    <tr>\n",
       "      <th>DecisionTreeClassifier</th>\n",
       "      <td>DecisionTreeClassifier</td>\n",
       "      <td>0.400</td>\n",
       "      <td>0.2</td>\n",
       "      <td>0.5</td>\n",
       "      <td>0.8</td>\n",
       "      <td>0.1</td>\n",
       "    </tr>\n",
       "    <tr>\n",
       "      <th>LogisticRegression</th>\n",
       "      <td>LogisticRegression</td>\n",
       "      <td>0.450</td>\n",
       "      <td>0.3</td>\n",
       "      <td>0.6</td>\n",
       "      <td>0.5</td>\n",
       "      <td>0.4</td>\n",
       "    </tr>\n",
       "    <tr>\n",
       "      <th>LinearSVC</th>\n",
       "      <td>LinearSVC</td>\n",
       "      <td>0.500</td>\n",
       "      <td>0.4</td>\n",
       "      <td>0.8</td>\n",
       "      <td>0.5</td>\n",
       "      <td>0.3</td>\n",
       "    </tr>\n",
       "    <tr>\n",
       "      <th>MultinomialNB</th>\n",
       "      <td>MultinomialNB</td>\n",
       "      <td>0.425</td>\n",
       "      <td>0.4</td>\n",
       "      <td>0.8</td>\n",
       "      <td>0.4</td>\n",
       "      <td>0.1</td>\n",
       "    </tr>\n",
       "    <tr>\n",
       "      <th>ComplementNB</th>\n",
       "      <td>ComplementNB</td>\n",
       "      <td>0.450</td>\n",
       "      <td>0.4</td>\n",
       "      <td>0.8</td>\n",
       "      <td>0.4</td>\n",
       "      <td>0.2</td>\n",
       "    </tr>\n",
       "    <tr>\n",
       "      <th>BernoulliNB</th>\n",
       "      <td>BernoulliNB</td>\n",
       "      <td>0.425</td>\n",
       "      <td>0.3</td>\n",
       "      <td>0.4</td>\n",
       "      <td>0.2</td>\n",
       "      <td>0.8</td>\n",
       "    </tr>\n",
       "  </tbody>\n",
       "</table>\n",
       "</div>"
      ],
      "text/plain": [
       "                                    model_name  accuracy  Angelou  Austen  \\\n",
       "DecisionTreeClassifier  DecisionTreeClassifier     0.400      0.2     0.5   \n",
       "LogisticRegression          LogisticRegression     0.450      0.3     0.6   \n",
       "LinearSVC                            LinearSVC     0.500      0.4     0.8   \n",
       "MultinomialNB                    MultinomialNB     0.425      0.4     0.8   \n",
       "ComplementNB                      ComplementNB     0.450      0.4     0.8   \n",
       "BernoulliNB                        BernoulliNB     0.425      0.3     0.4   \n",
       "\n",
       "                        Freud  Twain  \n",
       "DecisionTreeClassifier    0.8    0.1  \n",
       "LogisticRegression        0.5    0.4  \n",
       "LinearSVC                 0.5    0.3  \n",
       "MultinomialNB             0.4    0.1  \n",
       "ComplementNB              0.4    0.2  \n",
       "BernoulliNB               0.2    0.8  "
      ]
     },
     "metadata": {},
     "output_type": "display_data"
    },
    {
     "data": {
      "image/png": "[encoded data removed]",
      "text/plain": [
       "<Figure size 600x600 with 1 Axes>"
      ]
     },
     "metadata": {},
     "output_type": "display_data"
    },
    {
     "data": {
      "image/png": "[encoded data removed]",
      "text/plain": [
       "<Figure size 1500x900 with 1 Axes>"
      ]
     },
     "metadata": {},
     "output_type": "display_data"
    }
   ],
   "source": [
    "# Графики сранения accuracy для лучших моделей мультиклассовой классификации\n",
    "print_models_plots(*multi_model_stats)"
   ]
  },
  {
   "cell_type": "markdown",
   "metadata": {},
   "source": [
    "Как видно из таблицы и диаграмм разные модели предсказали лучше разных авторов:\n",
    "1. Цитаты Майя Энджелоу были предсказаны хуже всего: максимальный показатель составил 0.36\n",
    "2. Цитаты Джейн Остин лучше всего предсказали 3 модели:  LinearSVC, MultinomialNB, ComplementNB со значением 0.72\n",
    "3. Цитаты Зигмунда Фрейда лучше всего предсказала модель DecisionTreeClassifier со значением 0.72\n",
    "4. Цитаты Марка Твена хорошо предсказал только BernoulliNB со значением 0.72.\n",
    "\n",
    "В целом, ни одна модель не предсказала все классы с приемлимым качеством. На каждом авторе различные модели проявили себя лучше, чем другие, что связано с особенностью предметной области и размером датасета."
   ]
  },
  {
   "cell_type": "markdown",
   "metadata": {},
   "source": [
    "# 9. Выводы\n",
    "Таким образом, были построены составные модели с учетом особенностей текстовой классификации. Однако из-за небольшого размера исходного датасета реализовать качественные модели не удалось. Возможным решением этой проблемы стало бы использование сторонних моделей и текстовых баз данных.\n",
    "Несмотря на это, был получен опыт в текстовой классификации с использованием таких инструментов как токенизаторы, векторизаторы, лемматизаторы."
   ]
  }
 ],
 "metadata": {
  "kernelspec": {
   "display_name": "Python 3",
   "language": "python",
   "name": "python3"
  },
  "language_info": {
   "codemirror_mode": {
    "name": "ipython",
    "version": 3
   },
   "file_extension": ".py",
   "mimetype": "text/x-python",
   "name": "python",
   "nbconvert_exporter": "python",
   "pygments_lexer": "ipython3",
   "version": "3.7.7"
  }
 },
 "nbformat": 4,
 "nbformat_minor": 4
}
