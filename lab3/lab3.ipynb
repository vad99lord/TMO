{
 "cells": [
  {
   "cell_type": "markdown",
   "metadata": {},
   "source": [
    "# Цель лабораторной работы\n",
    "Изучение способов предварительной обработки данных для дальнейшего формирования моделей."
   ]
  },
  {
   "cell_type": "markdown",
   "metadata": {},
   "source": [
    "# Задание:\n",
    "\n",
    "1. Выбрать набор данных (датасет), содержащий категориальные признаки и пропуски в данных. Для выполнения следующих пунктов можно использовать несколько различных наборов данных (один для обработки пропусков, другой для категориальных признаков и т.д.)\n",
    "2. Для выбранного датасета (датасетов) на основе материалов лекции решить следующие задачи:\n",
    "\n",
    "    1. обработку пропусков в данных;\n",
    "    2. кодирование категориальных признаков;\n",
    "    3. масштабирование данных.\n"
   ]
  },
  {
   "cell_type": "markdown",
   "metadata": {},
   "source": [
    "# 1. Имопрт библиотек и данных"
   ]
  },
  {
   "cell_type": "code",
   "execution_count": 37,
   "metadata": {
    "_cell_guid": "b1076dfc-b9ad-4769-8c92-a6c4dae69d19",
    "_uuid": "8f2839f25d086af736a60e9eeb907d3b93b6e0e5"
   },
   "outputs": [
    {
     "name": "stdout",
     "output_type": "stream",
     "text": [
      "/kaggle/input/fifa19/data.csv\n"
     ]
    }
   ],
   "source": [
    "# This Python 3 environment comes with many helpful analytics libraries installed\n",
    "# It is defined by the kaggle/python docker image: https://github.com/kaggle/docker-python\n",
    "# For example, here's several helpful packages to load in \n",
    "\n",
    "import numpy as np # linear algebra\n",
    "import pandas as pd # data processing, CSV file I/O (e.g. pd.read_csv)\n",
    "\n",
    "# Input data files are available in the \"../input/\" directory.\n",
    "# For example, running this (by clicking run or pressing Shift+Enter) will list all files under the input directory\n",
    "\n",
    "import os\n",
    "for dirname, _, filenames in os.walk('/kaggle/input'):\n",
    "    for filename in filenames:\n",
    "        print(os.path.join(dirname, filename))\n",
    "\n",
    "# Any results you write to the current directory are saved as output."
   ]
  },
  {
   "cell_type": "code",
   "execution_count": 38,
   "metadata": {
    "_cell_guid": "79c7e3d0-c299-4dcb-8224-4455121ee9b0",
    "_uuid": "d629ff2d2480ee46fbb7e2d37f6b5fab8052498a"
   },
   "outputs": [],
   "source": [
    "import seaborn as sns\n",
    "import matplotlib.pyplot as plt\n",
    "%matplotlib inline \n",
    "sns.set(style=\"ticks\")"
   ]
  },
  {
   "cell_type": "code",
   "execution_count": 39,
   "metadata": {},
   "outputs": [],
   "source": [
    "# Импорт данных\n",
    "fifa_data = pd.read_csv('/kaggle/input/fifa19/data.csv', sep=\",\")"
   ]
  },
  {
   "cell_type": "markdown",
   "metadata": {},
   "source": [
    "# 2. Характеристики датасета"
   ]
  },
  {
   "cell_type": "code",
   "execution_count": 40,
   "metadata": {},
   "outputs": [
    {
     "data": {
      "text/plain": [
       "(18207, 89)"
      ]
     },
     "execution_count": 40,
     "metadata": {},
     "output_type": "execute_result"
    }
   ],
   "source": [
    "# размер набора данных\n",
    "fifa_data.shape"
   ]
  },
  {
   "cell_type": "code",
   "execution_count": 41,
   "metadata": {},
   "outputs": [
    {
     "data": {
      "text/plain": [
       "Unnamed: 0          int64\n",
       "ID                  int64\n",
       "Name               object\n",
       "Age                 int64\n",
       "Photo              object\n",
       "                   ...   \n",
       "GKHandling        float64\n",
       "GKKicking         float64\n",
       "GKPositioning     float64\n",
       "GKReflexes        float64\n",
       "Release Clause     object\n",
       "Length: 89, dtype: object"
      ]
     },
     "execution_count": 41,
     "metadata": {},
     "output_type": "execute_result"
    }
   ],
   "source": [
    "# типы колонок\n",
    "fifa_data.dtypes"
   ]
  },
  {
   "cell_type": "code",
   "execution_count": 42,
   "metadata": {},
   "outputs": [
    {
     "data": {
      "text/html": [
       "<div>\n",
       "<style scoped>\n",
       "    .dataframe tbody tr th:only-of-type {\n",
       "        vertical-align: middle;\n",
       "    }\n",
       "\n",
       "    .dataframe tbody tr th {\n",
       "        vertical-align: top;\n",
       "    }\n",
       "\n",
       "    .dataframe thead th {\n",
       "        text-align: right;\n",
       "    }\n",
       "</style>\n",
       "<table border=\"1\" class=\"dataframe\">\n",
       "  <thead>\n",
       "    <tr style=\"text-align: right;\">\n",
       "      <th></th>\n",
       "      <th>Unnamed: 0</th>\n",
       "      <th>ID</th>\n",
       "      <th>Name</th>\n",
       "      <th>Age</th>\n",
       "      <th>Photo</th>\n",
       "      <th>Nationality</th>\n",
       "      <th>Flag</th>\n",
       "      <th>Overall</th>\n",
       "      <th>Potential</th>\n",
       "      <th>Club</th>\n",
       "      <th>...</th>\n",
       "      <th>Composure</th>\n",
       "      <th>Marking</th>\n",
       "      <th>StandingTackle</th>\n",
       "      <th>SlidingTackle</th>\n",
       "      <th>GKDiving</th>\n",
       "      <th>GKHandling</th>\n",
       "      <th>GKKicking</th>\n",
       "      <th>GKPositioning</th>\n",
       "      <th>GKReflexes</th>\n",
       "      <th>Release Clause</th>\n",
       "    </tr>\n",
       "  </thead>\n",
       "  <tbody>\n",
       "    <tr>\n",
       "      <th>0</th>\n",
       "      <td>0</td>\n",
       "      <td>158023</td>\n",
       "      <td>L. Messi</td>\n",
       "      <td>31</td>\n",
       "      <td>https://cdn.sofifa.org/players/4/19/158023.png</td>\n",
       "      <td>Argentina</td>\n",
       "      <td>https://cdn.sofifa.org/flags/52.png</td>\n",
       "      <td>94</td>\n",
       "      <td>94</td>\n",
       "      <td>FC Barcelona</td>\n",
       "      <td>...</td>\n",
       "      <td>96.0</td>\n",
       "      <td>33.0</td>\n",
       "      <td>28.0</td>\n",
       "      <td>26.0</td>\n",
       "      <td>6.0</td>\n",
       "      <td>11.0</td>\n",
       "      <td>15.0</td>\n",
       "      <td>14.0</td>\n",
       "      <td>8.0</td>\n",
       "      <td>€226.5M</td>\n",
       "    </tr>\n",
       "    <tr>\n",
       "      <th>1</th>\n",
       "      <td>1</td>\n",
       "      <td>20801</td>\n",
       "      <td>Cristiano Ronaldo</td>\n",
       "      <td>33</td>\n",
       "      <td>https://cdn.sofifa.org/players/4/19/20801.png</td>\n",
       "      <td>Portugal</td>\n",
       "      <td>https://cdn.sofifa.org/flags/38.png</td>\n",
       "      <td>94</td>\n",
       "      <td>94</td>\n",
       "      <td>Juventus</td>\n",
       "      <td>...</td>\n",
       "      <td>95.0</td>\n",
       "      <td>28.0</td>\n",
       "      <td>31.0</td>\n",
       "      <td>23.0</td>\n",
       "      <td>7.0</td>\n",
       "      <td>11.0</td>\n",
       "      <td>15.0</td>\n",
       "      <td>14.0</td>\n",
       "      <td>11.0</td>\n",
       "      <td>€127.1M</td>\n",
       "    </tr>\n",
       "    <tr>\n",
       "      <th>2</th>\n",
       "      <td>2</td>\n",
       "      <td>190871</td>\n",
       "      <td>Neymar Jr</td>\n",
       "      <td>26</td>\n",
       "      <td>https://cdn.sofifa.org/players/4/19/190871.png</td>\n",
       "      <td>Brazil</td>\n",
       "      <td>https://cdn.sofifa.org/flags/54.png</td>\n",
       "      <td>92</td>\n",
       "      <td>93</td>\n",
       "      <td>Paris Saint-Germain</td>\n",
       "      <td>...</td>\n",
       "      <td>94.0</td>\n",
       "      <td>27.0</td>\n",
       "      <td>24.0</td>\n",
       "      <td>33.0</td>\n",
       "      <td>9.0</td>\n",
       "      <td>9.0</td>\n",
       "      <td>15.0</td>\n",
       "      <td>15.0</td>\n",
       "      <td>11.0</td>\n",
       "      <td>€228.1M</td>\n",
       "    </tr>\n",
       "    <tr>\n",
       "      <th>3</th>\n",
       "      <td>3</td>\n",
       "      <td>193080</td>\n",
       "      <td>De Gea</td>\n",
       "      <td>27</td>\n",
       "      <td>https://cdn.sofifa.org/players/4/19/193080.png</td>\n",
       "      <td>Spain</td>\n",
       "      <td>https://cdn.sofifa.org/flags/45.png</td>\n",
       "      <td>91</td>\n",
       "      <td>93</td>\n",
       "      <td>Manchester United</td>\n",
       "      <td>...</td>\n",
       "      <td>68.0</td>\n",
       "      <td>15.0</td>\n",
       "      <td>21.0</td>\n",
       "      <td>13.0</td>\n",
       "      <td>90.0</td>\n",
       "      <td>85.0</td>\n",
       "      <td>87.0</td>\n",
       "      <td>88.0</td>\n",
       "      <td>94.0</td>\n",
       "      <td>€138.6M</td>\n",
       "    </tr>\n",
       "    <tr>\n",
       "      <th>4</th>\n",
       "      <td>4</td>\n",
       "      <td>192985</td>\n",
       "      <td>K. De Bruyne</td>\n",
       "      <td>27</td>\n",
       "      <td>https://cdn.sofifa.org/players/4/19/192985.png</td>\n",
       "      <td>Belgium</td>\n",
       "      <td>https://cdn.sofifa.org/flags/7.png</td>\n",
       "      <td>91</td>\n",
       "      <td>92</td>\n",
       "      <td>Manchester City</td>\n",
       "      <td>...</td>\n",
       "      <td>88.0</td>\n",
       "      <td>68.0</td>\n",
       "      <td>58.0</td>\n",
       "      <td>51.0</td>\n",
       "      <td>15.0</td>\n",
       "      <td>13.0</td>\n",
       "      <td>5.0</td>\n",
       "      <td>10.0</td>\n",
       "      <td>13.0</td>\n",
       "      <td>€196.4M</td>\n",
       "    </tr>\n",
       "  </tbody>\n",
       "</table>\n",
       "<p>5 rows × 89 columns</p>\n",
       "</div>"
      ],
      "text/plain": [
       "   Unnamed: 0      ID               Name  Age  \\\n",
       "0           0  158023           L. Messi   31   \n",
       "1           1   20801  Cristiano Ronaldo   33   \n",
       "2           2  190871          Neymar Jr   26   \n",
       "3           3  193080             De Gea   27   \n",
       "4           4  192985       K. De Bruyne   27   \n",
       "\n",
       "                                            Photo Nationality  \\\n",
       "0  https://cdn.sofifa.org/players/4/19/158023.png   Argentina   \n",
       "1   https://cdn.sofifa.org/players/4/19/20801.png    Portugal   \n",
       "2  https://cdn.sofifa.org/players/4/19/190871.png      Brazil   \n",
       "3  https://cdn.sofifa.org/players/4/19/193080.png       Spain   \n",
       "4  https://cdn.sofifa.org/players/4/19/192985.png     Belgium   \n",
       "\n",
       "                                  Flag  Overall  Potential  \\\n",
       "0  https://cdn.sofifa.org/flags/52.png       94         94   \n",
       "1  https://cdn.sofifa.org/flags/38.png       94         94   \n",
       "2  https://cdn.sofifa.org/flags/54.png       92         93   \n",
       "3  https://cdn.sofifa.org/flags/45.png       91         93   \n",
       "4   https://cdn.sofifa.org/flags/7.png       91         92   \n",
       "\n",
       "                  Club  ... Composure Marking StandingTackle  SlidingTackle  \\\n",
       "0         FC Barcelona  ...      96.0    33.0           28.0           26.0   \n",
       "1             Juventus  ...      95.0    28.0           31.0           23.0   \n",
       "2  Paris Saint-Germain  ...      94.0    27.0           24.0           33.0   \n",
       "3    Manchester United  ...      68.0    15.0           21.0           13.0   \n",
       "4      Manchester City  ...      88.0    68.0           58.0           51.0   \n",
       "\n",
       "  GKDiving  GKHandling  GKKicking  GKPositioning GKReflexes Release Clause  \n",
       "0      6.0        11.0       15.0           14.0        8.0        €226.5M  \n",
       "1      7.0        11.0       15.0           14.0       11.0        €127.1M  \n",
       "2      9.0         9.0       15.0           15.0       11.0        €228.1M  \n",
       "3     90.0        85.0       87.0           88.0       94.0        €138.6M  \n",
       "4     15.0        13.0        5.0           10.0       13.0        €196.4M  \n",
       "\n",
       "[5 rows x 89 columns]"
      ]
     },
     "execution_count": 42,
     "metadata": {},
     "output_type": "execute_result"
    }
   ],
   "source": [
    "# Первые 5 строк датасета\n",
    "fifa_data.head()"
   ]
  },
  {
   "cell_type": "code",
   "execution_count": 43,
   "metadata": {},
   "outputs": [
    {
     "data": {
      "text/plain": [
       "Unnamed: 0           0\n",
       "ID                   0\n",
       "Name                 0\n",
       "Age                  0\n",
       "Photo                0\n",
       "                  ... \n",
       "GKHandling          48\n",
       "GKKicking           48\n",
       "GKPositioning       48\n",
       "GKReflexes          48\n",
       "Release Clause    1564\n",
       "Length: 89, dtype: int64"
      ]
     },
     "execution_count": 43,
     "metadata": {},
     "output_type": "execute_result"
    }
   ],
   "source": [
    "# проверим есть ли пропущенные значения\n",
    "fifa_data.isnull().sum()"
   ]
  },
  {
   "cell_type": "markdown",
   "metadata": {},
   "source": [
    "# 3. Обработка пропусков в числовых данных"
   ]
  },
  {
   "cell_type": "markdown",
   "metadata": {},
   "source": [
    "## 3.1. Подбор и преобразование колонки"
   ]
  },
  {
   "cell_type": "code",
   "execution_count": 44,
   "metadata": {},
   "outputs": [
    {
     "data": {
      "text/plain": [
       "0        €226.5M\n",
       "1        €127.1M\n",
       "2        €228.1M\n",
       "3        €138.6M\n",
       "4        €196.4M\n",
       "          ...   \n",
       "18202      €143K\n",
       "18203      €113K\n",
       "18204      €165K\n",
       "18205      €143K\n",
       "18206      €165K\n",
       "Name: Release Clause, Length: 18207, dtype: object"
      ]
     },
     "execution_count": 44,
     "metadata": {},
     "output_type": "execute_result"
    }
   ],
   "source": [
    "# Выбранная колонка Release Clause\n",
    "fifa_data['Release Clause']"
   ]
  },
  {
   "cell_type": "code",
   "execution_count": 45,
   "metadata": {},
   "outputs": [
    {
     "data": {
      "text/html": [
       "<div>\n",
       "<style scoped>\n",
       "    .dataframe tbody tr th:only-of-type {\n",
       "        vertical-align: middle;\n",
       "    }\n",
       "\n",
       "    .dataframe tbody tr th {\n",
       "        vertical-align: top;\n",
       "    }\n",
       "\n",
       "    .dataframe thead th {\n",
       "        text-align: right;\n",
       "    }\n",
       "</style>\n",
       "<table border=\"1\" class=\"dataframe\">\n",
       "  <thead>\n",
       "    <tr style=\"text-align: right;\">\n",
       "      <th></th>\n",
       "      <th>Unnamed: 0</th>\n",
       "      <th>ID</th>\n",
       "      <th>Name</th>\n",
       "      <th>Age</th>\n",
       "      <th>Photo</th>\n",
       "      <th>Nationality</th>\n",
       "      <th>Flag</th>\n",
       "      <th>Overall</th>\n",
       "      <th>Potential</th>\n",
       "      <th>Club</th>\n",
       "      <th>...</th>\n",
       "      <th>Composure</th>\n",
       "      <th>Marking</th>\n",
       "      <th>StandingTackle</th>\n",
       "      <th>SlidingTackle</th>\n",
       "      <th>GKDiving</th>\n",
       "      <th>GKHandling</th>\n",
       "      <th>GKKicking</th>\n",
       "      <th>GKPositioning</th>\n",
       "      <th>GKReflexes</th>\n",
       "      <th>Release Clause</th>\n",
       "    </tr>\n",
       "  </thead>\n",
       "  <tbody>\n",
       "    <tr>\n",
       "      <th>28</th>\n",
       "      <td>28</td>\n",
       "      <td>198710</td>\n",
       "      <td>J. Rodríguez</td>\n",
       "      <td>26</td>\n",
       "      <td>https://cdn.sofifa.org/players/4/19/198710.png</td>\n",
       "      <td>Colombia</td>\n",
       "      <td>https://cdn.sofifa.org/flags/56.png</td>\n",
       "      <td>88</td>\n",
       "      <td>89</td>\n",
       "      <td>FC Bayern München</td>\n",
       "      <td>...</td>\n",
       "      <td>87.0</td>\n",
       "      <td>52.0</td>\n",
       "      <td>41.0</td>\n",
       "      <td>44.0</td>\n",
       "      <td>15.0</td>\n",
       "      <td>15.0</td>\n",
       "      <td>15.0</td>\n",
       "      <td>5.0</td>\n",
       "      <td>14.0</td>\n",
       "      <td>NaN</td>\n",
       "    </tr>\n",
       "    <tr>\n",
       "      <th>38</th>\n",
       "      <td>38</td>\n",
       "      <td>167664</td>\n",
       "      <td>G. Higuaín</td>\n",
       "      <td>30</td>\n",
       "      <td>https://cdn.sofifa.org/players/4/19/167664.png</td>\n",
       "      <td>Argentina</td>\n",
       "      <td>https://cdn.sofifa.org/flags/52.png</td>\n",
       "      <td>88</td>\n",
       "      <td>88</td>\n",
       "      <td>Milan</td>\n",
       "      <td>...</td>\n",
       "      <td>86.0</td>\n",
       "      <td>35.0</td>\n",
       "      <td>22.0</td>\n",
       "      <td>18.0</td>\n",
       "      <td>5.0</td>\n",
       "      <td>12.0</td>\n",
       "      <td>7.0</td>\n",
       "      <td>5.0</td>\n",
       "      <td>10.0</td>\n",
       "      <td>NaN</td>\n",
       "    </tr>\n",
       "    <tr>\n",
       "      <th>91</th>\n",
       "      <td>91</td>\n",
       "      <td>187961</td>\n",
       "      <td>Paulinho</td>\n",
       "      <td>29</td>\n",
       "      <td>https://cdn.sofifa.org/players/4/19/187961.png</td>\n",
       "      <td>Brazil</td>\n",
       "      <td>https://cdn.sofifa.org/flags/54.png</td>\n",
       "      <td>85</td>\n",
       "      <td>85</td>\n",
       "      <td>Guangzhou Evergrande Taobao FC</td>\n",
       "      <td>...</td>\n",
       "      <td>80.0</td>\n",
       "      <td>75.0</td>\n",
       "      <td>81.0</td>\n",
       "      <td>73.0</td>\n",
       "      <td>16.0</td>\n",
       "      <td>16.0</td>\n",
       "      <td>11.0</td>\n",
       "      <td>6.0</td>\n",
       "      <td>8.0</td>\n",
       "      <td>NaN</td>\n",
       "    </tr>\n",
       "    <tr>\n",
       "      <th>166</th>\n",
       "      <td>166</td>\n",
       "      <td>212523</td>\n",
       "      <td>Anderson Talisca</td>\n",
       "      <td>24</td>\n",
       "      <td>https://cdn.sofifa.org/players/4/19/212523.png</td>\n",
       "      <td>Brazil</td>\n",
       "      <td>https://cdn.sofifa.org/flags/54.png</td>\n",
       "      <td>83</td>\n",
       "      <td>90</td>\n",
       "      <td>Guangzhou Evergrande Taobao FC</td>\n",
       "      <td>...</td>\n",
       "      <td>74.0</td>\n",
       "      <td>55.0</td>\n",
       "      <td>62.0</td>\n",
       "      <td>42.0</td>\n",
       "      <td>13.0</td>\n",
       "      <td>11.0</td>\n",
       "      <td>13.0</td>\n",
       "      <td>12.0</td>\n",
       "      <td>10.0</td>\n",
       "      <td>NaN</td>\n",
       "    </tr>\n",
       "    <tr>\n",
       "      <th>176</th>\n",
       "      <td>176</td>\n",
       "      <td>207410</td>\n",
       "      <td>M. Kovačić</td>\n",
       "      <td>24</td>\n",
       "      <td>https://cdn.sofifa.org/players/4/19/207410.png</td>\n",
       "      <td>Croatia</td>\n",
       "      <td>https://cdn.sofifa.org/flags/10.png</td>\n",
       "      <td>83</td>\n",
       "      <td>89</td>\n",
       "      <td>Chelsea</td>\n",
       "      <td>...</td>\n",
       "      <td>72.0</td>\n",
       "      <td>69.0</td>\n",
       "      <td>75.0</td>\n",
       "      <td>63.0</td>\n",
       "      <td>9.0</td>\n",
       "      <td>5.0</td>\n",
       "      <td>6.0</td>\n",
       "      <td>7.0</td>\n",
       "      <td>7.0</td>\n",
       "      <td>NaN</td>\n",
       "    </tr>\n",
       "  </tbody>\n",
       "</table>\n",
       "<p>5 rows × 89 columns</p>\n",
       "</div>"
      ],
      "text/plain": [
       "     Unnamed: 0      ID              Name  Age  \\\n",
       "28           28  198710      J. Rodríguez   26   \n",
       "38           38  167664        G. Higuaín   30   \n",
       "91           91  187961          Paulinho   29   \n",
       "166         166  212523  Anderson Talisca   24   \n",
       "176         176  207410        M. Kovačić   24   \n",
       "\n",
       "                                              Photo Nationality  \\\n",
       "28   https://cdn.sofifa.org/players/4/19/198710.png    Colombia   \n",
       "38   https://cdn.sofifa.org/players/4/19/167664.png   Argentina   \n",
       "91   https://cdn.sofifa.org/players/4/19/187961.png      Brazil   \n",
       "166  https://cdn.sofifa.org/players/4/19/212523.png      Brazil   \n",
       "176  https://cdn.sofifa.org/players/4/19/207410.png     Croatia   \n",
       "\n",
       "                                    Flag  Overall  Potential  \\\n",
       "28   https://cdn.sofifa.org/flags/56.png       88         89   \n",
       "38   https://cdn.sofifa.org/flags/52.png       88         88   \n",
       "91   https://cdn.sofifa.org/flags/54.png       85         85   \n",
       "166  https://cdn.sofifa.org/flags/54.png       83         90   \n",
       "176  https://cdn.sofifa.org/flags/10.png       83         89   \n",
       "\n",
       "                               Club  ... Composure Marking StandingTackle  \\\n",
       "28                FC Bayern München  ...      87.0    52.0           41.0   \n",
       "38                            Milan  ...      86.0    35.0           22.0   \n",
       "91   Guangzhou Evergrande Taobao FC  ...      80.0    75.0           81.0   \n",
       "166  Guangzhou Evergrande Taobao FC  ...      74.0    55.0           62.0   \n",
       "176                         Chelsea  ...      72.0    69.0           75.0   \n",
       "\n",
       "     SlidingTackle GKDiving  GKHandling  GKKicking  GKPositioning GKReflexes  \\\n",
       "28            44.0     15.0        15.0       15.0            5.0       14.0   \n",
       "38            18.0      5.0        12.0        7.0            5.0       10.0   \n",
       "91            73.0     16.0        16.0       11.0            6.0        8.0   \n",
       "166           42.0     13.0        11.0       13.0           12.0       10.0   \n",
       "176           63.0      9.0         5.0        6.0            7.0        7.0   \n",
       "\n",
       "    Release Clause  \n",
       "28             NaN  \n",
       "38             NaN  \n",
       "91             NaN  \n",
       "166            NaN  \n",
       "176            NaN  \n",
       "\n",
       "[5 rows x 89 columns]"
      ]
     },
     "execution_count": 45,
     "metadata": {},
     "output_type": "execute_result"
    }
   ],
   "source": [
    "# первые строки с неопределенными значениями\n",
    "fifa_data[fifa_data['Release Clause'].isnull()].head()"
   ]
  },
  {
   "cell_type": "code",
   "execution_count": 46,
   "metadata": {},
   "outputs": [
    {
     "data": {
      "text/plain": [
       "Int64Index([   28,    38,    91,   166,   176,   332,   354,   357,   427,\n",
       "              434,\n",
       "            ...\n",
       "            17634, 17672, 17726, 17752, 17978, 17979, 18026, 18031, 18056,\n",
       "            18183],\n",
       "           dtype='int64', length=1564)"
      ]
     },
     "execution_count": 46,
     "metadata": {},
     "output_type": "execute_result"
    }
   ],
   "source": [
    "# Индекс пропущенных значений\n",
    "fifa_data[fifa_data['Release Clause'].isnull()].index"
   ]
  },
  {
   "cell_type": "code",
   "execution_count": 47,
   "metadata": {},
   "outputs": [
    {
     "data": {
      "text/plain": [
       "0        226500000\n",
       "1        127100000\n",
       "2        228100000\n",
       "3        138600000\n",
       "4        196400000\n",
       "           ...    \n",
       "18202       143000\n",
       "18203       113000\n",
       "18204       165000\n",
       "18205       143000\n",
       "18206       165000\n",
       "Name: Release Clause, Length: 18207, dtype: int64"
      ]
     },
     "execution_count": 47,
     "metadata": {},
     "output_type": "execute_result"
    }
   ],
   "source": [
    "# Перевод значений признака в чиловой вид\n",
    "# Сначала перевод NaN в 0\n",
    "# Затем перевод строкового формата в числовой\n",
    "release_clause = fifa_data['Release Clause'].fillna('0').replace({'€':'','K': '*1e3', 'M': '*1e6'}, regex=True)\\\n",
    "                                 .map(pd.eval).astype(int)\n",
    "release_clause.rename('Release Clause')\n",
    "release_clause.rename_axis(\"animal\")\n",
    "release_clause"
   ]
  },
  {
   "cell_type": "code",
   "execution_count": 49,
   "metadata": {},
   "outputs": [
    {
     "data": {
      "image/png": "[encoded data removed]",
      "text/plain": [
       "<Figure size 432x288 with 1 Axes>"
      ]
     },
     "metadata": {},
     "output_type": "display_data"
    }
   ],
   "source": [
    "# Гистограмма признака в лограифмическом масштабе\n",
    "plt.hist(release_clause.divide(other=1e6), 70,log=True)\n",
    "plt.xlabel(\"release_clause, millions\")\n",
    "#xint = range(release_clause.min(), release_clause.max())\n",
    "plt.show()"
   ]
  },
  {
   "cell_type": "markdown",
   "metadata": {},
   "source": [
    "## 3.2 Заполнение пропусков с SimpleImputer:"
   ]
  },
  {
   "cell_type": "code",
   "execution_count": 50,
   "metadata": {},
   "outputs": [],
   "source": [
    "# Импорт из библиотек\n",
    "from sklearn.impute import SimpleImputer\n",
    "from sklearn.impute import MissingIndicator"
   ]
  },
  {
   "cell_type": "code",
   "execution_count": 51,
   "metadata": {},
   "outputs": [],
   "source": [
    "#Функция для применения различных стратегий импьютации для колонки\n",
    "def test_num_impute(strategy_param, column, missing_val=np.nan):\n",
    "    # Фильтр для проверки заполнения пустых значений\n",
    "    indicator = MissingIndicator(missing_values=missing_val)\n",
    "    mask_missing_values_only = indicator.fit_transform(column)\n",
    "    #Simple Imputer\n",
    "    imp_num = SimpleImputer(strategy=strategy_param,missing_values=missing_val)\n",
    "    data_num_imp = imp_num.fit_transform(column)\n",
    "    return data_num_imp[mask_missing_values_only]"
   ]
  },
  {
   "cell_type": "code",
   "execution_count": 52,
   "metadata": {},
   "outputs": [],
   "source": [
    "# Функция для печати результатов вставки пропусков, используя список стратегий\n",
    "def test_strategies(strategies,df,missing_val=np.nan):\n",
    "    for index, strategy in enumerate(strategies):\n",
    "        print(df.iloc[:,0].name,strategy,test_num_impute(strategy,df,missing_val))"
   ]
  },
  {
   "cell_type": "code",
   "execution_count": 53,
   "metadata": {},
   "outputs": [],
   "source": [
    "#Выводить массив с ..., если больше 100 значений\n",
    "np.set_printoptions(threshold=100)"
   ]
  },
  {
   "cell_type": "code",
   "execution_count": 54,
   "metadata": {},
   "outputs": [
    {
     "data": {
      "text/plain": [
       "(array([   28,    38,    91, ..., 18031, 18056, 18183]),\n",
       " array([0, 0, 0, ..., 0, 0, 0]))"
      ]
     },
     "execution_count": 54,
     "metadata": {},
     "output_type": "execute_result"
    }
   ],
   "source": [
    "# Фильтр для проверки заполнения пустых значений\n",
    "indicator = MissingIndicator(missing_values=0)\n",
    "mask_missing_values_only = indicator.fit_transform(release_clause.to_frame())\n",
    "np.where(mask_missing_values_only)"
   ]
  },
  {
   "cell_type": "code",
   "execution_count": 55,
   "metadata": {},
   "outputs": [
    {
     "data": {
      "text/plain": [
       "count    1.820700e+04\n",
       "mean     4.191200e+06\n",
       "std      1.070778e+07\n",
       "min      0.000000e+00\n",
       "25%      3.920000e+05\n",
       "50%      1.000000e+06\n",
       "75%      3.000000e+06\n",
       "max      2.281000e+08\n",
       "Name: Release Clause, dtype: float64"
      ]
     },
     "execution_count": 55,
     "metadata": {},
     "output_type": "execute_result"
    }
   ],
   "source": [
    "# Характеристики признака\n",
    "release_clause.describe()"
   ]
  },
  {
   "cell_type": "code",
   "execution_count": 56,
   "metadata": {},
   "outputs": [
    {
     "name": "stdout",
     "output_type": "stream",
     "text": [
      "Release Clause mean [4585060.98185423 4585060.98185423 4585060.98185423 ... 4585060.98185423\n",
      " 4585060.98185423 4585060.98185423]\n",
      "Release Clause median [1100000. 1100000. 1100000. ... 1100000. 1100000. 1100000.]\n",
      "Release Clause most_frequent [1100000 1100000 1100000 ... 1100000 1100000 1100000]\n"
     ]
    }
   ],
   "source": [
    "# Применение стратегий и вывод значений\n",
    "strategies=['mean', 'median','most_frequent']\n",
    "test_strategies(strategies,release_clause.to_frame(),0)"
   ]
  },
  {
   "cell_type": "markdown",
   "metadata": {},
   "source": [
    "# 4. Обработка пропусков в категориальных данных"
   ]
  },
  {
   "cell_type": "markdown",
   "metadata": {},
   "source": [
    "## 4.1 Выбор колонки"
   ]
  },
  {
   "cell_type": "code",
   "execution_count": 57,
   "metadata": {},
   "outputs": [
    {
     "data": {
      "text/plain": [
       "Preferred Foot          0.263635\n",
       "Work Rate               0.263635\n",
       "Body Type               0.263635\n",
       "Real Face               0.263635\n",
       "Weight                  0.263635\n",
       "Height                  0.263635\n",
       "Position                0.329544\n",
       "Club                    1.323667\n",
       "Contract Valid Until    1.587302\n",
       "Joined                  8.529686\n",
       "dtype: float64"
      ]
     },
     "execution_count": 57,
     "metadata": {},
     "output_type": "execute_result"
    }
   ],
   "source": [
    "# Поиск категориальных признаков, в которых достаточное количество пропусков в процентах\n",
    "total_count = len(fifa_data.index)\n",
    "fifa_data.select_dtypes(include=['object']).isnull().sum(axis = 0).where(lambda x : x>0)\\\n",
    "         .sort_values(ascending=True).apply(lambda x: x/total_count*100).head(10)"
   ]
  },
  {
   "cell_type": "code",
   "execution_count": 58,
   "metadata": {},
   "outputs": [
    {
     "data": {
      "text/plain": [
       "0               FC Barcelona\n",
       "1                   Juventus\n",
       "2        Paris Saint-Germain\n",
       "3          Manchester United\n",
       "4            Manchester City\n",
       "                ...         \n",
       "18202        Crewe Alexandra\n",
       "18203         Trelleborgs FF\n",
       "18204       Cambridge United\n",
       "18205        Tranmere Rovers\n",
       "18206        Tranmere Rovers\n",
       "Name: Club, Length: 18207, dtype: object"
      ]
     },
     "execution_count": 58,
     "metadata": {},
     "output_type": "execute_result"
    }
   ],
   "source": [
    "# Данные в выбранной колонке\n",
    "fifa_data['Club']"
   ]
  },
  {
   "cell_type": "code",
   "execution_count": 59,
   "metadata": {},
   "outputs": [
    {
     "name": "stdout",
     "output_type": "stream",
     "text": [
      "Club:  число уникальных значений: 651 ,количество пустых значений:  241\n"
     ]
    }
   ],
   "source": [
    "# вывод информации об уникальных значениях\n",
    "print('Club:',' число уникальных значений:',fifa_data['Club'].nunique(),\n",
    "      \",количество пустых значений: \",fifa_data['Club'].isnull().sum())"
   ]
  },
  {
   "cell_type": "markdown",
   "metadata": {},
   "source": [
    "## 4.2 Заполнение пропусков в данных"
   ]
  },
  {
   "cell_type": "code",
   "execution_count": 60,
   "metadata": {},
   "outputs": [
    {
     "data": {
      "text/plain": [
       "Int64Index([  452,   538,   568,   677,   874,   953,   997,  1008,  1120,\n",
       "             1271,\n",
       "            ...\n",
       "            16903, 16947, 16976, 17008, 17129, 17197, 17215, 17339, 17436,\n",
       "            17539],\n",
       "           dtype='int64', length=241)"
      ]
     },
     "execution_count": 60,
     "metadata": {},
     "output_type": "execute_result"
    }
   ],
   "source": [
    "# Индексы пропущенных значений\n",
    "fifa_data[fifa_data['Club'].isnull()].index"
   ]
  },
  {
   "cell_type": "code",
   "execution_count": 61,
   "metadata": {},
   "outputs": [
    {
     "name": "stdout",
     "output_type": "stream",
     "text": [
      "Club most_frequent ['AS Monaco' 'AS Monaco' 'AS Monaco' ... 'AS Monaco' 'AS Monaco'\n",
      " 'AS Monaco']\n",
      "Club constant ['missing_value' 'missing_value' 'missing_value' ... 'missing_value'\n",
      " 'missing_value' 'missing_value']\n"
     ]
    }
   ],
   "source": [
    "# Применение стратегий и вывод заполненных значений\n",
    "strategies = ['most_frequent','constant']\n",
    "test_strategies(strategies, fifa_data[['Club']])"
   ]
  },
  {
   "cell_type": "markdown",
   "metadata": {},
   "source": [
    "# 5. Преобразование категориальных признаков"
   ]
  },
  {
   "cell_type": "markdown",
   "metadata": {},
   "source": [
    "## 5.1 Поиск колонки для Label encoding"
   ]
  },
  {
   "cell_type": "code",
   "execution_count": 62,
   "metadata": {},
   "outputs": [
    {
     "name": "stdout",
     "output_type": "stream",
     "text": [
      "Preferred Foot     2\n",
      "Real Face          2\n",
      "Work Rate          9\n",
      "Body Type         10\n",
      "Height            21\n",
      "dtype: int64\n"
     ]
    }
   ],
   "source": [
    "# Поиск категориальных признаков, в которых мало уникальных значений\n",
    "uniqueObj = fifa_data.select_dtypes(include=['object']).nunique().sort_values().head(5)\n",
    "print(uniqueObj)"
   ]
  },
  {
   "cell_type": "code",
   "execution_count": 63,
   "metadata": {},
   "outputs": [
    {
     "name": "stdout",
     "output_type": "stream",
     "text": [
      "Preferred Foot  :  ['Left' 'Right' nan] ,количество пустых значений:  48\n",
      "Real Face  :  ['Yes' 'No' nan] ,количество пустых значений:  48\n",
      "Work Rate  :  ['Medium/ Medium' 'High/ Low' 'High/ Medium' 'High/ High' 'Medium/ High'\n",
      " 'Medium/ Low' 'Low/ High' 'Low/ Medium' 'Low/ Low' nan] ,количество пустых значений:  48\n",
      "Body Type  :  ['Messi' 'C. Ronaldo' 'Neymar' 'Lean' 'Normal' 'Courtois' 'Stocky'\n",
      " 'PLAYER_BODY_TYPE_25' 'Shaqiri' 'Akinfenwa' nan] ,количество пустых значений:  48\n",
      "Height  :  [\"5'7\" \"6'2\" \"5'9\" \"6'4\" \"5'11\" \"5'8\" \"6'0\" \"5'6\" \"5'10\" \"6'6\" \"6'1\" \"5'4\"\n",
      " \"6'3\" \"5'5\" \"6'5\" \"6'7\" \"5'3\" \"5'2\" \"6'8\" \"5'1\" \"6'9\" nan] ,количество пустых значений:  48\n"
     ]
    }
   ],
   "source": [
    "# Вывод категориальных признаков с указанием уникальных значений\n",
    "categoryCols = uniqueObj.index.tolist()\n",
    "for col in fifa_data[categoryCols]:\n",
    "    print(col,\" : \",fifa_data[col].unique(),\",количество пустых значений: \",fifa_data[col].isnull().sum())\n"
   ]
  },
  {
   "cell_type": "code",
   "execution_count": 64,
   "metadata": {},
   "outputs": [
    {
     "data": {
      "text/html": [
       "<div>\n",
       "<style scoped>\n",
       "    .dataframe tbody tr th:only-of-type {\n",
       "        vertical-align: middle;\n",
       "    }\n",
       "\n",
       "    .dataframe tbody tr th {\n",
       "        vertical-align: top;\n",
       "    }\n",
       "\n",
       "    .dataframe thead th {\n",
       "        text-align: right;\n",
       "    }\n",
       "</style>\n",
       "<table border=\"1\" class=\"dataframe\">\n",
       "  <thead>\n",
       "    <tr style=\"text-align: right;\">\n",
       "      <th></th>\n",
       "      <th>Preferred Foot</th>\n",
       "      <th>Real Face</th>\n",
       "      <th>Work Rate</th>\n",
       "      <th>Body Type</th>\n",
       "      <th>Height</th>\n",
       "    </tr>\n",
       "  </thead>\n",
       "  <tbody>\n",
       "    <tr>\n",
       "      <th>13236</th>\n",
       "      <td>NaN</td>\n",
       "      <td>NaN</td>\n",
       "      <td>NaN</td>\n",
       "      <td>NaN</td>\n",
       "      <td>NaN</td>\n",
       "    </tr>\n",
       "    <tr>\n",
       "      <th>13237</th>\n",
       "      <td>NaN</td>\n",
       "      <td>NaN</td>\n",
       "      <td>NaN</td>\n",
       "      <td>NaN</td>\n",
       "      <td>NaN</td>\n",
       "    </tr>\n",
       "    <tr>\n",
       "      <th>13238</th>\n",
       "      <td>NaN</td>\n",
       "      <td>NaN</td>\n",
       "      <td>NaN</td>\n",
       "      <td>NaN</td>\n",
       "      <td>NaN</td>\n",
       "    </tr>\n",
       "    <tr>\n",
       "      <th>13239</th>\n",
       "      <td>NaN</td>\n",
       "      <td>NaN</td>\n",
       "      <td>NaN</td>\n",
       "      <td>NaN</td>\n",
       "      <td>NaN</td>\n",
       "    </tr>\n",
       "    <tr>\n",
       "      <th>13240</th>\n",
       "      <td>NaN</td>\n",
       "      <td>NaN</td>\n",
       "      <td>NaN</td>\n",
       "      <td>NaN</td>\n",
       "      <td>NaN</td>\n",
       "    </tr>\n",
       "  </tbody>\n",
       "</table>\n",
       "</div>"
      ],
      "text/plain": [
       "      Preferred Foot Real Face Work Rate Body Type Height\n",
       "13236            NaN       NaN       NaN       NaN    NaN\n",
       "13237            NaN       NaN       NaN       NaN    NaN\n",
       "13238            NaN       NaN       NaN       NaN    NaN\n",
       "13239            NaN       NaN       NaN       NaN    NaN\n",
       "13240            NaN       NaN       NaN       NaN    NaN"
      ]
     },
     "execution_count": 64,
     "metadata": {},
     "output_type": "execute_result"
    }
   ],
   "source": [
    "# Проверка на связь строк, в которых неопределенные значения, чтобы удалить их из датасета\n",
    "fifa_data[(fifa_data[categoryCols[0]].isnull())][categoryCols].head()"
   ]
  },
  {
   "cell_type": "code",
   "execution_count": 65,
   "metadata": {},
   "outputs": [
    {
     "name": "stdout",
     "output_type": "stream",
     "text": [
      "Preferred Foot  :  ['Left' 'Right'] ,количество пустых значений:  0\n",
      "Real Face  :  ['Yes' 'No'] ,количество пустых значений:  0\n",
      "Work Rate  :  ['Medium/ Medium' 'High/ Low' 'High/ Medium' 'High/ High' 'Medium/ High'\n",
      " 'Medium/ Low' 'Low/ High' 'Low/ Medium' 'Low/ Low'] ,количество пустых значений:  0\n",
      "Body Type  :  ['Messi' 'C. Ronaldo' 'Neymar' 'Lean' 'Normal' 'Courtois' 'Stocky'\n",
      " 'PLAYER_BODY_TYPE_25' 'Shaqiri' 'Akinfenwa'] ,количество пустых значений:  0\n",
      "Height  :  [\"5'7\" \"6'2\" \"5'9\" \"6'4\" \"5'11\" \"5'8\" \"6'0\" \"5'6\" \"5'10\" \"6'6\" \"6'1\" \"5'4\"\n",
      " \"6'3\" \"5'5\" \"6'5\" \"6'7\" \"5'3\" \"5'2\" \"6'8\" \"5'1\" \"6'9\"] ,количество пустых значений:  0\n"
     ]
    }
   ],
   "source": [
    "#Удаляем эти строки, так как значения не определены во всех колонках\n",
    "fifa_data = fifa_data[fifa_data[categoryCols[0]].notna()]\n",
    "for col in fifa_data[categoryCols]:\n",
    "    print(col,\" : \",fifa_data[col].unique(),\",количество пустых значений: \",fifa_data[col].isnull().sum())"
   ]
  },
  {
   "cell_type": "markdown",
   "metadata": {},
   "source": [
    "## 5.2 Label encoding"
   ]
  },
  {
   "cell_type": "code",
   "execution_count": 66,
   "metadata": {},
   "outputs": [],
   "source": [
    "# импорт из библиотек\n",
    "from sklearn.preprocessing import LabelEncoder"
   ]
  },
  {
   "cell_type": "code",
   "execution_count": 67,
   "metadata": {},
   "outputs": [
    {
     "name": "stdout",
     "output_type": "stream",
     "text": [
      "Work Rate ,label encoded:  [8 1 2 ... 8 8 8]\n",
      "Work Rate ,unique values:  [0 1 2 3 4 5 6 7 8]\n",
      "Work Rate ,source values:  ['Medium/ Medium' 'High/ Low' 'High/ Medium' ... 'Medium/ Medium'\n",
      " 'Medium/ Medium' 'Medium/ Medium']\n"
     ]
    }
   ],
   "source": [
    "#Label encoding для выбранной колонки Work Rate\n",
    "le = LabelEncoder()\n",
    "work_rate = fifa_data[\"Work Rate\"]\n",
    "cat_foot_le = le.fit_transform(work_rate)\n",
    "print(work_rate.name,\",label encoded: \",cat_foot_le)\n",
    "print(work_rate.name,\",unique values: \",np.unique(cat_foot_le))\n",
    "print(work_rate.name,\",source values: \",le.inverse_transform(cat_foot_le))"
   ]
  },
  {
   "cell_type": "markdown",
   "metadata": {},
   "source": [
    "## 5.3 One hot encoding"
   ]
  },
  {
   "cell_type": "code",
   "execution_count": 68,
   "metadata": {},
   "outputs": [
    {
     "data": {
      "text/html": [
       "<div>\n",
       "<style scoped>\n",
       "    .dataframe tbody tr th:only-of-type {\n",
       "        vertical-align: middle;\n",
       "    }\n",
       "\n",
       "    .dataframe tbody tr th {\n",
       "        vertical-align: top;\n",
       "    }\n",
       "\n",
       "    .dataframe thead th {\n",
       "        text-align: right;\n",
       "    }\n",
       "</style>\n",
       "<table border=\"1\" class=\"dataframe\">\n",
       "  <thead>\n",
       "    <tr style=\"text-align: right;\">\n",
       "      <th></th>\n",
       "      <th>Rate_Akinfenwa</th>\n",
       "      <th>Rate_C. Ronaldo</th>\n",
       "      <th>Rate_Courtois</th>\n",
       "      <th>Rate_Lean</th>\n",
       "      <th>Rate_Messi</th>\n",
       "      <th>Rate_Neymar</th>\n",
       "      <th>Rate_Normal</th>\n",
       "      <th>Rate_PLAYER_BODY_TYPE_25</th>\n",
       "      <th>Rate_Shaqiri</th>\n",
       "      <th>Rate_Stocky</th>\n",
       "      <th>Rate_nan</th>\n",
       "    </tr>\n",
       "  </thead>\n",
       "  <tbody>\n",
       "    <tr>\n",
       "      <th>0</th>\n",
       "      <td>0</td>\n",
       "      <td>0</td>\n",
       "      <td>0</td>\n",
       "      <td>0</td>\n",
       "      <td>1</td>\n",
       "      <td>0</td>\n",
       "      <td>0</td>\n",
       "      <td>0</td>\n",
       "      <td>0</td>\n",
       "      <td>0</td>\n",
       "      <td>0</td>\n",
       "    </tr>\n",
       "    <tr>\n",
       "      <th>1</th>\n",
       "      <td>0</td>\n",
       "      <td>1</td>\n",
       "      <td>0</td>\n",
       "      <td>0</td>\n",
       "      <td>0</td>\n",
       "      <td>0</td>\n",
       "      <td>0</td>\n",
       "      <td>0</td>\n",
       "      <td>0</td>\n",
       "      <td>0</td>\n",
       "      <td>0</td>\n",
       "    </tr>\n",
       "    <tr>\n",
       "      <th>2</th>\n",
       "      <td>0</td>\n",
       "      <td>0</td>\n",
       "      <td>0</td>\n",
       "      <td>0</td>\n",
       "      <td>0</td>\n",
       "      <td>1</td>\n",
       "      <td>0</td>\n",
       "      <td>0</td>\n",
       "      <td>0</td>\n",
       "      <td>0</td>\n",
       "      <td>0</td>\n",
       "    </tr>\n",
       "    <tr>\n",
       "      <th>3</th>\n",
       "      <td>0</td>\n",
       "      <td>0</td>\n",
       "      <td>0</td>\n",
       "      <td>1</td>\n",
       "      <td>0</td>\n",
       "      <td>0</td>\n",
       "      <td>0</td>\n",
       "      <td>0</td>\n",
       "      <td>0</td>\n",
       "      <td>0</td>\n",
       "      <td>0</td>\n",
       "    </tr>\n",
       "    <tr>\n",
       "      <th>4</th>\n",
       "      <td>0</td>\n",
       "      <td>0</td>\n",
       "      <td>0</td>\n",
       "      <td>0</td>\n",
       "      <td>0</td>\n",
       "      <td>0</td>\n",
       "      <td>1</td>\n",
       "      <td>0</td>\n",
       "      <td>0</td>\n",
       "      <td>0</td>\n",
       "      <td>0</td>\n",
       "    </tr>\n",
       "  </tbody>\n",
       "</table>\n",
       "</div>"
      ],
      "text/plain": [
       "   Rate_Akinfenwa  Rate_C. Ronaldo  Rate_Courtois  Rate_Lean  Rate_Messi  \\\n",
       "0               0                0              0          0           1   \n",
       "1               0                1              0          0           0   \n",
       "2               0                0              0          0           0   \n",
       "3               0                0              0          1           0   \n",
       "4               0                0              0          0           0   \n",
       "\n",
       "   Rate_Neymar  Rate_Normal  Rate_PLAYER_BODY_TYPE_25  Rate_Shaqiri  \\\n",
       "0            0            0                         0             0   \n",
       "1            0            0                         0             0   \n",
       "2            1            0                         0             0   \n",
       "3            0            0                         0             0   \n",
       "4            0            1                         0             0   \n",
       "\n",
       "   Rate_Stocky  Rate_nan  \n",
       "0            0         0  \n",
       "1            0         0  \n",
       "2            0         0  \n",
       "3            0         0  \n",
       "4            0         0  "
      ]
     },
     "execution_count": 68,
     "metadata": {},
     "output_type": "execute_result"
    }
   ],
   "source": [
    "#one-hot encoding для выбранной колонки Body Type\n",
    "pd.get_dummies(fifa_data[\"Body Type\"],dummy_na=True,prefix=\"Rate\").head()"
   ]
  },
  {
   "cell_type": "markdown",
   "metadata": {},
   "source": [
    "## 6. Масштабирование данных"
   ]
  },
  {
   "cell_type": "markdown",
   "metadata": {},
   "source": [
    "## 6.1 Подбор колонки"
   ]
  },
  {
   "cell_type": "code",
   "execution_count": 69,
   "metadata": {},
   "outputs": [
    {
     "name": "stdout",
     "output_type": "stream",
     "text": [
      "Jersey Number      99.0\n",
      "Dribbling          94.0\n",
      "Positioning        94.0\n",
      "Finishing          93.0\n",
      "Marking            92.0\n",
      "ShotPower          92.0\n",
      "LongShots          92.0\n",
      "HeadingAccuracy    91.0\n",
      "StandingTackle     90.0\n",
      "FKAccuracy         90.0\n",
      "dtype: float64\n"
     ]
    }
   ],
   "source": [
    "#Выборка 10 количественных признаков с количеством уникальных значений меньше 100\n",
    "quantityCols = fifa_data.select_dtypes(exclude=['object']).nunique().where(lambda x : x<100)\\\n",
    "                        .sort_values(ascending=False).head(10)\n",
    "print(quantityCols)"
   ]
  },
  {
   "cell_type": "code",
   "execution_count": 70,
   "metadata": {},
   "outputs": [
    {
     "data": {
      "text/plain": [
       "array([[<matplotlib.axes._subplots.AxesSubplot object at 0x7f03de8e44d0>,\n",
       "        <matplotlib.axes._subplots.AxesSubplot object at 0x7f03de737d50>,\n",
       "        <matplotlib.axes._subplots.AxesSubplot object at 0x7f03de75ef50>],\n",
       "       [<matplotlib.axes._subplots.AxesSubplot object at 0x7f03de70fbd0>,\n",
       "        <matplotlib.axes._subplots.AxesSubplot object at 0x7f03de6cbe90>,\n",
       "        <matplotlib.axes._subplots.AxesSubplot object at 0x7f03de67fb50>],\n",
       "       [<matplotlib.axes._subplots.AxesSubplot object at 0x7f03de63ffd0>,\n",
       "        <matplotlib.axes._subplots.AxesSubplot object at 0x7f03de5f5ad0>,\n",
       "        <matplotlib.axes._subplots.AxesSubplot object at 0x7f03de5ff650>],\n",
       "       [<matplotlib.axes._subplots.AxesSubplot object at 0x7f03de5b3fd0>,\n",
       "        <matplotlib.axes._subplots.AxesSubplot object at 0x7f03de52add0>,\n",
       "        <matplotlib.axes._subplots.AxesSubplot object at 0x7f03de945590>]],\n",
       "      dtype=object)"
      ]
     },
     "execution_count": 70,
     "metadata": {},
     "output_type": "execute_result"
    },
    {
     "data": {
      "image/png": "[encoded data removed]",
      "text/plain": [
       "<Figure size 1080x1080 with 12 Axes>"
      ]
     },
     "metadata": {},
     "output_type": "display_data"
    }
   ],
   "source": [
    "# Гистограммы для этих признаков\n",
    "fifa_data[quantityCols.index.tolist()].hist(figsize=(15,15))"
   ]
  },
  {
   "cell_type": "markdown",
   "metadata": {},
   "source": [
    "## 6.2 Масштабирование различными методами"
   ]
  },
  {
   "cell_type": "code",
   "execution_count": 71,
   "metadata": {},
   "outputs": [],
   "source": [
    "# импорт из библиотек\n",
    "from sklearn.preprocessing import MinMaxScaler, StandardScaler"
   ]
  },
  {
   "cell_type": "code",
   "execution_count": 72,
   "metadata": {},
   "outputs": [
    {
     "name": "stderr",
     "output_type": "stream",
     "text": [
      "/opt/conda/lib/python3.7/site-packages/numpy/lib/histograms.py:839: RuntimeWarning: invalid value encountered in greater_equal\n",
      "  keep = (tmp_a >= first_edge)\n",
      "/opt/conda/lib/python3.7/site-packages/numpy/lib/histograms.py:840: RuntimeWarning: invalid value encountered in less_equal\n",
      "  keep &= (tmp_a <= last_edge)\n"
     ]
    },
    {
     "data": {
      "image/png": "[encoded data removed]",
      "text/plain": [
       "<Figure size 432x288 with 1 Axes>"
      ]
     },
     "metadata": {},
     "output_type": "display_data"
    },
    {
     "data": {
      "image/png": "[encoded data removed]",
      "text/plain": [
       "<Figure size 432x288 with 1 Axes>"
      ]
     },
     "metadata": {},
     "output_type": "display_data"
    },
    {
     "data": {
      "image/png": "[encoded data removed]",
      "text/plain": [
       "<Figure size 432x288 with 1 Axes>"
      ]
     },
     "metadata": {},
     "output_type": "display_data"
    }
   ],
   "source": [
    "# Выбранная колонка - Jersey Number\n",
    "# MinMax масштабирование\n",
    "mms = MinMaxScaler()\n",
    "jersey_number = fifa_data['Jersey Number']\n",
    "mms_acceleration = mms.fit_transform(jersey_number.to_frame())\n",
    "# Масштабирование данных на основе Z-оценки\n",
    "sts = StandardScaler()\n",
    "sts_acceleration = sts.fit_transform(jersey_number.to_frame())\n",
    "# Построение гистограмм\n",
    "plt.hist(jersey_number,40)\n",
    "plt.title(jersey_number.name+\"- исходный\")\n",
    "plt.show()\n",
    "plt.hist(mms_acceleration,40)\n",
    "plt.title(jersey_number.name+\"- MinMax\")\n",
    "plt.show()\n",
    "plt.hist(sts_acceleration,40)\n",
    "plt.title(jersey_number.name+\"- Z-оценка\")\n",
    "plt.show()"
   ]
  },
  {
   "cell_type": "markdown",
   "metadata": {},
   "source": [
    "# Выводы\n",
    "В результате выполнения работы были изучены методы устранения пропусков в данных, преобразования данных из категориальных в количественные, а также масштабирование данных."
   ]
  }
 ],
 "metadata": {
  "kernelspec": {
   "display_name": "Python 3",
   "language": "python",
   "name": "python3"
  },
  "language_info": {
   "codemirror_mode": {
    "name": "ipython",
    "version": 3
   },
   "file_extension": ".py",
   "mimetype": "text/x-python",
   "name": "python",
   "nbconvert_exporter": "python",
   "pygments_lexer": "ipython3",
   "version": "3.7.7"
  }
 },
 "nbformat": 4,
 "nbformat_minor": 4
}
